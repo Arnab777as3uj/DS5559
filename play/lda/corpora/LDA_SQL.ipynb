{
 "cells": [
  {
   "cell_type": "code",
   "execution_count": 1,
   "metadata": {},
   "outputs": [],
   "source": [
    "import sqlite3\n",
    "import pandas as pd"
   ]
  },
  {
   "cell_type": "code",
   "execution_count": 2,
   "metadata": {},
   "outputs": [],
   "source": [
    "db_file = ''"
   ]
  },
  {
   "cell_type": "code",
   "execution_count": null,
   "metadata": {},
   "outputs": [],
   "source": [
    "with sqlite3.connect(db_file) as db:\n",
    "    pass"
   ]
  },
  {
   "cell_type": "code",
   "execution_count": null,
   "metadata": {},
   "outputs": [],
   "source": [
    "sql1 = \"\"\"\n",
    "-- for each token in a document sample from this\n",
    "select \n",
    "\tword_id, \n",
    "\tword_str, \n",
    "\tsum(p_wz) as p_W\n",
    "from (\n",
    "\tselect \n",
    "\t\ttopic_id,  \n",
    "\t\tword_id, \n",
    "\t\tround((topic_weight * word_p), 8) as p_wz\n",
    "\tfrom doctopic dt\n",
    "\t\tjoin topicword_v tw\n",
    "\t\t\tusing (topic_id)\n",
    "\twhere doc_id = 10\n",
    "\torder by topic_id, p_wz desc\n",
    ")\n",
    "join word using(word_id)\n",
    "group by word_id\n",
    "order by p_W  desc\n",
    "limit 20\n",
    "\"\"\""
   ]
  }
 ],
 "metadata": {
  "kernelspec": {
   "display_name": "Python 3",
   "language": "python",
   "name": "python3"
  },
  "language_info": {
   "codemirror_mode": {
    "name": "ipython",
    "version": 3
   },
   "file_extension": ".py",
   "mimetype": "text/x-python",
   "name": "python",
   "nbconvert_exporter": "python",
   "pygments_lexer": "ipython3",
   "version": "3.7.2"
  }
 },
 "nbformat": 4,
 "nbformat_minor": 2
}
