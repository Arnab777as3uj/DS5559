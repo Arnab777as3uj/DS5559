{
 "cells": [
  {
   "cell_type": "markdown",
   "metadata": {
    "colab": {},
    "colab_type": "code",
    "id": "So3joukR0NLA",
    "slideshow": {
     "slide_type": "slide"
    }
   },
   "source": [
    "# Synopsis"
   ]
  },
  {
   "cell_type": "markdown",
   "metadata": {
    "colab": {},
    "colab_type": "code",
    "id": "So3joukR0NLA",
    "slideshow": {
     "slide_type": "slide"
    },
<<<<<<< HEAD
    "toc-hr-collapsed": false
=======
    "toc-hr-collapsed": true
>>>>>>> 8f324f8f918c0e4bea9bb48ca0eb50c5bcc3a2fc
   },
   "source": [
    "# Configuration"
   ]
  },
  {
   "cell_type": "code",
<<<<<<< HEAD
   "execution_count": 149,
=======
   "execution_count": 1,
>>>>>>> 8f324f8f918c0e4bea9bb48ca0eb50c5bcc3a2fc
   "metadata": {
    "colab": {},
    "colab_type": "code",
    "id": "So3joukR0NLA",
    "slideshow": {
     "slide_type": "-"
    }
   },
   "outputs": [],
   "source": [
<<<<<<< HEAD
    "slug = 'moby'\n",
    "db_file = 'moby.db'\n",
    "# OCHO = ['chap_num', 'para_num', 'sent_num', 'token_num']\n",
    "vocab_weight = 'tfidf_sum'\n",
    "vocab_weight_quantile = .94\n",
    "vocab_min_n = 3\n",
    "kde_kernel = 'gaussian'\n",
    "kde_bandwidth = 5000 #2000\n",
    "# kde_samples = 1000\n",
    "kde_samples = 1000"
=======
    "db_file = 'moby.db'\n",
    "OCHO = ['chap_num', 'para_num', 'sent_num', 'token_num']\n",
    "vocab_weight = 'tfidf_sum'\n",
    "# vocab_weight = 'tf_sum'\n",
    "vocab_weight_quantile = .9\n",
    "vocab_min_n = 3\n",
    "kde_kernel = 'gaussian'\n",
    "kde_bandwidth = 2000\n",
    "# kde_samples = 1000\n",
    "kde_samples = 100"
>>>>>>> 8f324f8f918c0e4bea9bb48ca0eb50c5bcc3a2fc
   ]
  },
  {
   "cell_type": "markdown",
   "metadata": {
    "colab": {},
    "colab_type": "code",
    "id": "So3joukR0NLA",
    "slideshow": {
     "slide_type": "slide"
    },
<<<<<<< HEAD
    "toc-hr-collapsed": false
=======
    "toc-hr-collapsed": true
>>>>>>> 8f324f8f918c0e4bea9bb48ca0eb50c5bcc3a2fc
   },
   "source": [
    "# Libraries"
   ]
  },
  {
   "cell_type": "code",
   "execution_count": 2,
   "metadata": {
    "colab": {},
    "colab_type": "code",
    "id": "So3joukR0NLA"
   },
   "outputs": [],
   "source": [
    "import pandas as pd\n",
    "import numpy as np\n",
    "import scipy as sp\n",
    "import sqlite3\n",
    "import matplotlib.pyplot as plt\n",
    "import seaborn as sns; sns.set()\n",
    "from sklearn.neighbors import KernelDensity as KDE"
   ]
  },
  {
   "cell_type": "markdown",
   "metadata": {
    "colab": {},
    "colab_type": "code",
    "id": "So3joukR0NLA",
    "slideshow": {
     "slide_type": "slide"
    }
   },
   "source": [
    "# Pragmas"
   ]
  },
  {
   "cell_type": "code",
<<<<<<< HEAD
   "execution_count": 85,
   "metadata": {
    "colab": {},
    "colab_type": "code",
    "id": "So3joukR0NLA"
   },
   "outputs": [],
   "source": [
    "from IPython.display import display, HTML"
   ]
  },
  {
   "cell_type": "code",
=======
>>>>>>> 8f324f8f918c0e4bea9bb48ca0eb50c5bcc3a2fc
   "execution_count": 3,
   "metadata": {
    "colab": {},
    "colab_type": "code",
    "id": "So3joukR0NLA"
   },
   "outputs": [
    {
     "data": {
      "text/plain": [
       "'/Users/rca2t/Dropbox/Courses/DSI/DS5559/MAIN_REPO/labs/2019-02-21_Lab06'"
      ]
     },
     "execution_count": 3,
     "metadata": {},
     "output_type": "execute_result"
    }
   ],
   "source": [
    "%matplotlib inline\n",
    "%pwd"
   ]
  },
  {
   "cell_type": "markdown",
   "metadata": {
    "colab": {},
    "colab_type": "code",
    "id": "So3joukR0NLA"
   },
   "source": [
    "# Functions"
   ]
  },
  {
   "cell_type": "code",
   "execution_count": 4,
   "metadata": {
    "colab": {},
    "colab_type": "code",
    "id": "So3joukR0NLA",
    "slideshow": {
     "slide_type": "-"
    }
   },
   "outputs": [],
   "source": [
    "def get_term_id(vocab, term_str):\n",
    "    return vocab[vocab.term_str == term_str].index[0]\n",
    "\n",
    "def get_term_str(vocab, term_id):\n",
    "    return vocab.loc[term_id].term_str"
   ]
  },
  {
   "cell_type": "markdown",
   "metadata": {
    "colab": {},
    "colab_type": "code",
    "id": "So3joukR0NLA",
    "toc-hr-collapsed": false
   },
   "source": [
    "# Process"
   ]
  },
  {
   "cell_type": "markdown",
   "metadata": {},
   "source": [
    "## Import tables from database"
   ]
  },
  {
   "cell_type": "code",
   "execution_count": 5,
   "metadata": {
    "colab": {},
    "colab_type": "code",
    "id": "So3joukR0NLA"
   },
   "outputs": [],
   "source": [
    "with sqlite3.connect(db_file) as db:\n",
    "    V = pd.read_sql(\"SELECT * FROM vocab WHERE stop = 0\", db, index_col='term_id')\n",
    "    K = pd.read_sql(\"SELECT term_id, term_str FROM token WHERE term_id >= 0\", db)"
   ]
  },
  {
   "cell_type": "markdown",
   "metadata": {
    "colab": {},
    "colab_type": "code",
    "id": "So3joukR0NLA"
   },
   "source": [
    "## Prepare Tokens index\n",
    "\n",
    "We don't have to flatten the index since we just grabbed one column from the table."
   ]
  },
  {
   "cell_type": "code",
   "execution_count": 6,
   "metadata": {
    "colab": {},
    "colab_type": "code",
    "id": "So3joukR0NLA"
   },
   "outputs": [],
   "source": [
    "K.rename_axis('offset', inplace=True)"
   ]
  },
  {
   "cell_type": "code",
   "execution_count": 7,
   "metadata": {
    "colab": {},
    "colab_type": "code",
    "id": "So3joukR0NLA"
   },
   "outputs": [
    {
     "data": {
      "text/html": [
       "<div>\n",
       "<style scoped>\n",
       "    .dataframe tbody tr th:only-of-type {\n",
       "        vertical-align: middle;\n",
       "    }\n",
       "\n",
       "    .dataframe tbody tr th {\n",
       "        vertical-align: top;\n",
       "    }\n",
       "\n",
       "    .dataframe thead th {\n",
       "        text-align: right;\n",
       "    }\n",
       "</style>\n",
       "<table border=\"1\" class=\"dataframe\">\n",
       "  <thead>\n",
       "    <tr style=\"text-align: right;\">\n",
       "      <th>offset</th>\n",
       "      <th>0</th>\n",
       "      <th>1</th>\n",
       "      <th>2</th>\n",
       "      <th>3</th>\n",
       "      <th>4</th>\n",
       "      <th>5</th>\n",
       "      <th>6</th>\n",
       "      <th>7</th>\n",
       "      <th>8</th>\n",
       "      <th>9</th>\n",
       "      <th>10</th>\n",
       "    </tr>\n",
       "  </thead>\n",
       "  <tbody>\n",
       "    <tr>\n",
       "      <th>term_id</th>\n",
       "      <td>5005</td>\n",
       "      <td>14441</td>\n",
       "      <td>1987</td>\n",
       "      <td>0</td>\n",
       "      <td>8383</td>\n",
       "      <td>3099</td>\n",
       "      <td>15981</td>\n",
       "      <td>15076</td>\n",
       "      <td>0</td>\n",
       "      <td>6389</td>\n",
       "      <td>12718</td>\n",
       "    </tr>\n",
       "    <tr>\n",
       "      <th>term_str</th>\n",
       "      <td>etymology</td>\n",
       "      <td>supplied</td>\n",
       "      <td>by</td>\n",
       "      <td>a</td>\n",
       "      <td>late</td>\n",
       "      <td>consumptive</td>\n",
       "      <td>usher</td>\n",
       "      <td>to</td>\n",
       "      <td>a</td>\n",
       "      <td>grammar</td>\n",
       "      <td>school</td>\n",
       "    </tr>\n",
       "  </tbody>\n",
       "</table>\n",
       "</div>"
      ],
      "text/plain": [
       "offset           0         1     2  3     4            5      6      7  8   \\\n",
       "term_id        5005     14441  1987  0  8383         3099  15981  15076  0   \n",
       "term_str  etymology  supplied    by  a  late  consumptive  usher     to  a   \n",
       "\n",
       "offset         9       10  \n",
       "term_id      6389   12718  \n",
       "term_str  grammar  school  "
      ]
     },
     "execution_count": 7,
     "metadata": {},
     "output_type": "execute_result"
    }
   ],
   "source": [
    "K.head(11).T"
   ]
  },
  {
   "cell_type": "markdown",
   "metadata": {
    "colab": {},
    "colab_type": "code",
    "id": "z8tLxDyWkcc1"
   },
   "source": [
    "## Filter Vocab"
   ]
  },
  {
   "cell_type": "code",
   "execution_count": 8,
   "metadata": {
    "colab": {},
    "colab_type": "code",
    "id": "z8tLxDyWkcc1"
   },
   "outputs": [],
   "source": [
    "V1 = V[(V[vocab_weight] > V[vocab_weight].quantile(vocab_weight_quantile)) & (V.n >= vocab_min_n)]"
   ]
  },
  {
   "cell_type": "code",
   "execution_count": 9,
   "metadata": {
    "colab": {
     "base_uri": "https://localhost:8080/",
     "height": 34
    },
    "colab_type": "code",
    "executionInfo": {
     "elapsed": 503,
     "status": "ok",
     "timestamp": 1550548332230,
     "user": {
      "displayName": "Rafael Alvarado",
      "photoUrl": "https://lh3.googleusercontent.com/-gvKWs7zR4JY/AAAAAAAAAAI/AAAAAAABqfk/Q8O12g6M_T4/s64/photo.jpg",
      "userId": "11010075019714369526"
     },
     "user_tz": 300
    },
    "id": "dbsfP2NNnqCQ",
    "outputId": "f4eec0fa-0280-4dff-8dd5-cd1e7c34e693"
   },
   "outputs": [
    {
     "data": {
      "text/plain": [
<<<<<<< HEAD
       "997"
=======
       "1653"
>>>>>>> 8f324f8f918c0e4bea9bb48ca0eb50c5bcc3a2fc
      ]
     },
     "execution_count": 9,
     "metadata": {},
     "output_type": "execute_result"
    }
   ],
   "source": [
    "V1.shape[0]"
   ]
  },
  {
   "cell_type": "code",
   "execution_count": 10,
   "metadata": {
    "colab": {
     "base_uri": "https://localhost:8080/",
     "height": 409
    },
    "colab_type": "code",
    "executionInfo": {
     "elapsed": 418,
     "status": "ok",
     "timestamp": 1550548336291,
     "user": {
      "displayName": "Rafael Alvarado",
      "photoUrl": "https://lh3.googleusercontent.com/-gvKWs7zR4JY/AAAAAAAAAAI/AAAAAAABqfk/Q8O12g6M_T4/s64/photo.jpg",
      "userId": "11010075019714369526"
     },
     "user_tz": 300
    },
    "id": "C9ZMvs8akBxK",
    "outputId": "269cca6e-65b0-4a2a-eef1-8d6da4d2b4dc"
   },
   "outputs": [
    {
     "data": {
      "text/html": [
       "<div>\n",
       "<style scoped>\n",
       "    .dataframe tbody tr th:only-of-type {\n",
       "        vertical-align: middle;\n",
       "    }\n",
       "\n",
       "    .dataframe tbody tr th {\n",
       "        vertical-align: top;\n",
       "    }\n",
       "\n",
       "    .dataframe thead th {\n",
       "        text-align: right;\n",
       "    }\n",
       "</style>\n",
       "<table border=\"1\" class=\"dataframe\">\n",
       "  <thead>\n",
       "    <tr style=\"text-align: right;\">\n",
       "      <th>term_id</th>\n",
       "      <th>15495</th>\n",
       "      <th>309</th>\n",
       "      <th>11645</th>\n",
       "      <th>13308</th>\n",
       "      <th>14222</th>\n",
       "      <th>16517</th>\n",
       "      <th>10840</th>\n",
       "      <th>13967</th>\n",
       "      <th>14982</th>\n",
       "      <th>1557</th>\n",
       "    </tr>\n",
       "  </thead>\n",
       "  <tbody>\n",
       "    <tr>\n",
       "      <th>term_str</th>\n",
       "      <td>um</td>\n",
       "      <td>ahab</td>\n",
       "      <td>queequeg</td>\n",
       "      <td>sir</td>\n",
       "      <td>stubb</td>\n",
       "      <td>whale</td>\n",
       "      <td>pip</td>\n",
       "      <td>starbuck</td>\n",
       "      <td>thunder</td>\n",
       "      <td>boat</td>\n",
       "    </tr>\n",
       "    <tr>\n",
       "      <th>n</th>\n",
       "      <td>12</td>\n",
       "      <td>511</td>\n",
       "      <td>252</td>\n",
       "      <td>175</td>\n",
       "      <td>257</td>\n",
       "      <td>1228</td>\n",
       "      <td>74</td>\n",
       "      <td>198</td>\n",
       "      <td>31</td>\n",
       "      <td>336</td>\n",
       "    </tr>\n",
       "    <tr>\n",
       "      <th>p</th>\n",
       "      <td>5.49413e-05</td>\n",
       "      <td>0.00233958</td>\n",
       "      <td>0.00115377</td>\n",
       "      <td>0.000801227</td>\n",
       "      <td>0.00117666</td>\n",
       "      <td>0.00562232</td>\n",
       "      <td>0.000338805</td>\n",
       "      <td>0.000906531</td>\n",
       "      <td>0.000141932</td>\n",
       "      <td>0.00153836</td>\n",
       "    </tr>\n",
       "    <tr>\n",
       "      <th>port_stem</th>\n",
       "      <td>um</td>\n",
       "      <td>ahab</td>\n",
       "      <td>queequeg</td>\n",
       "      <td>sir</td>\n",
       "      <td>stubb</td>\n",
       "      <td>whale</td>\n",
       "      <td>pip</td>\n",
       "      <td>starbuck</td>\n",
       "      <td>thunder</td>\n",
       "      <td>boat</td>\n",
       "    </tr>\n",
       "    <tr>\n",
       "      <th>stop</th>\n",
       "      <td>0</td>\n",
       "      <td>0</td>\n",
       "      <td>0</td>\n",
       "      <td>0</td>\n",
       "      <td>0</td>\n",
       "      <td>0</td>\n",
       "      <td>0</td>\n",
       "      <td>0</td>\n",
       "      <td>0</td>\n",
       "      <td>0</td>\n",
       "    </tr>\n",
       "    <tr>\n",
       "      <th>df</th>\n",
       "      <td>3</td>\n",
       "      <td>70</td>\n",
       "      <td>42</td>\n",
       "      <td>39</td>\n",
       "      <td>51</td>\n",
       "      <td>109</td>\n",
       "      <td>9</td>\n",
       "      <td>40</td>\n",
       "      <td>21</td>\n",
       "      <td>65</td>\n",
       "    </tr>\n",
       "    <tr>\n",
       "      <th>tf_sum</th>\n",
       "      <td>0.257471</td>\n",
       "      <td>0.733134</td>\n",
       "      <td>0.363031</td>\n",
       "      <td>0.289718</td>\n",
       "      <td>0.363467</td>\n",
       "      <td>1.52193</td>\n",
       "      <td>0.122757</td>\n",
       "      <td>0.264819</td>\n",
       "      <td>0.171703</td>\n",
       "      <td>0.419108</td>\n",
       "    </tr>\n",
       "    <tr>\n",
       "      <th>tf_mean</th>\n",
       "      <td>0.00187935</td>\n",
       "      <td>0.00535134</td>\n",
       "      <td>0.00264986</td>\n",
       "      <td>0.00211473</td>\n",
       "      <td>0.00265304</td>\n",
       "      <td>0.011109</td>\n",
       "      <td>0.000896038</td>\n",
       "      <td>0.00193299</td>\n",
       "      <td>0.00125331</td>\n",
       "      <td>0.00305918</td>\n",
       "    </tr>\n",
       "    <tr>\n",
       "      <th>tf_max</th>\n",
       "      <td>0.249882</td>\n",
       "      <td>0.0320354</td>\n",
       "      <td>0.033931</td>\n",
       "      <td>0.0471623</td>\n",
       "      <td>0.0399946</td>\n",
       "      <td>0.048448</td>\n",
       "      <td>0.0330782</td>\n",
       "      <td>0.0239968</td>\n",
       "      <td>0.138824</td>\n",
       "      <td>0.0304406</td>\n",
       "    </tr>\n",
       "    <tr>\n",
       "      <th>tfidf_sum</th>\n",
       "      <td>1.41946</td>\n",
       "      <td>0.710223</td>\n",
       "      <td>0.619227</td>\n",
       "      <td>0.525151</td>\n",
       "      <td>0.518161</td>\n",
       "      <td>0.502004</td>\n",
       "      <td>0.482203</td>\n",
       "      <td>0.470347</td>\n",
       "      <td>0.464579</td>\n",
       "      <td>0.45082</td>\n",
       "    </tr>\n",
       "    <tr>\n",
       "      <th>tfidf_mean</th>\n",
       "      <td>0.010361</td>\n",
       "      <td>0.00518411</td>\n",
       "      <td>0.00451991</td>\n",
       "      <td>0.00383322</td>\n",
       "      <td>0.0037822</td>\n",
       "      <td>0.00366426</td>\n",
       "      <td>0.00351973</td>\n",
       "      <td>0.00343319</td>\n",
       "      <td>0.00339109</td>\n",
       "      <td>0.00329066</td>\n",
       "    </tr>\n",
       "    <tr>\n",
       "      <th>tfidf_max</th>\n",
       "      <td>1.37762</td>\n",
       "      <td>0.0310342</td>\n",
       "      <td>0.0578766</td>\n",
       "      <td>0.0854878</td>\n",
       "      <td>0.0570166</td>\n",
       "      <td>0.0159805</td>\n",
       "      <td>0.129935</td>\n",
       "      <td>0.0426207</td>\n",
       "      <td>0.375617</td>\n",
       "      <td>0.0327439</td>\n",
       "    </tr>\n",
       "    <tr>\n",
       "      <th>tfth_sum</th>\n",
       "      <td>0.143814</td>\n",
       "      <td>3.30485</td>\n",
       "      <td>0.809927</td>\n",
       "      <td>0.506493</td>\n",
       "      <td>0.864639</td>\n",
       "      <td>13.2621</td>\n",
       "      <td>0.0840378</td>\n",
       "      <td>0.475704</td>\n",
       "      <td>0.11831</td>\n",
       "      <td>1.18415</td>\n",
       "    </tr>\n",
       "    <tr>\n",
       "      <th>tfth_mean</th>\n",
       "      <td>0.00104974</td>\n",
       "      <td>0.024123</td>\n",
       "      <td>0.00591187</td>\n",
       "      <td>0.00369703</td>\n",
       "      <td>0.00631123</td>\n",
       "      <td>0.0968034</td>\n",
       "      <td>0.000613414</td>\n",
       "      <td>0.00347229</td>\n",
       "      <td>0.000863575</td>\n",
       "      <td>0.00864345</td>\n",
       "    </tr>\n",
       "    <tr>\n",
       "      <th>tfth_max</th>\n",
       "      <td>0.139576</td>\n",
       "      <td>0.14441</td>\n",
       "      <td>0.0757005</td>\n",
       "      <td>0.0824504</td>\n",
       "      <td>0.0951417</td>\n",
       "      <td>0.422176</td>\n",
       "      <td>0.0226448</td>\n",
       "      <td>0.0431062</td>\n",
       "      <td>0.0956547</td>\n",
       "      <td>0.0860072</td>\n",
       "    </tr>\n",
       "    <tr>\n",
       "      <th>th_sum</th>\n",
       "      <td>0.558565</td>\n",
       "      <td>4.50784</td>\n",
       "      <td>2.23101</td>\n",
       "      <td>1.74823</td>\n",
       "      <td>2.37887</td>\n",
       "      <td>8.714</td>\n",
       "      <td>0.684585</td>\n",
       "      <td>1.79634</td>\n",
       "      <td>0.689038</td>\n",
       "      <td>2.82541</td>\n",
       "    </tr>\n",
       "    <tr>\n",
       "      <th>th_mean</th>\n",
       "      <td>0.00407712</td>\n",
       "      <td>0.0329039</td>\n",
       "      <td>0.0162848</td>\n",
       "      <td>0.0127608</td>\n",
       "      <td>0.017364</td>\n",
       "      <td>0.0636058</td>\n",
       "      <td>0.00499697</td>\n",
       "      <td>0.0131119</td>\n",
       "      <td>0.00502947</td>\n",
       "      <td>0.0206234</td>\n",
       "    </tr>\n",
       "    <tr>\n",
       "      <th>th_max</th>\n",
       "      <td>0.499934</td>\n",
       "      <td>0.15903</td>\n",
       "      <td>0.165626</td>\n",
       "      <td>0.207808</td>\n",
       "      <td>0.185737</td>\n",
       "      <td>0.211593</td>\n",
       "      <td>0.162678</td>\n",
       "      <td>0.129127</td>\n",
       "      <td>0.395463</td>\n",
       "      <td>0.153356</td>\n",
       "    </tr>\n",
       "  </tbody>\n",
       "</table>\n",
       "</div>"
      ],
      "text/plain": [
       "term_id           15495       309         11645        13308       14222  \\\n",
       "term_str             um        ahab    queequeg          sir       stubb   \n",
       "n                    12         511         252          175         257   \n",
       "p           5.49413e-05  0.00233958  0.00115377  0.000801227  0.00117666   \n",
       "port_stem            um        ahab    queequeg          sir       stubb   \n",
       "stop                  0           0           0            0           0   \n",
       "df                    3          70          42           39          51   \n",
       "tf_sum         0.257471    0.733134    0.363031     0.289718    0.363467   \n",
       "tf_mean      0.00187935  0.00535134  0.00264986   0.00211473  0.00265304   \n",
       "tf_max         0.249882   0.0320354    0.033931    0.0471623   0.0399946   \n",
       "tfidf_sum       1.41946    0.710223    0.619227     0.525151    0.518161   \n",
       "tfidf_mean     0.010361  0.00518411  0.00451991   0.00383322   0.0037822   \n",
       "tfidf_max       1.37762   0.0310342   0.0578766    0.0854878   0.0570166   \n",
       "tfth_sum       0.143814     3.30485    0.809927     0.506493    0.864639   \n",
       "tfth_mean    0.00104974    0.024123  0.00591187   0.00369703  0.00631123   \n",
       "tfth_max       0.139576     0.14441   0.0757005    0.0824504   0.0951417   \n",
       "th_sum         0.558565     4.50784     2.23101      1.74823     2.37887   \n",
       "th_mean      0.00407712   0.0329039   0.0162848    0.0127608    0.017364   \n",
       "th_max         0.499934     0.15903    0.165626     0.207808    0.185737   \n",
       "\n",
       "term_id          16517        10840        13967        14982       1557   \n",
       "term_str         whale          pip     starbuck      thunder        boat  \n",
       "n                 1228           74          198           31         336  \n",
       "p           0.00562232  0.000338805  0.000906531  0.000141932  0.00153836  \n",
       "port_stem        whale          pip     starbuck      thunder        boat  \n",
       "stop                 0            0            0            0           0  \n",
       "df                 109            9           40           21          65  \n",
       "tf_sum         1.52193     0.122757     0.264819     0.171703    0.419108  \n",
       "tf_mean       0.011109  0.000896038   0.00193299   0.00125331  0.00305918  \n",
       "tf_max        0.048448    0.0330782    0.0239968     0.138824   0.0304406  \n",
       "tfidf_sum     0.502004     0.482203     0.470347     0.464579     0.45082  \n",
       "tfidf_mean  0.00366426   0.00351973   0.00343319   0.00339109  0.00329066  \n",
       "tfidf_max    0.0159805     0.129935    0.0426207     0.375617   0.0327439  \n",
       "tfth_sum       13.2621    0.0840378     0.475704      0.11831     1.18415  \n",
       "tfth_mean    0.0968034  0.000613414   0.00347229  0.000863575  0.00864345  \n",
       "tfth_max      0.422176    0.0226448    0.0431062    0.0956547   0.0860072  \n",
       "th_sum           8.714     0.684585      1.79634     0.689038     2.82541  \n",
       "th_mean      0.0636058   0.00499697    0.0131119   0.00502947   0.0206234  \n",
       "th_max        0.211593     0.162678     0.129127     0.395463    0.153356  "
      ]
     },
     "execution_count": 10,
     "metadata": {},
     "output_type": "execute_result"
    }
   ],
   "source": [
    "V1.sort_values(vocab_weight, ascending=False).head(10).T"
   ]
  },
  {
   "cell_type": "markdown",
   "metadata": {
    "colab": {},
    "colab_type": "code",
    "id": "wY1ocHcN3Fx7"
   },
   "source": [
<<<<<<< HEAD
    "## Get list of top terms\n",
    "\n",
    "We'll use this later."
   ]
  },
  {
   "cell_type": "code",
   "execution_count": 43,
   "metadata": {
    "colab": {},
    "colab_type": "code",
    "id": "wY1ocHcN3Fx7"
   },
   "outputs": [],
   "source": [
    "TOP_TERMS = V.sort_values(vocab_weight, ascending=False).term_str.head(20).tolist()"
   ]
  },
  {
   "cell_type": "code",
   "execution_count": 44,
   "metadata": {
    "colab": {},
    "colab_type": "code",
    "id": "wY1ocHcN3Fx7"
   },
   "outputs": [
    {
     "data": {
      "text/plain": [
       "['um',\n",
       " 'ahab',\n",
       " 'queequeg',\n",
       " 'sir',\n",
       " 'stubb',\n",
       " 'whale',\n",
       " 'pip',\n",
       " 'starbuck',\n",
       " 'thunder',\n",
       " 'boat',\n",
       " 'oil',\n",
       " 'sperm',\n",
       " 'captain',\n",
       " 'flask',\n",
       " 'bildad',\n",
       " 'said',\n",
       " 'jonah',\n",
       " 'rum',\n",
       " 'aye',\n",
       " 'whales']"
      ]
     },
     "execution_count": 44,
     "metadata": {},
     "output_type": "execute_result"
    }
   ],
   "source": [
    "TOP_TERMS"
   ]
  },
  {
   "cell_type": "markdown",
   "metadata": {
    "colab": {},
    "colab_type": "code",
    "id": "wY1ocHcN3Fx7"
   },
   "source": [
=======
>>>>>>> 8f324f8f918c0e4bea9bb48ca0eb50c5bcc3a2fc
    "## Filter Tokens by Vocab"
   ]
  },
  {
   "cell_type": "code",
   "execution_count": 11,
   "metadata": {
    "colab": {},
    "colab_type": "code",
    "id": "wY1ocHcN3Fx7"
   },
   "outputs": [],
   "source": [
    "K = K[K.term_id.isin(V1.index)]"
   ]
  },
  {
   "cell_type": "code",
<<<<<<< HEAD
   "execution_count": 41,
=======
   "execution_count": 12,
>>>>>>> 8f324f8f918c0e4bea9bb48ca0eb50c5bcc3a2fc
   "metadata": {
    "colab": {},
    "colab_type": "code",
    "id": "wY1ocHcN3Fx7"
   },
   "outputs": [
    {
     "data": {
      "text/html": [
       "<div>\n",
       "<style scoped>\n",
       "    .dataframe tbody tr th:only-of-type {\n",
       "        vertical-align: middle;\n",
       "    }\n",
       "\n",
       "    .dataframe tbody tr th {\n",
       "        vertical-align: top;\n",
       "    }\n",
       "\n",
       "    .dataframe thead th {\n",
       "        text-align: right;\n",
       "    }\n",
       "</style>\n",
       "<table border=\"1\" class=\"dataframe\">\n",
       "  <thead>\n",
       "    <tr style=\"text-align: right;\">\n",
       "      <th>offset</th>\n",
<<<<<<< HEAD
       "      <th>4</th>\n",
=======
       "      <th>1</th>\n",
       "      <th>4</th>\n",
       "      <th>10</th>\n",
       "      <th>12</th>\n",
>>>>>>> 8f324f8f918c0e4bea9bb48ca0eb50c5bcc3a2fc
       "      <th>16</th>\n",
       "      <th>17</th>\n",
       "      <th>18</th>\n",
       "      <th>20</th>\n",
       "      <th>22</th>\n",
       "      <th>30</th>\n",
       "      <th>36</th>\n",
<<<<<<< HEAD
       "      <th>43</th>\n",
       "      <th>48</th>\n",
       "      <th>52</th>\n",
=======
>>>>>>> 8f324f8f918c0e4bea9bb48ca0eb50c5bcc3a2fc
       "    </tr>\n",
       "  </thead>\n",
       "  <tbody>\n",
       "    <tr>\n",
       "      <th>term_id</th>\n",
<<<<<<< HEAD
       "      <td>8383</td>\n",
=======
       "      <td>14441</td>\n",
       "      <td>8383</td>\n",
       "      <td>12718</td>\n",
       "      <td>10359</td>\n",
>>>>>>> 8f324f8f918c0e4bea9bb48ca0eb50c5bcc3a2fc
       "      <td>2686</td>\n",
       "      <td>6798</td>\n",
       "      <td>1571</td>\n",
       "      <td>1704</td>\n",
       "      <td>12864</td>\n",
       "      <td>10069</td>\n",
       "      <td>11646</td>\n",
<<<<<<< HEAD
       "      <td>6135</td>\n",
       "      <td>8271</td>\n",
       "      <td>16797</td>\n",
       "    </tr>\n",
       "    <tr>\n",
       "      <th>term_str</th>\n",
       "      <td>late</td>\n",
=======
       "    </tr>\n",
       "    <tr>\n",
       "      <th>term_str</th>\n",
       "      <td>supplied</td>\n",
       "      <td>late</td>\n",
       "      <td>school</td>\n",
       "      <td>pale</td>\n",
>>>>>>> 8f324f8f918c0e4bea9bb48ca0eb50c5bcc3a2fc
       "      <td>coat</td>\n",
       "      <td>heart</td>\n",
       "      <td>body</td>\n",
       "      <td>brain</td>\n",
       "      <td>see</td>\n",
       "      <td>old</td>\n",
       "      <td>queer</td>\n",
<<<<<<< HEAD
       "      <td>gay</td>\n",
       "      <td>known</td>\n",
       "      <td>world</td>\n",
=======
>>>>>>> 8f324f8f918c0e4bea9bb48ca0eb50c5bcc3a2fc
       "    </tr>\n",
       "  </tbody>\n",
       "</table>\n",
       "</div>"
      ],
      "text/plain": [
<<<<<<< HEAD
       "offset      4     16     17    18     20     22     30     36    43     48  \\\n",
       "term_id   8383  2686   6798  1571   1704  12864  10069  11646  6135   8271   \n",
       "term_str  late  coat  heart  body  brain    see    old  queer   gay  known   \n",
       "\n",
       "offset       52  \n",
       "term_id   16797  \n",
       "term_str  world  "
      ]
     },
     "execution_count": 41,
=======
       "offset          1     4       10     12    16     17    18     20     22  \\\n",
       "term_id      14441  8383   12718  10359  2686   6798  1571   1704  12864   \n",
       "term_str  supplied  late  school   pale  coat  heart  body  brain    see   \n",
       "\n",
       "offset       30     36  \n",
       "term_id   10069  11646  \n",
       "term_str    old  queer  "
      ]
     },
     "execution_count": 12,
>>>>>>> 8f324f8f918c0e4bea9bb48ca0eb50c5bcc3a2fc
     "metadata": {},
     "output_type": "execute_result"
    }
   ],
   "source": [
    "K.head(11).T"
   ]
  },
  {
   "cell_type": "markdown",
   "metadata": {
    "colab": {},
    "colab_type": "code",
    "id": "wY1ocHcN3Fx7"
   },
   "source": [
    "## Create arrays of offsets for each term"
   ]
  },
  {
   "cell_type": "code",
   "execution_count": 13,
   "metadata": {
    "colab": {},
    "colab_type": "code",
    "id": "wY1ocHcN3Fx7"
   },
   "outputs": [],
   "source": [
    "B = K.reset_index().groupby(['term_str']).offset.apply(lambda x: x.tolist()).to_frame()"
   ]
  },
  {
   "cell_type": "code",
   "execution_count": 14,
   "metadata": {
    "colab": {},
    "colab_type": "code",
    "id": "wY1ocHcN3Fx7"
   },
   "outputs": [],
   "source": [
    "B['x'] = B.apply(lambda x: np.array(x.offset)[:, np.newaxis], 1)"
   ]
  },
  {
   "cell_type": "code",
   "execution_count": 15,
   "metadata": {
    "colab": {},
    "colab_type": "code",
    "id": "wY1ocHcN3Fx7"
   },
   "outputs": [
    {
     "data": {
      "text/html": [
       "<div>\n",
       "<style scoped>\n",
       "    .dataframe tbody tr th:only-of-type {\n",
       "        vertical-align: middle;\n",
       "    }\n",
       "\n",
       "    .dataframe tbody tr th {\n",
       "        vertical-align: top;\n",
       "    }\n",
       "\n",
       "    .dataframe thead th {\n",
       "        text-align: right;\n",
       "    }\n",
       "</style>\n",
       "<table border=\"1\" class=\"dataframe\">\n",
       "  <thead>\n",
       "    <tr style=\"text-align: right;\">\n",
       "      <th></th>\n",
       "      <th>offset</th>\n",
       "      <th>x</th>\n",
       "    </tr>\n",
       "    <tr>\n",
       "      <th>term_str</th>\n",
       "      <th></th>\n",
       "      <th></th>\n",
       "    </tr>\n",
       "  </thead>\n",
       "  <tbody>\n",
       "    <tr>\n",
       "      <th>aboard</th>\n",
       "      <td>[12341, 25307, 26704, 37595, 37597, 39781, 405...</td>\n",
       "      <td>[[12341], [25307], [26704], [37595], [37597], ...</td>\n",
       "    </tr>\n",
       "    <tr>\n",
<<<<<<< HEAD
=======
       "      <th>absent</th>\n",
       "      <td>[4243, 50269, 63264, 63331, 63478, 92308, 9329...</td>\n",
       "      <td>[[4243], [50269], [63264], [63331], [63478], [...</td>\n",
       "    </tr>\n",
       "    <tr>\n",
>>>>>>> 8f324f8f918c0e4bea9bb48ca0eb50c5bcc3a2fc
       "      <th>according</th>\n",
       "      <td>[31869, 39061, 47076, 54078, 57615, 71405, 809...</td>\n",
       "      <td>[[31869], [39061], [47076], [54078], [57615], ...</td>\n",
       "    </tr>\n",
       "    <tr>\n",
       "      <th>account</th>\n",
       "      <td>[2130, 3454, 3835, 5372, 10724, 28907, 28930, ...</td>\n",
       "      <td>[[2130], [3454], [3835], [5372], [10724], [289...</td>\n",
       "    </tr>\n",
       "    <tr>\n",
       "      <th>across</th>\n",
       "      <td>[18676, 37754, 38345, 72169, 85025, 85754, 870...</td>\n",
       "      <td>[[18676], [37754], [38345], [72169], [85025], ...</td>\n",
       "    </tr>\n",
<<<<<<< HEAD
       "    <tr>\n",
       "      <th>act</th>\n",
       "      <td>[5316, 7820, 18240, 42535, 64501, 65252, 92516...</td>\n",
       "      <td>[[5316], [7820], [18240], [42535], [64501], [6...</td>\n",
       "    </tr>\n",
=======
>>>>>>> 8f324f8f918c0e4bea9bb48ca0eb50c5bcc3a2fc
       "  </tbody>\n",
       "</table>\n",
       "</div>"
      ],
      "text/plain": [
       "                                                      offset  \\\n",
       "term_str                                                       \n",
       "aboard     [12341, 25307, 26704, 37595, 37597, 39781, 405...   \n",
<<<<<<< HEAD
       "according  [31869, 39061, 47076, 54078, 57615, 71405, 809...   \n",
       "account    [2130, 3454, 3835, 5372, 10724, 28907, 28930, ...   \n",
       "across     [18676, 37754, 38345, 72169, 85025, 85754, 870...   \n",
       "act        [5316, 7820, 18240, 42535, 64501, 65252, 92516...   \n",
=======
       "absent     [4243, 50269, 63264, 63331, 63478, 92308, 9329...   \n",
       "according  [31869, 39061, 47076, 54078, 57615, 71405, 809...   \n",
       "account    [2130, 3454, 3835, 5372, 10724, 28907, 28930, ...   \n",
       "across     [18676, 37754, 38345, 72169, 85025, 85754, 870...   \n",
>>>>>>> 8f324f8f918c0e4bea9bb48ca0eb50c5bcc3a2fc
       "\n",
       "                                                           x  \n",
       "term_str                                                      \n",
       "aboard     [[12341], [25307], [26704], [37595], [37597], ...  \n",
<<<<<<< HEAD
       "according  [[31869], [39061], [47076], [54078], [57615], ...  \n",
       "account    [[2130], [3454], [3835], [5372], [10724], [289...  \n",
       "across     [[18676], [37754], [38345], [72169], [85025], ...  \n",
       "act        [[5316], [7820], [18240], [42535], [64501], [6...  "
=======
       "absent     [[4243], [50269], [63264], [63331], [63478], [...  \n",
       "according  [[31869], [39061], [47076], [54078], [57615], ...  \n",
       "account    [[2130], [3454], [3835], [5372], [10724], [289...  \n",
       "across     [[18676], [37754], [38345], [72169], [85025], ...  "
>>>>>>> 8f324f8f918c0e4bea9bb48ca0eb50c5bcc3a2fc
      ]
     },
     "execution_count": 15,
     "metadata": {},
     "output_type": "execute_result"
    }
   ],
   "source": [
    "B.head()"
   ]
  },
  {
   "cell_type": "markdown",
   "metadata": {
    "colab": {},
    "colab_type": "code",
    "id": "WmpxJkotxb8q",
    "toc-hr-collapsed": true
   },
   "source": [
    "## Get KDE for each term"
   ]
  },
  {
   "cell_type": "code",
   "execution_count": 16,
   "metadata": {
    "slideshow": {
     "slide_type": "-"
    }
   },
   "outputs": [],
   "source": [
    "scale_max = K.index.max() # THIS IS CRUCIAL\n",
<<<<<<< HEAD
    "x_axis = np.linspace(0, scale_max, kde_samples)[:, np.newaxis]\n",
    "B['kde'] = B.apply(lambda row: KDE(kernel=kde_kernel, bandwidth=kde_bandwidth).fit(row.x), 1)\n",
    "B['scores'] = B.apply(lambda row: row.kde.score_samples(x_axis), axis=1)\n",
    "# B['scaled'] = B.apply(lambda row: np.exp(row.scores) * (scale_max / kde_samples), axis=1)"
   ]
  },
  {
   "cell_type": "markdown",
   "metadata": {},
   "source": [
    "## Visualize KDE plots"
=======
    "B['kde'] = B.apply(lambda row: KDE(kernel=kde_kernel, bandwidth=kde_bandwidth).fit(row.x), 1)\n",
    "x_axis = np.linspace(0, scale_max, kde_samples)[:, np.newaxis]\n",
    "B['scores'] = B.apply(lambda row: row.kde.score_samples(x_axis), axis=1)\n",
    "B['scaled'] = B.apply(lambda row: np.exp(row.scores) * (scale_max / kde_samples), axis=1)"
>>>>>>> 8f324f8f918c0e4bea9bb48ca0eb50c5bcc3a2fc
   ]
  },
  {
   "cell_type": "code",
   "execution_count": 17,
<<<<<<< HEAD
   "metadata": {
    "slideshow": {
     "slide_type": "-"
    }
   },
   "outputs": [],
   "source": [
    "PLOTS = B.apply(lambda row: pd.Series(np.exp(row.scores) * (scale_max / kde_samples)), axis=1)"
   ]
  },
  {
   "cell_type": "code",
   "execution_count": 18,
   "metadata": {},
   "outputs": [],
   "source": [
    "FIG = dict(figsize=(15, 5))"
   ]
  },
  {
   "cell_type": "code",
   "execution_count": 19,
   "metadata": {},
   "outputs": [
    {
     "data": {
      "text/plain": [
       "<matplotlib.axes._subplots.AxesSubplot at 0x1a253b3470>"
      ]
     },
     "execution_count": 19,
     "metadata": {},
     "output_type": "execute_result"
    },
    {
     "data": {
      "image/png": "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\n",
      "text/plain": [
       "<Figure size 1080x360 with 1 Axes>"
      ]
     },
     "metadata": {
      "needs_background": "light"
     },
     "output_type": "display_data"
    }
   ],
   "source": [
    "PLOTS.loc['ahab'].plot(**FIG)\n",
    "PLOTS.loc['whale'].plot(**FIG)"
   ]
  },
  {
   "cell_type": "code",
   "execution_count": 20,
   "metadata": {},
   "outputs": [
    {
     "data": {
      "text/plain": [
       "<matplotlib.axes._subplots.AxesSubplot at 0x1a253de160>"
      ]
     },
     "execution_count": 20,
     "metadata": {},
     "output_type": "execute_result"
    },
    {
     "data": {
      "image/png": "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\n",
      "text/plain": [
       "<Figure size 1080x360 with 1 Axes>"
      ]
     },
     "metadata": {
      "needs_background": "light"
     },
     "output_type": "display_data"
    }
   ],
   "source": [
    "PLOTS.loc['ahab'].plot(**FIG)\n",
    "PLOTS.loc['deck'].plot(**FIG)"
   ]
  },
  {
   "cell_type": "code",
   "execution_count": 21,
=======
>>>>>>> 8f324f8f918c0e4bea9bb48ca0eb50c5bcc3a2fc
   "metadata": {},
   "outputs": [
    {
     "data": {
      "text/plain": [
<<<<<<< HEAD
       "<matplotlib.axes._subplots.AxesSubplot at 0x1a2540ef98>"
      ]
     },
     "execution_count": 21,
=======
       "[<matplotlib.lines.Line2D at 0x1a25ca4048>]"
      ]
     },
     "execution_count": 17,
>>>>>>> 8f324f8f918c0e4bea9bb48ca0eb50c5bcc3a2fc
     "metadata": {},
     "output_type": "execute_result"
    },
    {
     "data": {
<<<<<<< HEAD
      "image/png": "iVBORw0KGgoAAAANSUhEUgAAA4QAAAE3CAYAAADyj4/JAAAABHNCSVQICAgIfAhkiAAAAAlwSFlzAAALEgAACxIB0t1+/AAAADl0RVh0U29mdHdhcmUAbWF0cGxvdGxpYiB2ZXJzaW9uIDMuMC4yLCBodHRwOi8vbWF0cGxvdGxpYi5vcmcvOIA7rQAAIABJREFUeJzs3Xl8nPdd6PvPs8xo3zXaN0u2HtuxHTvxkj1NmzZd0haaQmkKPVy4lAIFzuXwAu6Llgucy2U/5bSHcnvpgRZ6QguBttA2aZukaRbHSezEiyzrsWRr3/fROjPPcv8YjSPbkjWS5pnRSN/365VX5Jnn+f2+ciYjfef3+32/iuu6CCGEEEIIIYTYedRUByCEEEIIIYQQIjUkIRRCCCGEEEKIHUoSQiGEEEIIIYTYoSQhFEIIIYQQQogdShJCIYQQQgghhNihJCEUQgghhBBCiB1KEkIhhBBCCCGE2KEkIRRCCCGEEEKIHUoSQiGEEEIIIYTYoSQhFEIIIYQQQogdarskhDrQsPRvIYQQQgghhNhpNpQTbZcEqh7oAO4H+lIcixBCCCGEEEIkWw3wIrAbuBLvTdslIaxc+veLKY1CCCGEEEIIIVKrkh2YEA4CTE7O4ThuqmO5TklJLuPjs6kOQ2xj8hoTXpLXl/CSvL6E1+Q1Jry01V5fqqpQVJQDS7lRvLZLQmgDOI675RJCYEvGJLYXeY0JL8nrS3hJXl/Ca/IaE17aoq8vez0Xb5eiMkIIIYQQQggh1kkSQiGEEEIIIYTYoSQhFEIIIYQQQogdShJCIYQQQgghhNihJCEUQgghhBBCiB1KEkIhhBBCCCGE2KEkIRRCCCGEEEKIHUoSQiGEEEIIIYTYobZLY3ohhBDCM6Gwzb+/3Mmb7WPkZ/t49N4GDuwqSXVYQgghxKbJCqEQQghxC4thi7/4+ps89WoPZUVZTM2G+ezXz3Hq4lCqQxNCCCE2TVYIhRBCiFv4X9+/zNWBIL/y4we40ygjHLH57D+f48tPtdFQmU9FcXaqQxRCCCE2TFYIhRBCiFWYPZO83DLE++5u4E6jDAC/T+MTH7gNTVP52rPtKY5QCCGE2BxJCIUQQogVuK7Lv75wlcJcP4/eXX/dc0V5Gbzv7nrOXxmno386RREKIYQQmycJoRBCCLGCC1fH6eib5v337sLv0256/h131JCdofOD13tTEJ0QQgiRGJIQbgEjUwuMTi2kOgwhhBDLPP1qDyX5mdx/qHLF5zP8GvffXskZc5TgXDjJ0QkhhBCJEVdRGcMwHgc+DfiAvzJN869veP4w8CUgH3gB+KRpmpZhGHXAV4EywAQ+ZprmrGEY+4AvLl2/APySaZpnDcOoB1qAK0tDD5um+chmv8mtynFc/v6pS7x8IVqp7oHbK/n4I3tRVSXFkQkhxM42NDFPW88Ujz3YiK6t/tnpPQcq+d5rvZwxR3jojpokRiiEEEIkxporhIZhVAN/BNwHHAY+YRjG/hsu+yrwKdM0mwEF+IWlx78AfME0zb3AaeAzS4//LfCnpmkeBn4X+MrS40eBJ0zTPLz0z7ZNBgH+7YWrvHxhiEeO1/Lw0RpeODfIt17qTHVYQgixImd2AmuoHTcSSnUonnvh7ACaqnDfwZVXB2NqAjlUlmTz2qWRJEUmhBBCJFY8K4QPA8+ZpjkBYBjGk8CHgT9c+nM9kGWa5qml678M/IFhGF8CHgB+bNnjPwJ+m+hq4tNLj58H6pa+PgYcMAzjLDAB/Lppmhc2+s1tZYPjc3zvtR7uO1jJR96+B9d1mVuI8N1T3dxzsILyIiljLoTYGlzHIfTq14lc+D7gQkYOWW/739Hrj6Q6NE9ELIeXLgxyeE8pBbkZt7xWURSO7S3jP17uYnImRFHera8XQgghtpp4zhBWAYPL/jwI1MTxfCkQNE3TuvE+0zS/bJqmvfT4HwLfXPp6kehq4x3AXwDfNAzDH/d3k0aeOtWDpil8+G1NQPSXip94aDeaqvDUqe4URyeEEG8Jv/4kkQvfw7f3QTLf9auoeQEWvv95rIFLqQ7NExc7J5hdiHD/oaq4rj++rxwXOG3KKqEQQoj0E88KoQq4y/6sAE4cz9/4OMvvMwxDAf4cuAt4CMA0zd9fdu13DcP4Y2AfcC6OOCkpyY3nsqQLBPKu+/P0bIhTrcO860QdTQ0l11330NFafni6l1987DD5OdsyFxYeuPE1JkSiLPa2ET73XfKOvIvAe38RAOfQcfr//rcJ/+hvKf/k51D9WSmOMrEu/OAyuVk+HjxWd8vzgzGBQB7VgVzMvmkef8+NJyrEWuT9S3hNXmPCS9vh9RVPQtgH3L/szxXAwA3PV67w/AhQYBiGtrQaWBm7zzAMHfgHoBp4yDTN6aXHf5XoGcLxpbEUIBLvNzM+Povj3JiDplYgkMfo6Mx1jz17pg/LdrhrX9lNz929r4zvnerm6ZeuSIECEZeVXmNCJILrukR+8PcoOUW4hx+77nXmu+/nmP/W/83AM18n49hjKYwysSKWzamWQe40ypicmIv7vr21hbx4YYCBwWl8uhTwjpe8fwmvyWtMeGmrvb5UVdnQAlk8P7WeAd5hGEbAMIxs4DHeOv+HaZrdwKJhGPcuPfQzwFOmaUaAF4GPLD3+ceCppa//gmiF0XfFksElDwI/D2AYxoOABrSt+7va4l5tHaYmkEtN4Ob/YLVluVSV5nCqdTgFkQkhxFvs/ouEBjvw3/FBFN/1Z+O08t3ojccJt/wAd3E2RREmXkvnBAshm2N7y9Z13/5dRYQjDlcHpEm9EEKI9LJmQmiaZj/RSqA/BM4SXcF7zTCM7xqGcXTpso8BnzUMow3IBT639PgvE61K2kp0lfHThmEEgE8BBvCqYRhnl4rIAPw68E7DMFqIJo0fNU1z+fbUtDc9G6Kjf5pj+1b+ZSNWoKCjb5qZeelrJYRIncjFZ9FyCvE137vi8/4j74fIIpHLLyY5Mu+cMUfJydTZV1+0rvuM2iJUReFi16RHkQkhhBDeiKsPoWmaTwBP3PDYe5d9fQ44vsJ93cDb4p13Kfl8ZzwxpavzV6K7YW9vKln1mgONxXzrpU5auyY5sb88WaEJIcQ1zkIQq+c8BScexdF8K16jldSilu8m0vYCvoPvRlHSu4eq47q0XB3nQGNJXGcHl8vO1NlVlUdr1wQ/fk812BZKRo5HkQohhBCJIwcdkuz81XGK8jKoLVt9f++uinxyMnVaOsdXvUYIIbxkXXkNXJu8gw/e8jq/8QDO1CD2cEeSIvNO7/AswfkIB3YVb+j+I1U6Dwb/g9m//2Vmv/IrzP3b/4U1aCY4SiGEECKxJCFMItd1udw7xf76olt+kq6qCvsairnYOYHrbq0iOUKInSHS/jJqSS3+svpbXqc3HQdfJpG2HyUpMu9cuBr9EG4jCaEzNcTdvX/HPl8/03X34T/2YdzQPAvf/jMiV15LdKhCCCFEwkhCmERDE/PMzEfYU1u45rUHdhUzNRumfyz+KndCCJEITnAEZ7QT3+571rxW8WWi7zqG1XkG17bWvH4ra+mcoK4sd81m9DdyIyHmn/4suuLw2eB7OJPzNjKOPErOY3+IVt7E4g//P+yRqx5FLYQQQmyOJIRJZPZOAWDEmRACtHZOeBqTEELcyOo9D4DecCSu630Nd0BkAXswfYtCzy9aXOmf5kDj6ue7VxN6/Unc4DBZ7/wUanENV/qjlUYVfxZZ7/o1lKx8Fp//W1xLCoUJIYTYeiQhTKLLvVPk5/gpK1q7iXNxfialBZl0DASTEJkQQrzF6r2Akl+GWlAR1/VazW2g+7G63vA4Mu9c6p7EdlwONq5vu6g93EGk5Rl8+9+BXrWXpqoCrgwEcZa2+yuZuWTe/7M4U4NELv3Qi9CFEEKITZGEMInae6dori2MuxJfY1W+9LQSQiSVa4WxBy6h1xyM+x5F96PXHMDqPpu2554vdo6T4ddoqi5Y132h155EyS4g4/iHAWiqzmchZDE4Pn/tGr3uEFrVPsJvfhs3vJDQuIUQQojNkoQwScamFxgPhuLaLhrTWFXARDDE5EzIw8iEEOIt9lA7WGH0uvgTQgC94Q7cuQmcsW6PIvOO67pcuDrB/vqidbWbsAZN7ME2/Le/B8Uf3fmxeymhjG0bjck49hju4gzhlh8kLnAhhBAiASQhTJKuwRkguuoXr6ala2WVUAiRLFbfBVB1tMp967pPqz0UvX/p/GE6GZqYZzy4uO7zg+E3/h0lKx/fvrdde6yiOJucTP2m922tfDda7SEiF59J++I7QgghthdJCJOke3gGTVWoCazef/BGdeV56JrCVTlHKIRIEnvQRCtvQvGtr9KmmpWPWlKHPXDJo8i803I1WrxrPe0m7Ml+7P6L+A4+gqK/9XelKAr1FXl0D83edI//todxF4JpfdZSCCHE9iMJYZJ0D81QXZqDT4//r9ynq9SW5XFFEkIhRBK4kUWcsW60iuYN3a9V78cease10mub+4XOccqLswkUrl3wKyZy6XlQdXx7H7jpufryPPrHZrFs57rHtdoDKHkBIq3PbjZkIYQQImEkIUwC13XpHp6hriJv3fc2VeXTNRjEdpy1LxZCiE2wR66C66BV7NnQ/Xr1fnCs6DnENBGO2FzumVrX6qBrhYm0n0TfdSdq5s3v63XleVi2y8ANfWQVRcW37yHsQRN7cmDTsQshhBCJIAlhEkzOhJiZj1Bfvv6EsL4ij7DlMDwhlemEEN6yhy4DClr57g3dr1UYoGrY/a2JDcxDl/umCFvOutpNWJ2nITR33dnB5eqXPvzrHpq56Tlf872gKFgdr2woXiGEECLRJCFMgtgvBfUbWCGsLYueOewbvfk8ihBCJJI91I5aUoPiz97Q/YovA62sCSuNEsKWqxPomopRWxT3PZH2kyh5AbTKvSs+X1aURYZfo2f45vdtNbsArWo/kSuvpm2LDiGEENuLJIRJ0D08g6JA7ToKysRUluSgqQq9I5IQCiG84zo29nAHWvnGzg/GaFV7cca7cSOLCYrMWy2dEzTXFpDh1+K63lkIYve34ms6vmpPWVVRqCvLpXv45hVCAF/TCdzgCM5o54bjFkIIIRJFEsIk6BmepaI4O+5fOJbz6SoVJdmSEAohPOVM9IEVQqvY2HbRGK18N7hu9DziFjcRXGRgbI4Du+JvN2F1ngbXQW86ccvr6svz6BmZwXFuXgXUd90Jqk7kyqvrjlkIIYRINEkIk6BvdPba1s+NqC3LlYRQCOEpe2m1Sgs0bmocrawJULCHt35hmZbOaLuJdZ0fvPIqamElanHtLa+rK88jHHEYnpy/6TklIwet5gBW52nZNiqEECLlJCH02ELIYmx6karSnA2PUVuWy+RMiNmFSAIjE0KItzijXeDPQskv29Q4SkYOalF1WlQavXB1nKK8jLjfn535aezBy+iNq28Xjakpi47ZPzq34vN6wxHc2XGcid71BS2EEEIkmCSEHutdOkNSvcmEcPlYQgiRaPZYF1pg15qJTjy0it3Yw1dw3a3bLsd2HFq7Jjmwqzju79nuOQe46A13rHltZUkOCtA/tkpCWHcYULC634w/aCGEEMIDkhB6rGepwujmVgij1Ull26gQwguuHcGZ6EUrbUjIeFr5Hogs4Ez2J2Q8L1wdCLIQsjjYuI7zgz3nUHKKUUvq1rw2w6cRKMqif5UK0Wp2AWp5E1aXJIRCCCFSSxJCj/UMz6BrCmVFWRseoyDHT162b9VPmoUQYjOciT5wbNRAQ0LGizW2t4c6EjKeFy5cnUBRYF9DfO0mXCuM1deCXnd73CuK1aU5t3zf1usP44x14cxOxDWeEEII4QVJCD3WMxSkojgHTd3cX3VlSQ6D4zcXJxBCiM26VlCmdFdCxlPyAihZ+Vu6sEzL1XEaq/LJyfTFdb09aIIVQq8/HPcc1YEchicWiFgrb52NbhsFq+9C3GMKIYQQiSYJocd6hmeoDmx8u2hMVWkOA2NzUpFOCJFwzlgXZOSg5JUmZDxFUdDK92APb80Vwum5MF1DMxxqiv/7tbrPgu5Hq9oX9z3Vpbk4rsvQxMof5qlF1SjZhdh9F+MeUwghhEg0SQg9tBCyGJ1c2NT5wZjKkmzmQxbBuXACIhNCiLfY471oJXUJKSgTo1XsjjZfn59O2JiJ0nJ1HIBDcZ4fdF0Xq+csevVtKLo/7nliHwaudo5QUZRo+4n+i7jO1i3AI4QQYnuThNBDI5MLwOYqjMZUlUTHGJBto0KIBHIdB2eif82+euulljUB4CxtR91Kzl8ZpyDXT115fP1hnck+3NlxtHVsFwWoKM5GU5VbnyOsOQChuegqrRBCCJECkhB6qKo0h//t0f3rqmJ3q7EABselsIwQInHcmRGww2jFNQkdVyupB0W5dj5xq7Adh5bOCQ42lsTfbqKvBQC99tC65tI1lYri7FV7EQJoNbcBCtbSHEIIITbHmZskfOF7LL70D4ReexJrqF2OXK1BT3UA25lPV/nQQ3sYHd18/8DCXD+Zfo3BMVkhFEIkjj3RB4Ca4IRQ8WWgFlZjb7GVr46+aRZCVtzbRQGsgTaUggrUnPgqki5XVZpD11Bw1efVzDzU0vpo0nnHB9Y9vhBCiCjXcQi/8U3CZ78Djg0ZORBehLPfRqs9ROaDP4eaXZjqMLckSQjThKIoVJbkMCArhEKIBHIm+gAFtbg64WOrgQbs3vO4rpvQ84mbcf7qOJqqcNuu4riudx0be/AyvqYTG5qvOpDD620jhMI2GX5txWv0mgOEzz2FG15A8W+8RZEQQuxUrhVm8bkvYnWdQd99Nxl3/hhqQTluZJHIpR8Rev1fmf/WH5H9/t9Bzd38zr3tRraMppGq0mxJCIUQCeVM9KHkl6HoGQkfWws04C4Ecee2Tp+9C1fG2VNTQFZGfJ+HOuM9EFlAq9q7ofmqS6PnFG/13q3V3AaujT3QtqE5hBBiJ3Ndh8Vn/war6w0y7v4oWW//RdSCcgAUXyb+Q4+Q/f7fwV2cZeH7n8e1pEDjjSQhTCNVJTlMz4aZX7RSHYoQYpuwJ/oSfn4wRgtE+xrao12ejL9eY1ML9I3OravdhD1wCWDDCWHNUqXRvlUqjQJo5XtA92P1yzlCIYRYr/Dpb2B1v0nGPY/jP/jIitdoZY1kvf0TOGNdLL70j0mOcOuThDCNlBVlAzA8KecIhRCb51ph3OBwws8PxqjFtaBoW6bS6GlzFIA7jEDc91gDbaiFlRs+d1JamImuKQzdokK0ouloFc3YA+aG5hBCiJ3K6m8l/OZ/4DMewHfbw7e8Vq8/gv/wo1iXX8Ra+rBPRElCmEbKi6NnS2LtLIQQYjOcyQFwXc8SQkX3oxZXb5lKo2cuj1BXnktZYXzn9FzHxh66vK5m9DfSVJWyouxVm9Nfu65qL85kH87C6gVohBBCvMWNLLL4wt+hFJSTce9Px3VW3X/HB1DySgm9/FVcR3bcxUhCmEZiv8TICqEQIhGciV4AtAT3IFxOC+zCHutKecnvyZkQV/qD3GmUxX2PM9YFkUW0yo1tF42pLM5mcI0esvrSHPagrBIKIUQ8Qqe/gTszTuaDP4+i++O6R9H9ZNz9OM5kP5G2FzyOMH1IQphG/D6N4vwMhidkhVAIsXn2RB9ofpT8+JOk9VIDuyA0hzsz6tkc8XjjcnT+o+vcLgobPz8YU1GSzejUApbtrHqNGmgAPUMKywghRByc6WEiF5/BZ9yPXtG8rnv1+iOoZU2Ez30X17E9ijC9SEKYZsqLshmRFUIhRAI4E32oxdUoqnc/CrRAA5D6wjKvXByiJpBDZUlO3PfYA5dQi6pQs/I3NXdFcTa24zI2vbjqNYqqo1U2Yw/KuRYhhFhL6LV/AVXHf+xD675XURQyjjyKOzOGdeVVD6JLP5IQppnyoiyG5QyhECIBnIle1CJvzg/GqEU1oOq3PEc4NRvibPsY56+MMTOf+HLgg+NzXB0Ics+ByrjvcR0Le6gdrXLj5wdjKkqyr8VxK1rlXpzJATlHKIQQt2CPXMXqPI3/9vduuOCXVnc7alEN4bPfSfmRhq1AGtOnmbKibGYXIswtRsjJ9KU6HCFEmnIXZ3EXgmhFVZ7Oo2g6akntipVGZxci/NMzlzl1cZjYj2NNVbjrtnI+8vY95GYl5j3uZMsQqqJw923lcd/jjHaBFdr0dlGIniEE1iwso1ftJQzYA22oTcc3Pa8QQmxHoTf+HTJy8B9814bHUBQV/8F3sfjC32EPt6972+l2IwlhmikvWiosM7FAY5UkhEKIjXGmhwBQi+JfNdsoLbCLSPtJXNdBUaIbU6bnwvzxV88wPr3IIyfquLM5gO24nDFHee6NPi5cneCXPngbRl3RpuZ2HJeTLUMcaCymIDcj7vusTfYfXC4700d+tu+WrScA1NJ68GViD7bhk4RQCCFuYo91Y/ecxX/0Qyj++CpGr0ZvOgGvPEHk0o92fEIoW0bTTFmx9CIUQmyeMzkAgFro7QohgFbaAJHFa0noYtjir/7lHFOzIX7r8SP85EO7aaouoLm2kI8+vIfP/Kej5GTq/OXXz3HGHNnU3G+2jzE5E+K+g+tLfO2BNtTiGtTMvE3NH1NRksPgGiuEihrrRyiFZYQQYiXhs98Gfxb+A7fuORgPxZeBb/ddWFdfxw3dekv/dicJYZopK8xEAYbX+MVCCCFuxZ4aBE1HyS31fC41sAtY2oYJPPFMOz3DM3zygwfYU3Pz+Y+68jz+z5++k/qKXP7mmxc52zG24bm/93oPpQWZHGmO//t0bQt7uH3T7SaWqyjOXnOFEJbOEU4N4MxPJWxuIYTYDpzZcazOM/j3PYTiz07ImL69bwM7TGSHF5eRhDDN+HSN4vxMaU4vhNgUZ2oQtaDC0wqjMWpRFWg+7LFu2roneen8IO8+Ucfh3asnablZPn7jJw9TW57L33yzhcu960+QrgxM09E3zTuP1qKt4/u0RzvBCm+qIf2NKkui579nFyK3vE6vkn6EQgixksjFZwHw3faOhI2pltajFlbt+GqjcZ0hNAzjceDTgA/4K9M0//qG5w8DXwLygReAT5qmaRmGUQd8FSgDTOBjpmnOGoaxD/ji0vULwC+ZpnnWMAw/8D+Bo0uPP26apuyduUF5cZZsGRVCbIozPYhWUpeUuRRVQy2pxR7t5B8umJQWZPKBe3eteV9Whs7/8ZO38ydffYP//uQ5fvvxO6grj38L57df7iIrQ+e+Q+vdLnoJUNArjXXddysVscIy4/PsrilY9bpr5wgH2vA1nUjY/EIIkc7cSIjwpefRd92JmluSsHEVRUFvOk74zLdw5iZRczZ3bj1drfmRqWEY1cAfAfcBh4FPGIax/4bLvgp8yjTNZkABfmHp8S8AXzBNcy9wGvjM0uN/C/ypaZqHgd8FvrL0+K8Bc6Zp7gP+M/DlDX5f21p5UTbDEwtSJlcIsSGuHcENjqAWel9QJkYrbSAy2s3wxBwffXgPGT4trvvys/385k8dJtOv89/++RwjU/HtjmjpHOfclXHed3c9WRnrq59mD7ahltSgZOau675budZ6YuLW51QUVVs6Ryj9CIUQIibS/jKE5/Ed2Hhl0dXojccBF6vzdMLHThfx7KF5GHjONM0J0zTngCeBD8eeNAyjHsgyTfPU0kNfBn7CMAwf8MDS9dceX/r6S8DTS1+fB2IfU78P+F8Apmm+AASWVhnFMmVFWcyHrDW3HgkhxEqc6RFw3aQmhEpJPZod4vYy+5ZbRVdSnJ/Jf/nIYWzb4S+/9ibTs6FbXm/ZDl97toOywizeebR2XXO5diRh/QeXKy3IRNeUNVtPQHTbqDM9JOcIhRACcF2XSMszqIFdaOW7Ez6+VlSFWlyzo88RxvOxaRUwuOzPg8DxNZ6vAUqBoGma1g2PY5rml5dd/4fAN9cYqyeOOCkpSdynuYkUCCSmSl1Mc0MJ0EHYVRI+tkhP8joQ6zE7Psk8UNKwm4w4XjuJeH29eKGUauBDt/soK8tf9/2BQB5/8Im7+fT/e5I//9pZ/usn76GsaOWiAn/3HxcZGJvjMz93gqrK1bdnrmSh5yKzdoTivUfISfD/V5WluUzMhNf8+wztv5P+V/+ZnNkucuvvT2gMW5G8fwmvyWssvS32XmJ2aoDAo79C3gZ+fsRDP3g/kz/6J4qyLPTc9W0b3Q6vr3gSQhVYvjdRAZw4nr/xcZbfZxiGAvw5cBfwUJxz3dL4+CyOs7W2UQYCeYyOziR0zMylnVZm5xglOdKLcKfz4jUmtrdQ91UApt18lDVeO4l4fbmuy7+8PsOn0CgND214vOLsaKGZz/7LOX7zv7/ALzy6n7311//g/t5rPXzj+Q4euqOaXWU5654r1PomoDCXU8d8gv+/ChRk0jMUXDMmVysFXxaTbW+yUHY4oTFsNfL+Jbwmr7H0t3DqafBlshA4yKJH/y3t0uiukJE3T+Lb+0Dc922115eqKhtaIItny2gfsHxfUQUwEMfzI0CBYRixgyKVsfsMw9CJbg09BjxkmuZ0nHMJoluPAMamFlMciRAiHTlTgyi5JSi++Bu1b0bn4AydI/Ms5lTijHVtaqzdNQX8zsfuwO/T+PN/epMvfbuVNy6PcsYc5fP/ep6vP9fBnc0BHn94z4bGtwcuoZbUoWTkbCrOlVSWZDMyuYBl3/pzTkXV0CqbsaQfoRBih3PDC1hXX8PXdBeKL9OzedTiWpScYqyec57NsZXFkxA+A7zDMIyAYRjZwGO8df4P0zS7gUXDMO5deuhngKdM04wALwIfWXr848BTS1//BdEKo+9algwCfHfpOgzDuA9YNE0zru2iO4lP1yjKy2A0zuIKQgixnDM1mNTzgz98o48Mv0ZezW7ssW5cN+6NHyuqLcvl93/2GO88Vstpc4T/8W8X+OtvXKCtZ5LHHmzkl37swLraTMS4Vhh7pAOtKnH9B5erKM7GdlzGptf+ME+v2o8bHMaZnfAkFiGESAeRK6+CFV7Xqt1GKIqCXnc7Vl8Lrr3zanSsuWXUNM1+wzB+F/gh4Ae+ZJrma4ZhfBf4PdM0TwMfA/7WMIx84A3gc0u3/zLwFcMwPk30HOBHDcMIAJ9XKlVVAAAgAElEQVQCOoFXDcOIzXMY+DzwRcMwLgIhosmlWEGgIFMSQiF2kKnZEN96qZO2nikKc/y861gtR5oD6x7HdV2cqUHPf7jGzC9GeK1thHsPVuIvh5D5PO70CEphxabGzfBr/NQ79vChBxrpHZ1FQaG2LAefHl/10pXYI1fAtq71Aky0WKXRofH5a20oVhNLSu2BS6jN997yWiGE2K4ibT9CLa5BDazdqmiz9PrDRC79EHugDb32oOfzbSVx1eI2TfMJ4IkbHnvvsq/PcX2hmdjj3cDb4p3XNM1F4D/FE9NOV1qYxaXuyVSHIYRIgpHJef70iTeZmY9wsLGYgfF5Pv9vF3j/PQ38+AON6xrLnZsEK5S0FcLT5igRy+H+Q5VoS9t97LEu1E0mhDF+n0ZT1foKx6zGHmgDRUFLYP/B5SqL32o9cZhbV1pVS2ohIwdroA2fJIRCiB3IHu/FGe0k4+7HURTF8/m0qn2g+bB6z0tCKNJDoDCLV1qGiFj2pj4RF0JsbRHL5vP/doFwxObTH7+TuvI8bMfhK0+b/MfJLkoKMnng9qq4x3OmooWc1YLEJGRrebV1mPKiLBoq8sDNBk3HHuvCt/uupMy/HvZgG2ppA4r/1qt3G5Wd6SM/28fwxNq7OxRFRa/ciz3Q6kksQgix1UXMF0DV8e25JynzKbo/2ge2f+e9767/kIXYEgKFmbgQ11kUIUT6+vbJbvpH5/jEB26jrjxa2lpTVX723XvZV1/EE89cjrtZO4ATHAaSkxBOzoRo657kxP5yFEVBUXXU4lqc0S7P514v1wpjD1/xbHUwprw4m+E4ehFCdNuoOzuOExz1NCYhhNhqXNsi0n4SveEOlMzktZXTa27DmezfcX1gJSFMU4HCLABGpdKoENvW7EKE773ew/F9ZRxsLLnuOVVV+Pn3Rctk/9uPrsQ9pjM9DJofJacwobGu5LVLw7jAif3l1x7TShsSUlgm0ezhDnAs9KrENqS/UXlxdlzN6QG0qv1A9ByhEELsJHbvBQjNJX3LvFZ9W3T+HbZKKAlhmiotiCaEY9NSWEaI7erZM32EIw7vv3flw/TF+Zm861gtr10aoWsoGNeYzvQQakEZiuL92/+p1mHqK/KoLHmrhYMaaIDIAm5wxPP518MeuASKilbR7Ok8FcXZTM+FWQhZa16rFlWhZOVjSUIohNhhIh2voGTmodXcltR51ZJalIxcrL6LSZ031SQhTFMFuX58uiqVRoXYpkJhm2dO93JkTynVpav3xHv38Xpys3z864+uxjWuOz2Mml++9oWbNDg+R/fQDHftv34urbQBAHuLbRu1B82l84NZns5TXhQ9nzg8ufYqoaIoaJV7sQfbcF3X07iEEGKrcMMLWN1vojceR1GTW+5EUVS06v3Y/Rd31PuuJIRpSlUUSgsyZcuoENvUK61DzC1avOdE/S2vy87UeeR4LRc7J+gfnb3lta5j48yMohZ4nxCeNqPn3o7vu34utaga1Ghhma3CtULYI1c8azexXEVxNOGMf9voXty5Sdyls59CCLHdWV1nwI7g23N3SubXqvbhzk/tqPddSQjTWKAwS1YIhdimTl0cprIkm6bq/DWvffBwNT5d5Zkzfbe8zp2dAMdGSUJC+OblURqr8inKy7jucUXTUUtqcca6PY8hXvZQBzi2Zw3plysrykaBuCqNAtfONFr9sm1UCLEzRNpfQckLoJY1pWR+rTJ6dMAevJyS+VNBEsI0FijIYmx6YUctaQuxE0wEF7ncO8VdS9U515Kb5ePu28p5pWWI2YXIqtddqzDq8ZbRieAiXUMz3NEcWPH5aGGZri3z3nXt/GD5Hs/n8ukqJQWZcVcaVQoqULILpbCMEGJHcOansAda8e2+Kym9B1eiFlZFzxEOSUIo0kCgMJOFkM3c4trFCYQQ6ePVS9HE7cT++BO3d9xZS9hyONkytOo1znT0Oa+3jL7ZPgbAkT0rN19XAw0Q3jqFZazBNtTALs/PD8ZUFGczGG9CqChoVfvkHKEQYkewrrwKrou+OzXbRWHpfbdiD7YkhCIdvNV6QraNCrGdvNo6TFNVPmVF8TdIry3LpaEij5MXBle9xpkeBj0DJdvblhNvXB6lsiT7uuqiy10rLLMFzhG6kUWckU7P200sF+tFGG+Cp1XtxV0I4kwOeByZEEKkVqTjFGpJPVpRVUrj0CqbcYMjO6YfoSSEaUwSQiG2n8mZED3Ds6tut7yVew9W0jMyS8/wzIrPO9PDSy0nvNuGM7cYweyZ4sie1eO/VlhmC1QatYfawU3O+cGYiuJsFsM2wblwXNfrNQcAsPsueBmWEGKLcByXC1fH+c4rXbzSMkQobKc6pKRwpoZwRjvx7bkr1aGgVRgAO2aVMLm1XEVClRZmApIQCrGdXLg6DsDBppI1rrzZif3lfO3Zdk62DFFXnnfT805wGK24dtMx3sr5jnEc171lQvtWYZkuT2OJhz3YBoqWlPODMeXLKo0W5GascTWouSWoRVVYvRfwH3q31+EJIVJocibEF75xgSsDb/WWLcj180sfPEBzrbe7O1It0vEKoKA3pT4hVEvrQPdjD17G13g81eF4TlYI01imXycv2yetJ4TYRi5cGac4P+OWvQdXk5vl4/DuUk61DuM4129HdB0bNzjm+fnBN9pHKcj101B5c0K6nFZajz3WnfJzcdbAJdSyXSi+tROzRKkojvUijP/DPK3mIPaQiWuFvApLCJFiswsR/uyJN+gbm+Pn3ruPL/zGA/z240fI9Gn8t38+y5WB6VSH6BnXdYl0nEKr2ouaU5TqcFBUHa2sacesEEpCmOak9YQQ24dlO1zsmuBgY8mGt3Ue319OcC7M5d7rzz24s+Pg2p5WGI1YDi2dExzeXYq6RvxqaQOE53FnRj2LZy1ueAFntCup5wcBivMz0TWVofH4CssA6LUHwbawB0wPIxNCpIrruvzPb7cyHlzkN37ydu47VEmmX8eoK+J3fvpOCnL8fOEbLbesJJ3OnNFO3OAwvhQWk7mRVtGMM96LG47/vTpdSUKY5iQhFGL76OibZjFsc6hx/dtFYw41luD3qbzedn0Fz1iFUS97EJq9k4TCNrfvXrm66HJaoAEgpecI7aHL4Dpolck7PwigKgrlxVlxN6eH6C8maH4sOUcoxLb0ZvsY566M86EHmthTc/3W0IIcP5/84AGmZ8N888WrKYrQW5GOV0DT0RuPpjqUa7RKA3CjvWq3OUkI01ygMJOJYAjbcVIdihBik1q7J1AVhb31G98uk+HXuL2plDPmyHXvC870Ug9CDxPCc+3j+HWV/XHErxbVgKqn9Byh1d8Kmo5WkbzzgzEVRdkMT8afECq6H61qL1avJIRCbDehiM0/PXOZ6kAODx+tWfGaXZX5PHikiuffHGBwfC7JEXrLdWysK6+i1x1G8cdfXdtrWmAXoGCPXEl1KJ6ThDDNlRZk4bguE0E5VyJEujN7pqivyCUrY3P1vo7tLSM4H+Fyz1vbRp3pYfBlomQVbDbMFbmuy9mOMfY3FOP3aWter2g6anFNSltP2AOtaOV7UHR/0ucuL85mZHJhXR/m6bUHcaeHcLZI/0YhRGK8cHaA8WCIjz3cjK6t/qv5B+/dhd+n8uTz2ytBsQcu4S4E0XenvpjMcoo/C7WoCnu0M9WheE4SwjQnrSeE2B7CEZvOwSBG7eYP0x9sWto2ar51Ps8JDqPml3vWcqJ/dI7x4CK3745/u6tW2pCywjLOQhBnvBctyecHY8qLs7Adl/Hp+IuCxdpPyCqhENuH7Th8//Ve9tQUrLk7JD/Hz7uO1fJm+9i2WiWMdLwC/iz02kOpDuUmWlkjzsjVlBdA85okhGkuIK0nhNgWrgwEsWyX5rrNlxXP8Gkc3n39tlFnesTT7aJnO8YA4jo/GKMGGiA0l5LCMvZAGwB69f6kzw1QWRytIjs0Ef97t1JQgVJQjtX1hldhCSGS7HTbKOPBRd59oi6u6x+6owZdU3juTL/HkSWHa4WxOs/g23U0Jbs11qKWNeGGZlNaAC0ZJCFMc8V5mWiqwtg6PmUWQmw9Zs8kCtBck5gtncf2ljEzH20S7zoW7swoan5ZQsZeybkrYzRU5FEYR1+9mLcKyyR/O47d3wq+LNTArqTPDdf3IoyXoij4Gu7EHmjDDW2f1QEhdrIfnO6lvDg77g/TCnL8HNtbzkstgyyELI+j857Vcw4ii1ui9+BKtLJGgG1/jlASwjSnqgrF+RmyQihEmrvcO0VteS7Zmb6EjHdgqdroGXMUd2YMXMezFcLgXJir/UEOr2N1EEAtrok2/h1OfgU3a+ASWqWBoq593tELuVk+cjJ1hteREALou46Ca2N1n/UoMiFEsgyOz3F1IMjbDlet2apnuYeP1hAK25xsGfIwuuSwOk6hZOWnbPv+WtSi6ujPqZHtWd01RhLCbaC0IEua0wuRxizb4epAkOaazW8XjcnwaRxqKuXM5VGsqVjLiYqEjb/c+SvjuKxvuygsNf4NNCY9IXRmx3GDwynbLgrR1b7y4ux1rRBCdJutklOE1XXGo8iEEMlysmUIVVG4a//6PqzbVZlPTSCHU63pnRC6oTms3nPoTSdQ1K2ZkiiqFj3vLgmh2OoChVmMTcsKoRDpqn90jrDl0FSd2AqgR40AwbkwIz3dgHctJ851jFGUl0Fdee6679XKd+OM9eBaYQ8iW5nd3xqdO4UJIUD5OltPACiKit5wB1ZvC25EqksLka4cx+VkyxAHGospWMdW+5i7bqvgSn+QkTTeIWZ1vQG2taWa0a9ELWvEGe/GtdN/i+5qJCHcBgKFmczMR1gMb98XqhDb2ZWBaQCaqvITOu7BxhJ8uspEXw/4slAy8xI6PkDEcmjpmuD2ppINVTDVyneDayf1HKHV34qSlR/dCpRCFcVZTARDhCL2uu7Tdx0FOyxN6oVIY2bPJJMzIe45sLGdG8f3Rc+Ev9o6nMiwkirScQolvyxlZ7njpZU1gm3hjPekOhTPSEK4DZQWRIsTSGEZIdLT1YEg+Tl+SgoyEzpuVobOgV3F2NPDqAXetJwweyYJhe11bxeNUcubAJK2bdR1Xez+VrSq/Z614IhXRUm00ujI5Po+4dcqmlEycrE6ZduoEOnqzOVR/Lq64ffO0oIsmmsKOHUxPbeNOvNT2AOt+JpOpPy9eC1a2dLPqdHtu21UEsJtoFRaTwiR1q4MBGmqyvfkh+LRvWUUulPM+4sTPjZE2034dZV9a/TPWo2amYdSUIGTpITQmRrAXZhGq059AYPyovVXGoXomRZ9151YXW/gRuSDQCHSjeO6vNk+xoHGEjJ8Gy9sdWxfOYPj82nZk9C6+jq4LvoW3y4KoOQUo2TlY49s3wb1khBuA4HYCqEUlhEi7cwuRBiemKcxwdtFYw41FFKsztG7kJXwsV3X5VzHGPsbivFv4pcarbwJe7gjKY1/7d4WAPTq2zyfay3lRdnA+hNCAH3PPWCFZJVQiDTUPTTD5EyII3s2tjoYc/vuEgDOdYwnIqykinS8glpSh1ZUlepQ1qQoCmppA854d6pD8YwkhNtAXraPDJ/GqBSWESLtXB0IAtBYldiCMjFZkSlUxeXimC/hCVff6BzjwRCHN/lLjVa+B3dxJimNf63e86hFVah5m4s5ETL8GkV5GetuPQGgVexByQsQaT/pQWRCCC+9cXkUVVE2vF00prQgi9qyXM62p1fTdCc4gjNyFd/urdl7cCVaaT3O5EBSC6AlkySE24CiKJQWZsoKoRBpqGswiAI0VCS+4AuAE4wWHOicy6RraCahY59uG0FRWHf/wRtpsXOEQ+2JCGtVbmQRe9BEqz3k6TzrUVGcvaGEUFFUfHvuwe5vxZmd8CAyIYRX3mwfo7m2gNyszfedPby7lPb+aWYXIgmILDkiHacA0JtOpDiS+Kml9eA6OBN9qQ7FE5IQbhOBAmk9IUQ66h6eoaIkm6wM3ZPxneAIAJNuPqfNkYSOfdocwagtJD/Hv6lx1MJq8GV5nhDa/ZfAsdC3UEK4kV6EMb7mewGXiPlCYoMSQnhmIrjIwNgch5oSs0vh8J5SXDfa/icduK6L1XEKraIZNbck1eHETSutB8Ae257bRiUh3CZKCzIZnVpMyhkcIUTidA/PUF/uzeoggDM9DL5MamorOdM2mrD3iP6xOQbH5zm6t2zTYymqilbZjD3YloDIVmf1ngNfJlpFs6fzrEdFcTZzi9aGPt1X88vQag8SufQ8riNth4RIBy2d0RX9A42JKfRVX5FHfraPi13psVPAmejFmRpAT6PtogBKbilk5OBIQii2skBhFqGIzUwabRkQYqcLzoeZCIao8zIhDI6g5pdzdG8ZI1ML9I7MJmTcM20jKMAdzYGEjKdX7cWZHsKZm0zIeDdyXRer9wJ69X4UzZvV2I2oKF6qNDq+sVVC//534M5PRRs8CyG2vJar4xTlZVBdmpOQ8VRFYV9DMZe6JtNiUcDqOAWKht54LNWhrIuiKGil9djbtLCMJITbRKz1hJwjFCJ99Cyd6av36PwgLCWEBWUcaQ6gKHDaTEzxgdfNEfbUFFCYm5GQ8bTKaBsIe9BMyHg3ciYHcGfHt9T5QYhuGYWNVRoF0GoPoeSVErnwg0SGJYTwgOO4tHZNcltDcULbDO2vL2J6LszA2NZuP+E6DpH2k2i1B1Azvfu55xW1pA5nvHdb7siQhHCbuNZ6Qs4RCpE2uoeXEsLyXE/Gdx0bd2YUNb+c/Gw/e+uKeK11eNOfIg+Oz9E/OpeQ7aIxakkd+LOwBy4lbMzl7N5zAFvq/CBEt/trqsLw5MYSQkVV8R98BHu4HcujZFoIkRidg0HmQ1bCtovG7G+Ijtfa5c0Oi0Sx+y/izk/ha74v1aFsiFbaAI6FMzmY6lASThLCbUKa0wuRfrqHZigrzCI7c/OV5lbizk6AY6PmRxO3u2+rYGRqgSv9wU2N+3pbtDjNnUbiEkJFVdEqDCyPzhFGut5ALalFzU3sL2KbpakqgcKsDa8QAvj2PoiSlU/4jX9PYGRCiERr7Y4mbPvqixI6bklBJuVFWbRu8XOEkcsvQ0YOev3hVIeyIbHCMs5YV2oD8YAkhNtEpl8nL9vHqGwZFSJtdA/PUOfpdtFoywllKSG80wjg11VOtmz8003XdTl5YYi9dYUU5SVmu2iMXrUXd3oYZzaxTZaduUmc4Q70XVvzzMpGW0/EKLof/6H3YPdfxPK4UqsQYuMu90xSE8ghL3tzlZlXsq+hmLbeKSzbSfjYieCG57G6zuBrOoGiefMhqNeUgnLwZW7LSqOSEG4jpdJ6Qoi0MbcYYXRq0bPtovBWywm1oByArAydO4wAr10aIWLZGxqzvW+akakF7j1YmbA4Y7SagwBYfS0JHdfqPAOAvutoQsdNlIribIYnF3A2sZXXt/8hlOxCQq88getuzV8IhdjJLNuhoz+IUZvY1cGY/fVFhMI2XYOJ7TebKJGrr4MdSdvtohDt/6qV1G3LSqOSEG4jAWlOL0TaiBWUaajI92wOZ3oYND9KdsG1x+45UMF8yOLM5Y0Vl3n5wiAZfo2jCdwuGqMWVaHkFGP3nE/ouFbnadTCKrSiqoSOmyjlxVlELIeJ4MbfvxVfJhnHfwJntBOr/WQCoxNCJEL30AyhiE1zXaEn4++tL0KBLbtt1DJfQi2sRA3sSnUom6KW1GGP92y7D94kIdxGSguyGA8u4jhbv+ywEDtd93C0/UOdhyuEbnAENb8MRXnrrX5/QzFlhVk890b/usdbCFm83jbCMaOMDL+WyFCBaFlvvfYgVn9rwqq4OQtB7CETfdedCRnPCxVLlUaHJza3w0PfczdqWSOhU1/HWdjcOVEhRGKZvVMANNd6kxDmZvmor8i7dk5xK3Gmh7GH29Gb701oddVU0ErrwQrhTg+nOpSEkoRwGwkUZmI7LhMzskooxFbXPTxDSX6GJ2dJYpzgMGrB9St5qqLw0B3VdPRN0zO8vq1FL10YZDFs8+AR71batNpDEFnAHr6SkPGsrjfAdbfsdlHYfOuJGEVRyXzg53DDC4Re/Epa9CQTYqcwe6aoLMmmIMe79/zm2kKuDgSJWFtr9SrS/jKg4Nt9T6pD2TS1tAFg250jjCshNAzjccMwWg3DaDcM41dWeP6wYRinDcO4bBjGlwzD0JcerzMM4wXDMNoMw/iWYRi5N9z384ZhfHnZn+sNw5gxDOPs0j/f2+T3t6OUFi61npBto0Jseb0js9SWeVdQxnUdnODItYIyy913qBK/rvLcG31xj+c4Ls+e7qOpOp+mqoK1b9ggvXo/KBp2z7mEjGd1nkbJL4u2tdiiCnL8ZPi1TRWWidGKa8g49hhW1xkil36YgOiEEJtlOw7tfVMYHq0OxjTXFmLZDt1DW+ccoes6RC6/jFa9f8tVed4ItagSNB17m1UaXTMhNAyjGvgj4D7gMPAJwzD233DZV4FPmabZDCjALyw9/gXgC6Zp7gVOA59ZGjPTMIw/Af7qhnGOAk+Ypnl46Z9HNvh97UiBgqXWE1JYRogtLWI5DI3PU1OW49kc7twk2BZqfvlNz+Vk+rjnYCUnW4YYn47vA6RzHWOMTC3wzqO1iQ71Ooo/C61qL5GuM5te4XLmp7D7W/E1Ht/S25QURaGiKJuhDfYivJHv4CNodbcTevmrWP2tCRlTCLFxPcOzLIa9Oz8Ys7sm+mHd5b4pT+dZD3vQxJ0dx9d8b6pDSQhF1VGLanDGe1MdSkLFs0L4MPCcaZoTpmnOAU8CH449aRhGPZBlmuappYe+DPyEYRg+4IGl6689vvT1A0tz/9YNcx0DDiytDj5nGMbB9X9LO1dxfiaKgrSeEGKLGxyfw3FdagLJqzB6o/fdVY/rwnde6Vp7LNflmy91UlqQyZ1GIIFRrkzfdTTafmIy/hXMlVgdr4DrpMUvIhUl2QyNJyYhVFSVrLd/ErWwkoXvfx575GpCxhVCbIzZE03QvKowGpOf7aeyJJv23q2TEEbafgS+rC19jnu9tJJanPGebbUtX4/jmipgedOqQeD4Gs/XAKVA0DRN64bHMU3z+8D3DcP42RvmWiS62vhF4N3ANw3D2GeaZjieb6akxLtfrjYjEPBuW9iNSguzmF20kjqnSD35751eLnRHf1gfbC7z7L9dsC/IAlC6axe+gpvnCATyeOSuer53qpvH37OfytLVVysv9kzROzLLb37sTirKvdsuGmMffZDul/8R/9A5im/akBIf13Xpu/IKGdXNlO9pTnCEiddYU8hrl4YpLMrGpyeiYE8e1k//HgP/+BkWn/5LKn7q02RWb82/B3n/El5L9WusZ3SWipJsmhtLPZ/r4O4AJ88PUFKSi6qmdmeEPT9Dd+dp8g8/TGml9997skzX72HcfJHirGj7plS/vhIhnoRQBZanwArgxPH8jY9zw303MU3z95f98buGYfwxsA+I6zDJ+PjslquwGQjkMTqavL3cJXkZ9A3PJHVOkVrJfo2Jzbt0dQxdU/Arrmf/7UL93aDqTC5moIRXnuMdR6p57nQvn33iDP/lpw6jrrCtMjc/i698p5X6ijz21uQn6bWmolUaBFtOYu9/dEMj2KNdREZ7yLjv42nx/0dehobrwsX2UapvkZyvTwYZ7/kt5r/9pwz84++R+dAn8DUeS9DYiSHvX8JrqX6Nua7Lpc4J9jcUJSWO2tJsZhcinGsb8nQXSjzC558G28Lade+2+v/c8kfP5o+2t1J5x9b63lRV2dACWTxbRvuA5R2IK4CBOJ4fAQoMw4h91Fl5w303MQzjVw3DKFn2kAJE4ohRLCktyJIzhEJscX2js1SV5KCp3hV6doIjqHmlKLeYoygvg4+8fTeXuif54SptKL70rRYmgyE++o49KyaMXtF3HcWZGthwJbdI67Og+fE1nUhwZN4ov9Z6IjHbRmPUvFKyf+wzqKX1LD7z14TOfntbbXMSYqsbDy4yPRem0cNiXMvtWSpc0943nZT5VuO6LpFLz6OW70Yr9vbsebJpJdHvx95G5wjj+W3kGeAdhmEEDMPIBh4Dno49aZpmN7BoGEbskMbPAE+ZphkBXgQ+svT4x4Gn1pjrQeDnAQzDeBDQgLY4vxcBlBZmMj0bJhyxUx2KEGIV/aNzVHv8ya0THEZZ5fzgcg/cXsWBxmK+9mw756+MX/fcd17p4vuvdvPeu+s96521Gl/TCdD06PmTdXIWZ4h0vIKv+R6UDO8K9yRSeZE3CSGAmpVP9vt+C73pBOHXnmTxuS/iWqGEzyOEuNnVgWhP0Kbq/KTMFyjIpCDXn/JzhPZgG870EP59b0tpHF5QMnJQcku2VWGZNRNC0zT7gd8FfgicJVoF9DXDML5rGEassdPHgM8ahtEG5AKfW3r8l4lWJW0F7gc+vcZ0vw680zCMFuAvgI+aprm1mqlscYGCpdYTcVYOFEIk1+xChMmZkLcVRl0XZzralH4tiqLwix+4jerSHD735Hn+4XsmL5wb4HNPnudff3SVBw5X8+MPNHoW66pxZeai7zpGpP0V3Mj6kpfIpefBtvAdeKc3wXkgO1MnP8e/6V6Eq1F0P5lv/yT+Yx/GuvIq8//+/+DMjq99oxBiU670B/HpatK2byqKQnNNIe0prjQaufQ8+LPRG4+veW060krqcMZ7Uh1GwsRzhhDTNJ8Anrjhsfcu+/oc1xeaiT3eDbztFuN+mWj10dif+4H0+Qm+BQVivQinF6hK2DkUIUSi9I/OAnj6y4G7MA1WaMWWEyvJyfTx2x+7g3/5YQcvnhvg+TddsjN0HnuwkY8/eoDx8VnPYr0V3/6HsDpewbr6Gj7j/rjuca0wkYvPolXfhlZU7XGEiVVRnO1ZQgjRXxQzjjyKVlzNwnNfZP4bf0DWI7+OVtbk2ZxC7HRXB6ZpqMhD17w7InCj3TUFvN42wur+jdAAACAASURBVERwkeL8zKTNG+MsBLE6T+Pb/3YU3Z/0+ZNBLanF6jmLs84PLLeq5L06RVKUFi71IpTWE0JsSX2jc4C3CeFbLSfWXiGMycrQ+fi79/I//vMD/Mkn7+avfu0+3nd3Q0qr1Gnle1CLqgmffxrXjW+zSKT1Wdz5KfxH3u9xdIlXUZzlyZbRG+n1R8j+sd8DPYP5b/+Z9CoUwiMRy6F7eIamJJ0fjInNF9uummwR8yVwbHx735aS+ZNBqzmIkpELzvbYyCgJ4TZTkOPHp6uMTklhGSG2or7RWXIydQpzvfvU1J0eBoh7hXC5DL9GWWFWUj/NXo2iKPiPvB9nsh/rymtrXu+GFwi/+R20mgPoVXuTEGFilRdnE5yPML/ofS01raiK7A/+LmpegIWnP4s1aHo+pxA7Te/ILJbt0liVnPODMXXlueiampKE0HVsIhefQavah1acXrs01kOv2EPOz3wONSMr1aEkROp/4ouEUhSF0oJMOUMoxBbVNzpLTSAXxcOKnU5wBBT1/2fvvsPjusrEj3/vvVM16r1b1SN3Wa5xi+30xIkTUoCEtpQFlrKwLLCUZVl+LAvsUhaWLAuhhSSEJGxCEseJHbe49ybbGjWr996m3/v7Q5LjbsnSzB2Nzud58jzJlHteRaM7973nnPdFikq48YtDnCF/6fAs4dFX0NTrF8tyH30FzT2AecnDQYpucqUlDC/zb+oI/CwhgBwRi/X+ryJHJuB866f4uxqCMq4gTBdVTcOVPvMzgjtDaFBkZqRGXhg/mHw1R9EGuzDNvTPoYwdbIL/Hg00khGEoKdZKh5ghFISQo2oaDe2DAS8uoPa2IkUlIslj2iYe0iRJxrT4Pai9LXhLt17zdb5mB97TWzDOXo+SlBvECCfPaP/Bps7BoI0pW6Kw3vuPSAYzzi0/Q3MHb2xBCHfVTX3ERZmJizIHfez89BhqWvrx+YO7pNFzegtSVBJK9oKgjitMjEgIw1BijIX2XqfoNSUIIaaz14Xb4ycjgBVGAdT+9jFVGJ0qDDklKNkLcB/+C/72miueV4d6ce38NVJUIuZljwU/wEmSEGPBZJRpbA9uUiZHJWK9/TNo/Z04d/xafHcIwiSpauwlP8jLRUflpUfj9ak0tAevKJi/rRq1tRLT3Duu2wNXCD3itxWGEmOsON1+Bl0+vUMRBOEio1/MWYGsMKppqL0tN7V/MFRJkoTl1o8hWaJwvvlj/O3nLzyn9rXj3PQfaEN9WG/7NJIx+BX1JossSaQl2GjqCH5VVyW1EPMt78Nfd+Kmej8KgnCp3kEPHb2uoDWkv9zovsVg7iP0lG4Bo2XMVaGF0CESwjCUNFJptKNXLBsVhFAyWmE0oC1h3IPgcYbVDCGMNlf/MsgGhl75fwy9+ROcW/+bwRe/gTrQifXuL6AkB79f4mTLSLTR1BmcPYSXM865HSV9Fu4Dz6P2d+gSgyCEi+oL+wf1mSFMiLYQYzNR1RichFDta8NXdQhj0a1IpvAotDKdiIQwDF3oRShaTwhCSGloGyAxxoLVHLi9fWrfSIXRcbScmCrk2DRsD38H49w7UHtb8XfUYiy8Bduj38WQMVvv8CZFeqKN7n53UCqNXm54JvajoGm49j4T9PEFIZxUN/WhyBIzUqJ0GV+SJPLSoy8kpoHmOfkGSDKm+XcHZTxhck39igPCFRJjhhPCdjFDKAghZbTCaCCpIy0npDBaMnoxyRKJ5Zb3wy3v1zuUgBidPW7qGKIgM/hLzeSoJEwlG/EcegFfQymGzLlBj0EQwkF1Ux+ZyZGYjIpuMeSlR3O8ooMBp5dIqzFg46iD3XgdezDaVyHb4gI2jhA4YoYwDEVYDNgsBjFDKAghxOtTae1ykpkc4ISwrw2QkKMSAzqOEBijlUYbddhHOMo07w6k6GTc+567YasPQRCupGkada395KbqMzs46t0G9YGdJfScehM0FdOCewM6jhA4IiEMU4mxVtpE6wlBCBnNnYOomkZmUoArjPa2IkXGIxkC1/heCJzRSqPB6kV4NZJixLzsvag9Tfgq9ukWhyBMVe29LgZdPmbonBDmpEUhSQR0H6Hq7MN7bieG/GVht3d9OhEJYZhKjrXS3i0SQkEIFaMVRgO+ZLSvTXwpT2F6Vhq9mCGnBDlxBu5jr6KpomK1IIxHbUs/gO4JocVkIDMpkurmwCWEnmOvgt+LueSBgI0hBJ5ICMNUcpyVjl5X0BuSCoJwdQ1tgxgUmZT4wFZf0/rawqrlxHSUkWijsUPfBvGSJGFe/BBafzve8r26xiIIU01Ny3BBmYzEwN4AHIvhwjJ9qAHoL6r2teE9twOjfTVybNqkH18IHpEQhqmUuAhUTaOzT+wjFIRQ0NA+QHpCBEoAm/VqniE0V39YVhidTtITbfQMeHSpNHoxJWsBclIunpNvoGni5qIgjFVdSz+ZSZEYDfpfZuelR+N0+2gJQDsb95GXhyuLLnpw0o8tBJf+n1QhIJLjhmch2sSyUUEICQ3tA0EqKBO+FUani4srjepJkiRM8+9G623FX3dS11gEYarQNI2aln7dl4uOyrtQWGZyl436O2rxVR7ANPcOUVk0DIiEMEyliIRQEELGgNNLz4AnCC0nhhNCMUM4tWWOJIQNOu8jBDDkLkayxeM59ZbeoQjClNA5UlAmJ0QSwrSECKxmZVL3EWqaimvvH5EskZiK75u04wr6EQlhmIq2mTAbFVq79b3DLAjCcEN6IAgVRlsAkKNEQjiVJcRYsJoV6tv0TwglWcE09w78zWX4O2r1DkcQQl5NgAvKaH4f/p4m/G3VqAOdN1zOLUsSOamT26DeW/YOamsl5uXvQzIH9ntNCA7RmD5MSZJEcpxVzBAKQggYrTCaEfAZwhYkWzyS0RzQcYTAkiSJrKRI6lv1TwgBjEVrcB/7K57Tb2Fd97d6hyPcBE1TQdOQZP2apE8Xta39KLI06TcA/V2NeI6/iq/uJHjfrQ8hmSMx5C7COHs9SuKMq743Lz2azQfqcHv9mI0T+wyozj7ch15ESbNjKFwxoWMJoUMkhGEsOc5KY7u+leoEQYCG9kFsFgOxkYHtDaj2tiDHiP2D4SArJYo9p5pRNQ1ZknSNRTLbMNpX4z27HXX5+5Ct0brGI1yfpvrwN5zBV39qeBappwW8IzeHTVbk2DSU5HwM2QtQ0meJJHGS1bT0k5Fow2iYnP+vmurHfeglvKffBKMFY/4ylDQ7ksmKOtiNv7kcb+UBvGW7MOQswrziceTIhEuOkZcejapp1Lb0MzMr9uZj0TTc+54Frwvzqg8j6XxuEiaPSAjDWHKclRMVHaiqhiyLP1pB0Etj+wBZyZEB/fLUNA21pwVjwfKAjSEET1ZyJG6vn/YeJylxEXqHg7FoLd7Srfgq9mGaf7fe4QhXoTr78J7ZhrdsF9pQDxhMKMn5GAtXIFmGVydorn7U7ia853bhLd2KZIvHOHs9pllrL7xGuHnaSNK1sDBxco7ndePc+nP8DaUYi27FvPTRK39Ps9ejuQfxlL6N5+Qb+F74OuYlD2OcczvSSFXriwvLTCQh9FXsw1d1ENPi96DEpd/0cYTQIxLCMJYSF4FfHW49kRQb2N5ngiBcnappNHQMsmpeYHs0ae4B8AyJGcIwkZ0yfNFX3zoQEgmhEp+BnFKAt2wXxnl3iZmBEKL5PHhKt+I5/jp4XShZczGu+hCGrHlIivGa7/HVn8Z7dhuewy/hObkJ88L7Mc6945rvEW6sq8/NgNM7KQVlNL9vOBlsPIN59UcwzVp7zddKZhvmRRsxzlyJa8/TuPc/h6/mKJa1n0COSiTGZiIxxjKhfYT+7iZce/+IkmbHVLzhpo8jhCaREIax5Nh3K42KhFAQ9NHR68Lt8Qe8oIzWM1JQJiY1oOMIwZGRaEOWJOraBlhcFBpFgkxFt+La9Rv8rRUYUmfqHY4A+FsqcO58Cq2vFSW7GPOyR1HiMm74Pslgwpi7CGPuIvxd9bgPvYT74At4zu7AsuZvMGTMDkL04We0oEz2BBNCTdNw7f4d/oZSLGs+irFozZjeJ0clYr37i/jK9+Da9yyDL/0zllUfxFi4grz0aCobby4h1FwDON/6KZLBhGXd316YeRTCh/iNhrGU+OG7ym2i0qgg6KbxQoXRwBeUAZEQhgujQSEtIYL61n69Q7nAkLcUjBa8Zbv0DmXa01Qf7kMvMvTa90D1Yb33y0Tc/YUxJYOXU+KziLj7i1jv/TLIMs5NP8S152k0jyhKN161rX3II0WhJsJXvgdf+V5MJQ+MORkcJUkSRvtqbA9/Bzk+A9eOX+Hc9ksKk4x09bnpGXCP63iax8nQWz9FG+jCeufnr9ifKIQHkRCGsZhIEyaDTKuoNCoIunm3wmigW060gqQgRU3O3hVBf1nJkdS3h0alUQDJaMZYsBxf1WE0tyhYphd1qBfnpv/Ac2LT8IX/I9/FkDlnwsc1ZM7B9vB3MM67C+/ZHQy+9E18TecmIeLpo6aln/REG6YJVPJUe1tHlmYWYSp58KaPI0cnE3H/1zAtfg++6sMsqvwfCgwt42pQr7kGGNr8I9S2aizrP4mSUnDT8QihTSSEYUyWJJJE6wlB0FVD+yBJsRYspsCu0Fd7W5Cjk0TFwDCSlRJ5YU9SqDDa14Dfg/f8Eb1DmZb8HbUMvfxt/G3nsaz7WyxrPopkmrwtIZLBjOWW9xOx8RugGHC+/gNc+55F83kmbYxwNVpQZiL7BzVNw7XnDyApWNZ/csJLMyVZwVzyABEbv4HBZOYzUVswnPzLmGZ//e3nGXz526jtNVhu+zTGvCUTikUIbSIhDHPJsVbaekRCKAh6aWgfCPhyURjpQSiWi4aVrOSRwjIh0KB+lJyUixyTiq9in96hTDu+hlKGXvt3QCJi4zcwBrAHnJJSMDxbOOd2vKVbGfrLt/C3VQVsvHDQ3e+mf8g7oYb0vsr9+BvPYl76CLItbtJiU5LzsD38HUqV2eR2H2DwT1/GffSvqAOdV7zW392I653fM/TKd0D1E/HA10QyOA2IojJhLiUugtPVXaL1hCDowOP109I1xJIAFwXRNBW1txVj5tyAjiMEV1by8IVlfWs/s2ZM3sXhREiShKFwBZ4j/4c60Cn2EwWJt3wvrl2/RY5Lx3rPP0xqsnAtksGMZeUHMOSU4Nr5FEN//S6m4g2YSjYiKeLy8XK1IwVlbjYh1Hxu3AdfQE7KxThr3WSGBgwv+a7O3sjOs3l8MbMWz9GX8Rx9GSk6GTk6GSQJtacFrb8dJAXjnDswL9qIZA7sdgchNIi/6DCXmhCBz6+K1hOCoIOmzkE0LfAFZbTBbvB7RUGZMBNjMxFjM1HbGjozhADGguV4jvwf3sr9mEX5+YDzlL6Ne98zKOmzsN75OSRTcNuQGDJmY3v0u7j2PYfn+Gv46k5gXvlBUWn2MjUt/UjSuzP74+U5vRVtqAfLbZ8OWBXPvLRodhyLp2vJ3aSvcuI7fxh/axXqUA+ofpSkXJS5d2DIX4YcEROQGITQJBLCMJc6Umm0uXNIJISCEGT1IxfyN3uBMFbqhZYTogdhuMlJjaKmZexFIIJBjk5GSSkcblK/4D7RkzCAPOd24t73DIacEiy3/Z1uM3OSKQLr2o/jzSnBvedpnK9+D0PeEkyLH0KJFQ3KAWpbhwvKmG+ioIzmGsBzYhNKdjGGNHsAohuWn/Fug/rMBemYFtwbsLGEqUXsIQxzaQnDCWFLp6gIJwjBVt8+gMkokxQX2JsxouVE+MpLj6alc4ghl0/vUC5hKLwFtbsJtbNO71DClrd8D+7df0DJmj88axQCyzSNOSXY3vsDTIsexFd3kqEXvs7Qmz/BV38KTQ2tz2gwaZpGTUs/OSk3t1zUU7oFvE7MSx+Z5MgulRJnxWYxTKhBvRCe9D+7CAEVFWEi0mqkuUv0IhSEYGtoGy4oIwd4BkXtbQGDGSkiNqDjCMGXmx6NBtS09DE7J17vcC4w5i3Fve9ZvBX7UBJn6B1O2PFWHsC16zcoGbOx3vFZJMWod0gXSEYz5kUPYpy9Hu/Z7XjPbMNZdxLMNgxZ81FSC1GS8pBjUia1Amoo6xnw0Dfouan9g5rHiaf0bQw5JSjxmQGI7l2SJJGbFj2u1hPC9CASwmkgNSGC5k6REApCMGmaRn3bAIvsgS0oA8N9q+SYVLF0LwzlpEYDcL45tBJCyRKJIWs+vsoDaMveG7A9T9OR9/xRXDt+hZI6E+tdn0cymPQO6apkazTmRQ9iWnAv/sYzeKuP4K8/ha9y/7svMtuQoxKRbfFIkfFItgTkqESUpFykqMSwOWeNLuu+mYTQW7YTPEOYgrQfNy89mtf21eDy+ALeDkmYOsQnYRpIi4/gZGWH3mEIwrTSM+Bh0OUL+P5BGJ4hVBJzAj6OEHyRViMpcdaQvKNvKFyBr/Y4/qazGESF20nhqzuBa9uTyMl5WO/6ApLBrHdINyQZTBhmLMQwYyGapqH1d+DvqEHta0cb6EDtb0fta0dtLoOL+t9J1miUrAUYZ65ASSua0slh7UhBmezk8SWEmt+L59RbKOmzUJLzAhTdpfLSo9E0qGnupyhEqhcL+hMJ4TSQlmBj96lmBpxeIq2hs+xEEMLZaO+4QCeEmt+H1t+OXLA8oOMI+slLj+ZsTTeapoXURbMhewEYrXgrD4iEcBL4Gkpxbv1v5IRsIu75hym53FKSJKToJOTopKs+r3mcqH1t+Nuq8beU4zt/GF/5buTkPMzL3zdlK5fWtvSTlmDDbBpfQRlvxT60oR5Maz8eoMiulJs2vOqgurlPJITCBWKNxzSQOlpYRuwjFISgqW8b7kmVmRTYHk5qfxtomigoE8Zy06LpHfTQ3e/WO5RLSAYThtxF+M4fQfN59A5nSvM1leF862fIMWlE3POloLeWCBbJZEVJnIFp9jqs6z9J5Ad/hnnVh9EGe3C++u+49j2L5p96xWlqWvuZMc6CMpqm4T29FTkhGyVjToAiu1JUhInk2NBcdSDoRySE08BopdFmUWlUEIKmoX2QhGgLEZbAzsprPa2AqDAaznLT391HGGqMBcvB68JXd1LvUKYsf0sFzjd/ghydiPW+LyNZAr/MPFRIBhOm2euwPfY9jHNuw1u6Fecb/4Hq6tc7tDHrGXDTO+AhZ5z7B/0t5ajdDRjn3Bb0mf+8jGhRaVS4hEgIp4HEGAsGRaJFFJYRhKBpaBsI0v7BZkD0IAxn2cmRKLIUknf0lfTZSNZofJUH9A5lSvK3VTO0+cdItlis930F2Rqtd0i6kIwWLCs/gGX9p/C3VeF8/QdorgG9wxqTmpbh5HW8BWW8Z7aB2TZ8UyXI8tKi6Rnw0NXnCvrYQmgSCeE0oMgyKXGi0qggBIvX56e5c4jM5MAuFwXwdzcjWaORzIEfS9CH0aCQnRIZkjOEkixjyF+Gr/4kmlusQhkPf0ctQ5t/hGSJJOK+ryKLtjEYC5ZjveuLqL0tDL3xn2je0FomfTW1Lf1IQHbK2G8AqkM9+M4fxThzlS6Fg/LS321QLwggEsJpIzUhQvQiFIQgaeoYQtU0ssZZce5mqD1NyLHpAR9H0FduWjTnm/vxq6reoVzBWHAL+H34ao7pHcqU4e9qxPnGfyIZzERs+ApyZOi0FNGbIXMO1ts/i9pZi2vXU2iapndI11Xb0k9qQsS4Wjh4z+0EzY9p9vrABXYdWcmRGBSJ6hC8ySToY0yfXrvd/jjwTcAI/NThcPzisueLgaeAaOAd4FMOh8Nnt9uzgWeAZMABPOFwOAYuet/HgNUOh+MjI/9tAn4DLAacwOMOh6NsQj+hAAzvIzxe3oHPr2JQxH0AQQikhvbh01ygC8pomoba0zR8QS6EtZlZsWw/1khd68CFKoGhQk7KRYpOxlt5AKN9td7hhDy1pwXnph+ArBCx4avIUVevyDmdGWYUY1ryKJ5DL+BNehPTgnv0Dumaalv7sWePfXZXU1W8Ze+gZM7Vbam/0SCTnRIlZgiFC26YGdjt9gzg34BVQDHwt3a7ffZlL3sG+KzD4ZgJSMAnRh5/EnjS4XAUAUeAfx45psVut38f+Ollx/k8MOhwOGYBXwB+fzM/lHCltHgbqqbR1u288YsFQZiQ+rYBTIbhpdqBpDl7weNEjk0L6DiC/gozhy84y+t7dI7kSpIkYSxYjr/pLOpQ6MUXStS+NoY2/QAA64aviL2/12FacA+GnEW4D7+Ev7NO73CuarT6b844Koz6m86iDXZhLFoTwMhuLC8tmpqWvpBcdSAE31imim4Htjscji6HwzEIvAQ8Mvqk3W6fAVgdDsfojvLfA4/a7XYjsGbk9RceH/n3NSNjf+Wyse4DngVwOBzvAEkjs4zCBI22nmjqEHs8BCHQ6tsGyEiyIcuBrRyndjcBiCWj00BclJnkOGtIJoQAhvzloGn4qg7pHUrIUvvaGHrt++DzYr3vyyji7/a6JEnCvOYjSGYbrh2/Csl2FLUtwzNs4yko4y3fC6YIDNnFgQprTPLSo/F4VRrbxXWhMLYlo+lA80X/3QwsvcHzmUAi0OdwOHyXPY7D4dgCbLHb7R8Zw1iZwJhuDSUkhGap5qSkwO8jupGoGCuyBN1D3pCIR5hc4ncaOjRNo6F9kOVzUwP+e+mt7cIJJOUXYogO3Fji8xUaFhQmcaC0mYSEyIDfbBi3JDsNKblQe5ik9Q+P763T4PPl7W6h6Y0fIqle0j74r5hTcvQOaYqIYvD+z9D6wr9jqt5B7Ir33NRRAvUZaz8xfFOuZE7amFoMqe4hamuOEjV/LUlpCQGJaawWz5X51Wtnaev3sGhu+P8NBlI4nMPGkhDKwMU7eiVAHcPzlz/OZe+7mbGuq7NzAFUNrc3HSUlRtLeHRj+dpLgIHDVdIROPMDlC6TMmQGevi/4hD6mxloD/Xlz158FooctlRHIHZizx+Qod2Uk2tg55OVnWQmZS6N0AlXKW4j74Z1orK8e8FHI6fL7enRn0YN3wFfrkBAjzn3lSxdox5JTQtftF3GklyJHjS6QC+Rk7W9VBSnwEg/0uBvtv3MLBU7YLzefBn71M98+9omlEWo2ccrSxuEDf5HQqC7VzmCxLNzVBNpYlow3AxRtUUoGmMTzfBsTY7XZl5PG0y953M2MJE5CVZKOhbWr09RGEqWq0J1X2OHtS3YzRCqPBbmos6KMwa3gfoaMuVJeNLgMkvKIn4QVqT/MlyaCSIHbB3AzzLY8D4D7wvM6RXKqmpZ/ccZzrfeV7kWNSkZPyAhjV2EiSRF56tKg0KgBjSwjfBm6z2+1Jdrs9AngYeHP0SYfDUQu47Hb7ypGHPghsdjgcXmA38N6Rxz8EbL7BWG+MvA673b4KcDkcjtDcSTwFZSZH0tbjxOUJvXX4ghAualv7kSWJrCDM4Kg9zchxoqDMdJEUYyExxsLZmi69Q7kqOTIeJc2Or3J/yLcKCAZ/+3mGXv0eqD6RDE6QHJWIaf49+KoP428/r3c4APQOuIcLyowxIVT72vC3lGOYuSpkbuLlZ8TQ1DHIgNOrdyiCzm6YEDocjkbgG8AO4ATwnMPhOGS329+w2+2LR172BPATu91eBkQCPxt5/O8Yrkp6FljNcOuK6/k5YLbb7WdGjvHB8f5AwrWNXqA2isIyghAwtS39pCdGYDIqN37xBGieIbShHlFQZhqRJInZOfGU1XXj84dmZUBDwXLU3hbUzlq9Q9GVr/EsQ6//AIxmIh74ukgGJ4Fp/t1Ilijch1668YuDYHQ1yFgLynjL9wISxsIVAYxqfGZmDjeor2zo1TkSQW9j6kPocDieA5677LF7L/r3k1xaaGb08Vpg7XWO+3suai3hcDhcwIfHEpMwfpnJwwlhQ9sA+ekxOkcjCOFH0zRqW/qYlxf4/RijFUZFpcLpZW5uPO+cbOJ8c9+FVhShxJi7GPfeP+KtPICSmKN3OLrwlu/F9c7vkGNSsd77JWRbnN4hhQXJZMW0cAPu/X/C13AGQ+YcXeOpbelHArLH0HJC01S8FXtRMmYjR8YHPrgxyk2LRpElyht6KC5M1DscQUdjSgiF8JAQY8FiUmhoEzOEoWTA6aWysZfqpl5aupx09bkYdPmQJYiNNJMaH8GsGXHMzYvHYhJ/sqGsZ8BD35B3XCXIb5baM1yQWSwZnV6KZsQhSXDmfFdIJoSSJRJD1nx8lQfQlj6GJI9lZ0p40FQV96EX8Z7ajJI+C+vtn0GyhF7xn6nMOGsdntNbcB9+CSVjtq5LL2ta+klNiMBqvvH3sr+5HK2/A+Pim6uSGigmo0JuWjQVIdrORggecXU5jciSREaSjfp2UVhGT5qmUd82wMnKDk5WdXK+qQ+N4d9PUqyF+GgLCdEWVE2jZ8DN/jMt7DjeiMWksGp+GhtW5BAdYdL7xxCuonacS4gmwt/dBLIBKSop4GMJoSPSaiQ3LZozNV08uFr/whRXYyhYjq/2OP4WB4b0WXqHExSaexDnjl/hrzuJcfZ6zCseR5LFJdZkkwwmTCUP4H7nd/gbSjFkzdMtlpqWPmbNGNvsr7d8DxgtGHIXBTiq8SvMimHLoXrcXj/mAG91EEKXOFtNM1lJkRw614amaSGzqXk68PlVyuq6OVnRyYnKdjr73MDwco2Nq3KxZ8eSkxZ91ZOxz69S1djLOyeb2H60kb2nm3l0bQG3FovqkqGmtnVkCVFykCqMxqQiyeILfLqZkxPP6/tr6B/yEBWCN4cMM4rBaMXr2D0tEkJ/SwXO7b9EG+zBvPKDmObcpndIYc1YuBLP0b/iOfG6bglhz4CbngEPM1Kjb/hazevGd/4IxrwlSAZzEKIbn5mZsWw+UEd109gTXCH8iIRwmslMjmTniSa6+93ER1v0DidsaZpGa7eT8voeSs93UVrdicvjx2SQmZMbz/0rc1mQn0BM5I2/HAyKjD07Dnt2HBtW+tGesAAAIABJREFU5PDs1nKefsvB2ZouPnbf7CD8NMJY1Y4sITKbAp+kqV0NKCkFAR9HCD3FhYm8tq+GU1WdrJwXekuGJYMZY+EteB270VY8gWS26R1SQGiqH8+JTXiOvoIUmUDExm+gJIfmrG04kRQDpvl3De8lbKnAkFoY9BhGC8qMpcKo7/wR8LowzFwV6LBuSmFmDBJQUd8jEsJpTCSE08xoM+OG9gGREE6SIZePrj4XLV1D1LcNUN82wPnmPnoHPQDE2EwsnZVCcWEis2fETaj6ZFqCjX94bzFvHazjpV1VdPYd5/99KnQqlk13ta392LMDv69L8zjRBjqRZ60N+FhC6MlJjSIuyszxio6QTAgBjPY1eM9ux1t1ENPs9XqHM+n87TW4dv8OtaMWQ8FyLKs+jGSy6h3WtGEsWovn2GvDs4R3fzHo49c0940UlLnxHlFvxV6kqCSU1JmBD+wmRFiMZCRFUt4g9hFOZyIhnGZGE8L6tgHm54uKUjfi86t09bvp7nPR2eeis2/03910jTzm8vgvvF6SuFAEZmZWLPbsWFLjIyZ1aacsSdyzfAYp8RH876tn+OYv9/Gl9y7AZjFO2hjC+PUOeoZ7Uo2h4txEqd2NAChxmQEfSwg9kiRRXJDI3tJmPF5/wFuc3Aw5cQZyQjbesl1hlRBq7kHcx17FW7oFyRKN5fa/w5C7RCzfDzLJaMY47w48R17G31WPEp8V1PFrW/pJS7TdsNCbOtCJv/EcpkUbQ/ozMjMrhr2nW/CrKso0KgQlvEskhNNMhMVAYoyF2lZRWOZyvQNuKhp6aWgfoLF9kIb2Adp6nFzeXznSaiQh2kJynJVZM+KIj7YQH20mKdZKRqItaBdnJTOT+NzD8/jZS6f56Qsn+fL7F4bkheF0Ud003McpJ+3Ge0omyt/VAIAcLxLC6WrhzER2HG/kbG03xQWhd3NPkiSM9jW49z2Dv6MWJXGG3iFNiOYexHN6C57SLeBxYpy1DvPSR8J2OexUYJp9G57jm/Ce3opy60eDNq6madS09DMn98btI4Z7D2oYC1cGPrAJmJkVy/ZjjdS2DJCXHvjvMCH0iIRwGspJi6amuU/vMHTndPs4WdVBWW03jvpeWruGgOFZvpS4CDKTI1k6K4XEiyp/xkWZQ6oK19zcBP7xA4v4/h8O8/RbDj5236yQvgsZzqoa+1BkaUx7SiZK7WoAowUpKvD9DoXQVJQdh9Vs4EhZW0gmhADGwltwH3web9kulFUf0jucm3J5ImjIWYSp5IEpn+CGA8kSiXHmCrzlezAtfQTZGpxEpmfAQ++g54bVpDVNG+49mGZHjg7tatD27OG9g+dqu0RCOE2JhHAayk2L4khZG31DnmnXvmDA6eVERQdHHW2cqenC59eIMBuYmRXLrQvSKcyKISspckrNtK2cn86Dq3J5Zc95clKjuH1xcJfOCMOqm3rJSg7OZ0ftakCOy0CSxNKe6cqgyCy2J3GorI0Phmi5eMlsw5C/HG/5HsxLHp5Ss2kXEsHTW8A7kggu2oiSkK13aMJFjHPvwHtuJ95zOzGXPBCUMWtahm+o596gwqjaVoXW24qxeEMwwpqQGJuJzCQbZ2u6ue+WHL3DEXQgEsJpaPQkVtPcz/z88J9h6BvycLy8nSOOdspqu/GrGvHRZtaXZLLInkR+egyyPLVn1TaszKG2tZ/nt1WSnRLFzKzQa1gdzvyqSnVzH6vnpwd8LE3TULsaMOSWBHwsIbQtn5PK7lPNnKzsYOmsFL3DuSrTvDvxle8Z3ku44F69w7khzTWAp3QLntNbhxPB3MWYSjaiJIgbbaFIictAyZyL98w2TAvuRVICf1lb09yPJEHWDQrKeB17wGDCkLs44DFNhtk58Ww/1hiy+5KFwBIJ4TQ0IzUKieEqWeGaEPYMuDlW3s6RsjYc9T1oGiTHWrlzSRaLi5LJSY0Kq6WVsiTx8Q2z+fbvDvHU62f5148uxWoWf97B0tg+iMerkh+EpTaasxfNPYAc5CIKQuixZ8cSF2XmwJnWkE0IlYRslPRZeErfxjjvrpDtm6m5BvCcfgtP6dbhFgEiEZwyTPPuxLn5x/iqD2EsDHzV7drWftITbdedldd8HrzVBzHkLp4y1Wdn58Sx5XA9lY29zM658f5IIbyIK8ZpyGo2kJoQcaGPTrjo6nNxxNHOUUcblQ29aEBaQgT33ZLDYnsSWcmRYZUEXs5qNvCx+2bzg2eP8cKOSj58d5HeIU0bVY3DBWXyM2ICPpYqCsoII2RJYtmsFLYeqad30EOMLTS3AJjm3olzy3/hqzmKMW+p3uFcQnMP4jn1pkgEr0HTNOpaB6hs7MXj9ZMaH8Hs3PiQWqKsZM5Fjk3Dc3oLhoJbAvo9r2kaNc19zMu7/s10X+3x4eJDIdp78GpmZsWiyBJna7pFQjgNiYRwmspJjeZsTReapk3pJKlnwM3hsjYOn2ujcuSiPDMpko2rcllUlExG4tTZszIZZmbFcteybN48WMfCwqSwnQEONVVNfUTbTCTGBL63p9o13HJCjssI+FhC6Fu9II03D9Wx+2QTG1bk6B3OVSnZC5Cik/GceitkWjRoXtfwHsFTm4eLxeQuHt4jKGbeL2hsH+APbzoufLeOslkMPLqugNXz00LidylJMsa5d+De8zT+1sqANqrv7nfTN+S9YTVpr2M3ki0eJX3q3Ji1mAzkpUdzrrYLyNc7HCHIREI4TeWlR7P/TAtdfW4SgnARO5n6hjwcdbRz6Gwr5fU9aEBmko2H1uSxpCiZ1PgIvUPU1UOrczld1cnTb5Xx3Y8vu2GfJGHiqhp7yU+PDsrFkb+rAckaHbSKekJoS0uwMWtGHLtONHLv8hkhuR9akmVM8+8evmBvPIshc45usWiqD+/ZnXiOv4rm7EPJLsa85GExI3iZ3aea+ONbDiwmA0/cMZOSmUlYTAo1zX28ureG328u41RVJ598YA5Gg/7FrYyFK3Ef/gve028FNCEcXVl1vQqj6kAn/oYzmErun3KFv2bNiOO1vTUMuryit/E0I64Up6mCkaVtFQ09JMSk6hzNjamqxpmaLt452cSJig78qkZaQgT3r8xh6awU0qfZTOD1GA0KH7rbzr8/c4xX99bw2LoCvUMKa/1DHlq7naxeEPiCMgBqd4PYPyhcYt3CDJ58pZRT1Z2h24LCvhrP8ddxH30ZJWO2LjNLvqZzuPf8EbWnCSXNjvmOz6EEMHmYqrYdbeDZreXMyYnjEw/MuaQa+ayceOwz4thyqJ4XdlTy8/87xefeM1/3pFAymjEV3Yrn1GbU/nbkqMC0eahuGm4vlJ187YIyF3oPTqHloqNm58Tz6t4aymq7WWRP1jscIYhEQjhNZSVHYjEplDf0snxO6CaEHq+f3aeaeetQHR29LiKtRm5fnMmKuWlkJtlCYrlKKCrMjGX1/DS2Hq5nxZxUMq/z5SVMTHXTcAnyoBSUUVXU7kaMRWsDPpYwdRQXJhIXZWbLobqQTQglxYhp4YbhWcKGUgxZ84I2tjrYjfvAn/FVHUCKSsJ619+jZBeL74+rOF7ezrNbyykuSOTTD869aqInSxJ3L8smwmLg95vLeO7t8pDYs26cc9vwftAz27Asf19AxrhReyFN0/CW70FJK0KOnnoJVV56NGaTwunqLpEQTjMiIZymZFmiICOGioYevUO5Kq/Pz9tHG3jrYB19Q17yM6J5dF0BCwsTMShTawmGXh5dV8Dxig6e3uLga0+UiIufAKlo6B1pSB/4hFDtawGfByVR9EIT3mVQZO5aksXz2yupbOy9sAIk1Bjtq/GcfAP3gT8PzxIGuOKopml4He/g3v8nUH2YSjZiKr4PyRCaxXf01tgxyK9eP0tuWhSf2njjpaBrFqTT1u3kjQO15KVHB6XtzvXIkQkYchfjLduFedGDSMbJ3Q6jqhrnm/tZOe/aN9H9LeVofW0YSzZO6tjBYlBk5uXGc7KqA1XTkMV1w7QhrqynscKsWBrbBxlwevUO5QJN0zjqaOMbvz7IizuqyEqO5KuPL+TrH1jEkqJkkQyOQ6TVyCNr86ls6OVwWZve4YQtR103uWnDd1UDTe2oBUBOnBHwsYSpZU1xOpFWI5v21egdyjVJihHzsveidjfgLdsV0LHUwW6cb/4E9zu/Q0nMwfbIv2Fe/JBIBq/B51f51atnMBtkPvue+WPuQ/fQmlyKsmN57u0KOntdAY7yxkzz7gSPc7gH4CRr7BjE7fWTn37tGy5exztgtGDImxq9B69mQUEivQMeasOsEr1wfeLqehqbmTl8Uru8gphe+oY8/OLlUn7xcilmk8KX31fMl963EHt2nJjdukmr5qWRnRzJizuq8Pr8eocTdlweH+eb+7FnxwZlPH9HLSgG5Ni0oIwnTB0Wk4E7FmdysqqTqqbQOKdfjSF3MUpaEe7Df0EdmvwVKpqm4a08wOBL38TfdA7ziiewbvgKckxo9mkMFa/uPU992wAfvqeIuCjzmN+nyDIfvXcWmqbxxy0ONE0LYJRjiCelADk5H0/pVjRNndRjV4/8XeVlXH01iOZx4qs+jDF/GZJh7P8PQ838/AQkCU5WdugdihBEIiGcxnLTolFkifJ6/ZeNnq7u5FtPHeRUVQePrs3n23+zhFmiD86EybLEe9cX0NnnYsvher3DCTuVDb2omkZRdlxQxlM7apHjs5BksdpfuNLti7OItpl4YXul7hfm1yJJEubVHwKfB9c7v5/UOFVXP663f4Fr+y+RY1KxPfwdTHPvmHKVHoOtoX2AN/bXsXJuKgsLx1+MJTHWynvW5HOqqpNj5e0BiHB8TPPuROtrxV93alKPW9XUR6TVSHLs1RvNe6sPgc+D0b56UscNtqgIEwUZMZyoEAnhdCLOktOYyaiQnxHD2Zou3WLQNI3NB2r56QsnibaZ+NaHl3DP8hkosvhoTpZZOfEUFyTy+v5aegc9eocTVsrqelBG9uMGmqZp+DvrUBLEclHh6qxmAw+uzqWioZejDv0vzK9FiU3HvOQR/HUn6D++dVKO6a05ytCL38BXexzT0keIeODrYiZ9DDRN409vV2A1K7z3tpuvuHrbogzSE228uLMKn39yZ+bGy5C7CMkWj6d0y6Qe93xTH3nXaC+kaRreszuQ49KRk6d+D7/igkTq2gbo6tN/GbAQHOKqe5qbmxtPXeuALomCz6/y69fP8uLOKhYXJfONDy4W1TAD5LH1Bfh8Ki+/U613KGHFUddNbnpw9g9qAx3gHhT7B4XrWj1/uALzn7ZV4HT79A7nmozz7kDJnEvHW0/hayq76eNo7kGcO36Fa8vPkSJiiXjo25iLNwS8YE24OOpo51xtNw+tySPSevN95xRZ5tG1+bR1O9l5vHESIxw/STZgnHMb/saz+LsmZ2XMkMtHU8cgeddoSK+2n0ftqME4+7aw2OJSXDhcrfiEWDY6bYiEcJqbmze8LPPs+eDOErq9fn7+l9McONPKQ2vy+NTGOUG5qJ6uUuMjWF+Sye5TTdS3DegdTlgYcnk539xPUdD2D9YBoIiEULgORZb58D1F9PS7eWlnld7hXJMkyVhv+zTGuFScW3+Ov218N6s0TcNbfZjBl76Jr/IAppKNRDz4LdFgfhw8Xj9/3l5JZlIktxZPvELo/PwEirJjeX1/LR6vvnvWTUW3gsGE9/TkzBKeb+lD49r7Bz1ntoHRgrFwxaSMp7fU+AiS46xi2eg0IhLCaS47JYqoCCOl5zuDNqbL4+PHfz5BaXUnH7mniPtX5ITFHbVQd//KHCLMBp7fVhGy+4umkrM13aiaxtzchKCMp3bUgCQjx2cGZTxh6spPj+GOJVnsON7I6ergndvHSzLbSH3fN5BMEQxt+iG+2uNjep+/sw7nG/+J6+1fIJltRDz4z8MVRBWxt3Y8th1toLPPxeO3F07KNg1Jkti4Kpe+QQ+7TzVPQoQTiMUSiXHmKryV+/EPTrzI0mi/2avNEKqufnzVBzEWrkAyXX1/4VQjSRKLZiZxrrab/iGx1WQ6EAnhNCdLEnNy4yk934UahCTB51d58uVSqhr7+OTGOaxZoG/foukk0mrkgZW5nKvt5lRV6F4kThWnqzuxmg3kX+OO8WTzd9Qix6aLsvnCmDy0Jo+MJBu/fu0s3f1uvcO5JmNsyvB+v+gknG/9F84dv0LtuTKZ0FQfvvrTDG3+EUN/+Rb+9mrMKz5AxHv+FSUpV4fIpzan28cbB2qZl5dA0YzJK4o1MyuWgswYNh+s1X0voXHu7eD30Xf0rQkfq7qxl7SECCIsVy6r9Tl2g9+HcfZtEx4nlCybnYJf1TgSwvuRhckjEkKBebkJ9A95Od/cF9BxNE3j95vLKD3fxYfvtrN0ligDHmzrSjJIibPywo5K3b+spzJN0yg938WcnLigFUBSO+vE/kFhzMxGhU9vnIvH5+fJl0/rvoTvemRbHBEPfgtT8QZ8VYcYfOFrDL70TZzbf4lz568Z2vRDBp7+PM7NP0Jtr8G05GEi3/+fmObeLvYK3qQth+sZdPl4aM3kJtOSJHH/ihy6+tzsL22Z1GOPlxKbjpJdTO+RTWge500fR9M0qkYKylzxnOrDc2YbSpodJT5jIuGGnKzkSNISIjh4Rt/foxAcIiEUWFCQgCJLHAlw8/L/e6eafaUtPLg6l9ViZlAXBkXm0XUFNHcO8c7JJr3DmbIaOwbp7nczNy9Iy0WHetCGelASs4MynhAe0hNtfPy+2VQ39fHU62eDsgrkZkmKEfPSR7A98WNMSx9BssXhb63C31SG5nFizFuM5c7PY3v8R5gX3o9ktukd8pQ14PSy5XAdi2YmkZM6+Ssc5ubGMyM1ik0HalFVfT9z5pIHUJ0DeM5uv+ljtPe6GHB6ybtKQ3pf5UG0gU5MC+6ZSJghSZIkls9OobyhV1QbnQZEQigQYTEyJzeeI2VtAdtbtu1oA5v217K2OJ37V+QEZAxhbBYWJmLPiuWV3ecZcoVuFcJQdnpkye3c3OD0ylQ7agGQRcsJYZwWFyXz6LoCjjjaeWlHVcjvH5at0ZiLNxBxz5eIfP9/EPn4j7A99C9Y1nwUY06JWDI9CTYfrMXl9vPg6sAstZUkifuWz6Ct26l7c3MlOQ9r3gK8p95E897c0unqxpGG9JftH9Q0Fc/JTcjxmShZCyYcayhaNicVgL06z/YKgScSQgGAJUXJdPa5qQ7AstEjZW08t7Wc4oJEnrhzpiggozNJknjvbQUMOL1sOlCjdzhT0tHydmakRhEfbQnKeP62apAklKScoIwnhJe7lmaxriSDNw/V8dc950M+KRQCp3fAzbYjDSybk0JGUuDaPC2cmUh8tJm3jzYEbIyxilv1KJqrH++5nTf1/oqGXswmhczkS2elfbUnULubMBXfF7bXNcmxVmbNiOOdE00hvcJAmDiREArA8KyRIkscOju5y0bL63v41WtnycuI5pMb54iG8yEiJzWaFXNT2Xq4no6em99bMR119bmobupjsT0paGP626qQ4zORjMFJQIXwIkkST9wxk1Xz0nh1bw1/3XNe75AEnWw+WIfPr7FxZWAL8SiyzPqSTM7VdtPQrm+rI0vWLJS0IjwnN93ULGF5Qw8FGTGXXL9omobnxCakqEQMeUsnM9yQc2txOp19rqC3J7uRngE3pdWd7D3dzJ5TzRwvb6ete0jc8LpJokazAAwvGy0uTGT/mRYeWZuH0TDxjfqN7QP87KVTJMVa+PtHFmA2is3/oeQ9a/I4UtbGS7uq+NTGuXqHM2UcHam4tsieHJTxNE3F31aFMX9ZUMYTwpMsSXzk3iIAXt1bA8DGVblhO7MhXKl3wM2O443cMjeFlPiIgI+3ZkE6f91znm1HG/jw3UUBH+96zEseZujVf8Nz+k3MJRvH/L4Bp5fG9kGWFl16vvfXn0Jtq8K86kNhX9ioZGYSURFGdhxvDNq++Wtp7hxk98lmjpW303aNm9lxUWaWzUrh9sWZQVvFEw5EQihcsH5hBkcd7Rw618bKeWkTOlZXn4sfv3ASo1Hmi48tINJ6ZalmQV/x0RbuWprNa/tquGNxL/kZV26YF6501NFGZpKN1CBcUAGovS3gcaIk5wdlPCF8XZ4U+lWN96zJE0nhNLH5YB1+v8aGIO3jj7QauWVOCvtLW3j41nxdrwOU1EIMOYvwnNyMsWgtcsTYvu8qG4b3D87Mir3wmKaquA++iBSdjNG+JiDxhhKDIrN6fjqbD9bS2jUUlJsJl6ts6OX1/TWcqupEkSVm58SzflEmM1IiiY0yI0sS/UNe6lr7OVnZwdYj9bx9tJ71JZk8tDoPsym8k/bJINbvCRcUzYgjLSGC7ccmtuZ/yOXlJy+cxOn28cVHF5AYEx6NWsPRPcuzibGZeH67aFY/Fp29LioaelkcpNlBALW1CgBZJITCJBhNCtcsSGfT/lr+vL1S/O1PA70DbnYeb+SWOSmkxAXvgv62RVl4fCp7dG5UD2Be+ij4vLgPvTjm91Q09KDIErkXFZTxVexF7W7AvOQRJGV6zKvcvjgTRZZ581BdUMdt73Hy5CulfO+Zo5xv7mPjqlx+9JmVfPGxBdy5JAt7dhwpcREkxVrJS49m7cIM/v7RBXz/k7ewYm4qWw7X863fHqSmJbBt1cKBSAiFCyRJYt3CDM4391Ne33NTx/D6/PzsL6dp6Rric++ZR3ZK1CRHKUwmi8nAQ2vyqGrsE81nx2Dv6eGLmhVzU4M2pr+tCkxW5NjgjSmEN1mS+NDddm4ryWTL4Xqe2VouCkaEudG9gxtW5gR13KzkSAoyYth1skn3Gw9ybCqmBXfjK9+Dr6lsTO8pb+ghJy0K08iWF801gPvgC8jJ+RjylgQy3JASG2lm1bxU9p5upmfg5qq1joemaWw72sA3nzrIqaoONq7K5YefWsHGVblE225caTghxsJH7pnFVx9fiF/V+P4zxzgc4NZqU51ICIVLrJ6fTkykiRd3jP+usc+v8j+vnKG8voePbZjFrJzglOQXJmbVvDQykyJ5YXsl7hBuXq03VdPYc7qZWTlxJMYGb9bb31aFkpSHJInTtTB5ZEni8TsKuWtpFjuONfL0m2UiKQxTvYMeXWYHR91anE5r19BN32ieTKaSB5CiknDt/v0NC8x4vH5qmvuZmfnuclHXgefR3ENYVn9k2i21vmtZNqoKr++rCeg43f1ufvLCSZ7dWo49K5bvfWI5G1fl3tSyT3t2HP/84SVkp0Txy1dKL9zUFa4krjCES5hNCg+uyqWqqY9j5WOfMVJVjadeP8uJyg4+cOdMls8WsxlThSxLfODOmXT2uXh1r6g+eC1ltd109LpYNX9i+2vHQ/O6UbsaUFLEclFh8kmSxGPrCrjvlhm8c7KZ37x+Dr+q6h2WMMnePFiry+zgqMVFyVjNBnadaNJl/ItJBjOWNX+D1tuKe98z131tdVMfflWjcGT/oPf8EXzlezAtuBslISsY4YaUlLgIbl2Yzs7jTTR1DAZkjCNlbXzrNwcpr+/hA3fO5IuPLZhwYZgYm4kvva+YWTlx/HbTOQ6cFT0Vr0YkhMIVVs1PIz3RxnNvV9A/5Lnh631+lac2neXQuTYeXZfP+pLMIEQpTKaZWbGsmp/GlkP1NLTpWyI8VG072oDNYmDRzCC2m2g/D5omCsoIASNJEg/fms+Dq3PZf6aFp9906L60T5g8vYMedhxrZLlOs4MAZqPCijmpHHG0MeD06hLDxQwZszEt3IDXsRtP2a5rvq68oQcJKMyMQe1twbXzN8hJuZgWPRi8YEPM8EydPOl7j4dcPn792lmefKWU5Dgr//I3S1hfkjlps7Bmo8LnH55PYVYsv3n9HOdquyfluOFEJITCFRRZ5hMbZtM/5OXXr5+97jKiQZeXn710igNnWnn41jzuWTYjiJEKk+mxdQVYzQb+IJaOXaGpY5DjFR3ctihzUlqyjJW/bbigjEgIhUB7YGUuG1bMYPepZl7aVaV3OMIkefNgLV6/yv1Bqix6LbcWp+Pza+wLkSV7pkUPomTMwb37D3hrjl31NeX1PWQk2bD6+hh640cgy1hv/wySMn2rpkdHmNi4MpfT1Z3sPT05M22Oum7+5bcHOXi2lQdW5vC1DywiLcE2Kce+mMmo8LmH55ESH8GTL58WPZgvIxJC4apmpEbx+O2FlFZ38ZvXz+H1Xbm37FxtN9/+7WHO1XbzkXuKuO+WnOAHKkyaSKuR991WQFVTX0gs7Qklmw/WYjLI3LYouLPf/pZypJhUJEtkUMcVpqeHVuextjidzQfq2HywVu9whAnq7nez41gjt8xJ1aVVwMUykyPJT48OieIyAJKsYL3zc8hJObi2/gJP6dZL4vL6/FQ09LIs1cXQa99Hcw8Qcc+XkKMSdYw6NNy+OAt7VizPvV1+zV6AY+Hx+nl+WwU/fO44iiLztQ+W8ODqPAxK4FITm8XI5x+eh6pp/M9fS/H6xBL5Ucq3v/1tvWOYDLHAF5xODyFwnrmEzWZmaAzLLkNRTlo0siyx9Ug9h8vaQdNwuv2Unu/kpZ1V/HXPeWwWA194bAELC4O3jE641GR+xjKTIqlo6GVfaTPLZqUQYZm+d0JHtXQN8ce3HNy6IIPFRcFrN6GpKu49f8SYXYxhRnHQxr3cVD6HCeMjSRLz8hJo7hxi65EGkuOsZCUH9maE+HwFzp+3V1Lb2s9nHpqHLQTO5ZIEu081MzsnnoSY4DUMv9ZnTFIMGPOWoHY34i3dgq/xDJLJiiQbqC0vJ77hHda4tiMZTETc/UWU5LygxRzKJEmiaEYsu040cbyig2WzUy5UYR2ryoZefvziSU5VdbJ2YQaffWgeSUEq1mazGkmNt7HlcD1Ol4/5+QkTO16IncMkSSIiwgTwX8CYKzmNqYGK3W5/HPgmYAR+6nA4fnHZ88XAU0A08A7wKYfD4bPvODzrAAAgAElEQVTb7dnAM0Ay4ACecDgcA3a7PRZ4FsgD2oHHHA5Hi91unwGUAqPrVVodDsddY/1hhMl3/4occlOjeHFnFc+9XXHh8YRoM4+tK2B9Sca4TwRC6JIkiY/cU8S//PYQT71+lq88XoIsT69Kapd7flsFJqMc9IIMalcdeJ0o6fagjitMb7Is8Yn7Z9M36OF3b5SRHGclP31sTbyF0NHcOcjuU03ctigzaBfaN7K0KIXnt1Ww60TjJY3e9SSZIrDc+Tm853biObEJ19vDl7fJQIJZQi5YiW3F+5HMk7+EcSpLjLHy+Ufm85/Pn+AnL5zg848sIGYM7SD6hzy8uqeG7ccaiI8284/vK2a2DhXpF9mTuHNJFlsO1zMnN57iQjHze8N5WbvdngH8G7AKKAb+1m63z77sZc8An3U4HDMBCfjEyONPAk86HI4i4AjwzyOPfxfY7XA4ZgG/ZjiLBVgMPOdwOIpH/hHJYAiYm5fAv350KT/41C380xMlfP+Ty/nhp1dw97JskQyGoaRYKx+4cyblDb3TftnYiYoOTlV1snFl7pi+7CaTf6RPlpJWFNRxBcGgyPzdQ3OJjTTx3385TVefS++QhHF6aWcVZqPCBp33Dl7MbFJYPieVw2XtIVFcZpQkyZhmr8f2vh9gvf9rWNZ+nNeM9/Ib60eJXPdxkQxew8ysWP7uwbk0tg/ynd8f5sz5rmu+dsDp5bV9NfzT/+5n+/EG1pZk8J2PLdMlGRz1yNp8MpMi+cNbZQy6QufzqJexzBDeDmx3OBxdAHa7/SXgEeA7I/89A7A6HI4DI6//PfCvdrv9KWAN8OBFj+8CvgrcN/IcwJ+AX9jtdiOwBJhrt9tPAF3A3zscjtMT+QGFyZMUaw2ZO41CYN0yJ5WTlZ28svs89qw4CjJDa4ZAVTWaOgdp6hikd8CD2+vHaJCJizKTGh9BWkLEhIu/dPW5+O0b58hIsrE+yHsHAfzNDqSYFGRbXNDHFoSoCBN//8h8vvvHo/z8/07zT0+UYBY3AC/RO+ihoX2Azl4Xbo8fs0khLsrMjNQooiOCewPpYo66bo5XdPDg6lxd47iaWxeks+NYI/tLW7hjSWi1bpBkA4Y0O0NxeWx7eTcbbsnQO6SQV1yYyNc/uIhfvHyaH/35BAWZMZQUJpESb0WSJNp7nJyr6eZMTRden8qC/AQeWVdARqL+SbZBkfnYfbP47tNHeG5rBZ+4//K5rullLAlhOnBxWahmYOkNns8EEoE+h8Phu+zxS94zsrS0D0gCXAzPNv4vcDfwit1un+VwOMa0ODchITQLLyQlRekdghDmAvEZ+4cnFvEP//UOT/61lJ984dagNmO/Gp9f5eCZFvafauaYo+26LVFMBpk5eQksmpXCqgXpJMSML3aX28cP/nQcv6ryzY8uIy05uH/DmuqntrWcyKJbQuL8EQoxCMGXlBT1/9u78/ioynvx459zZkkm+77vQA5hTQARZBUREXctWpdqa6v1emtrb23vz9auV9vb3i62vfW2VVtbrUvdrQIiiIKy70vIYc0CISGEkHWSWc75/TGDIoIkZCYzk3zfrxcvMmeZ80xeT5453/M8z/fhO1+YxMN/WcdLKw9w/+cnBO06kaK1o4el62pYtfUwB+vbznpcSU4i08tzmHdhIYlxUQNWPrfH4Nm/biAj2cGtC0YRbe/VzKABk54eT2lBEh/sbODmy8sGbHH3vtSxtTuPYJowtTw3oupmqKSnx/OnkZksXl3NkrU1/HPFvk/uT3Zw2YWFzJ9aRGF2QohKeWbp6fEsvKSU59/RmTulkMnnuYb2YKgnvWkpVODUVC0KYPRi/+nbOeW801sABTB0Xf/RKdsWaZr2M6AM2NaLctLc3IFhhFdWmfT0eJqa2kNdDDEImKaJ0VyLt74Sb1M1RkczuHuwRUfjjU5GTS3Amj8GNbUwYF+y9147hof/vpEfPb6GB2+dEJIhwh1ON0s31LFyWz1tnS7iY2yMKU5ldHEyeelxpCREE2Wz4PYYHG/rpr65kwP1bew40MwTr+/kyTd2MroohYvGZjFhRPo5P0OH081vX9zGgSNt3HvtGKIUBvxv2HusBqO7E3dyScjbD2nDhrbi9FiuuqiINz6spjA9junjsgP6/pFSv463dfPaqoOsrWzA4zUZnpfIDbNKKMlJJCPJQZTdQrfLQ3NrN/vr29iyt4m/L9rNc0t1ZpfncvX0ogFJ7LJ4bQ11je18/YZxtLc6Ccff7EWjs3hqcRVrth5iRF7w5xL2tY6t3V6P3aqSGmOLiLoZLqaWZTC1LIMTHT2c6OjBa5ikJUSTEGv/6J4kHH+fc8qzWbXlEP/30jZyvxLd5/uccGvDVFU5rw6y3gSEh4AZp7zOAupP2599hv1HgURN0yy6rnv9x5w877D/uEOaplmBeKBZ07T78M0hbPYfpwAysFcMaaa7G3fVSlyVyzFbGwFQ4lJREzJQouNRVQPXsWo8B9bj2vASanIutjGXYtOmo6j9ezqcmxbL3VeN4vcv7+CPr+/i3uvGBDUl9Km6XR7e2VDHkvW1dPd4GTcsldkVuYwtST1johubVSUmOo68jDgml2Xy+UtGcKS5kzW7Glizs4E/v1FJtN1CxYg0LhiZiVaQhCPq499Pj9vLht1Heen9/XR1e7j32rFM1EKTPdd7ROYPivBx9bRi9tSd4JmlOsXZ8eSmh+donGDocXt5c3U1SzfUYZowc3wOcybkkXOGIW9xDhtpiQ60gmQWTCnk8LFO3l5Xy7KNdazeeYTrZ5YwqyIXNUi9Ys2t3bz+4UEqRqSFdZKMyWUZ/uQy9QMSEPbV7poWRuQnYbPKymznIykuiqQB7BXvL6tF5bZ5pfz82S0sWlvDtTOGZjbZ3twtLgN+pGlaOtAJ3ADcfXKnrus1mqZ1a5o2Tdf1D4EvAIt1XXdrmrYKuAl4FrgdWOw/bZH/9U/9+1f5j58FOIBf+H+2AFWB+KBCRBrT48K1421c25dATydq5nDs4y7HWliOGvPxl+jJp1NGVyuemi24K1fQs+opXNuXED3tNqx5Y/pVjooR6dw2r5Rnlu7hT2/s4p5rRmNRg/dF6fZ4eW9LPW+uqaa9y03FiDSum1FC3nmkv89OjeX6mcO4dkYJek0Laysb2aQ3sWZXI6qikJniIDHWTrfLS/2xTlweg5KcBG5bWEpRVuiGtnjrq1ASMlDjQjfhXoiTVFXhq1eP5od/3cBjr+3k+3dMCruhiMGw73ArT761m8bjXUwdncl1M0tI68Pw89y0WO68ooy5k/J4fvlenl66h416E1++ooyUhMAuu2CYJn9ZtBuAm+eOCOh7B1q03cqU0Vl8uOMIN88dERZLYpx0rNVJ/bFOpo8NbE+4CG9aQTJTRmWyaG0tF43JIiM5tOt2hoLSmwVC/ctOfBewA0/ouv4LTdMWAT/QdX2jpmnj8WULTQA2A1/Sdb3Hn3Dmb/gy+NYCN+u63qJpWgq+JDPD8K2Rcauu69X+jKZP4etNdAJf1nV9ey8+RxFwUIaMisHCfXATPWuexexoxlJQTlTFlVgyh5/x2NPrmGmaeGu30r32BczWBmxls4maeguKtX/JBZaur+X5d/cxSUvnrqtG9Ttpy+m8hsHqHQ28/uFBjrf1MLIgiRtmDWNYbmAT2ni8BlW1LeypO8GR5i5aO1047FYykh1UjEhjZGFy0J7g94ZpeOn4+9ewFV9A9Kw7Q1aOk6QNEydVVh/nV89vZcroLL5yZWDmf4Vj/fJ4DV5ZeYC319eSEh/NnQtGUtbPbIimabJyWz3PL9+HqsKtl5YydXRWwIb3v72+lhfe3ccd8zVmlYd/MpSahnZ+/NQGbpk7grmTgptcpi917N3Nh3hm6R4euetCslNDn/hEDJyW9h6++/hatPwkvvG5cb3+2wy3NuyUIaPFQHVvz+vVIz5d15/F18t36rYFp/y8jU8mmjm5vQaYfYbtx4Grz7D9MHBpb8okxGBkdnfQ/eHTePavQ03JI/qK72DN7VvmK0VRsBZWEJs7mp6Nr+DevgTvsRocl97Xrx6neZMLAHj+3X20dGzh3mvHkhzf/2EhhmGyUT/Ka6sO0nC8i+LsBO5cUBa0dNRWi8qY4lTGFPdvMdpg8R49AC4nlvyxoS6KEJ8wqiiFq6cX8/oHBxlVlMy0QdiLcrytm8de28mB+jZmjs/hpjnDPzG0/HwpisKs8lzKilJ48s1KnnhzN9v3N3P7ZRox/ewh21N3gpfe20/FiDRmjs/pd1kHQmFWPEVZ8by/zbdW4kAllzmXbfuayUh2kJUy9HqIhrrk+CiunV7MC+/uY+u+Y1SMCM2UkVCx/OhHPwp1GQIhCbjf6XTRiw7PARUbG0XXZ2RDFOIkT/UWnIt/hXGsBvvE64i++C4siZnnPO9sdUxRLVjzxqCm5uOueh/PnlVYcss+Mdy0r4blJpKXHsuKLYdZubWe9CQHOakx5/Vl7jUM1u1q5E9v7OK9LfUkxtq5Y/5IbpozfEgO1zjJvfs9vI37iJ5xR797dQNB2jBxqtK8JPbUnWDltiNM1NKJ7+eyBuFUv3YdPM6vXthKa6eLu68azYKphQGfRxYbbWPamGysFpV3Nx9mbWUjRVnxpCae3xDSoyec/PL5rSTFR/GNheMibm3gVduPMKYkNeBDaE/V2zrW4/Ly97d1pozKYuyw8HxgKIKrKCuejfpRdh44zuyK3DPmKzhdOLVh4Hv4FONrl3+LbxRmr0hAGGThVlFE+DFdTrpX/Q3X+hdREzJwXP4f2IZNRlF6dyNyrjpmScrBWlSBZ/963JXvYcnWUOPO/8suJy2WiVo6u2tPsGzjIfbUnSAtMZrUhOheBYYt7T28s7GOv7y1mw92NJAUZ+fWeRq3XFpKTlps2DwpDpWe9S+ixqVhH31JqIsCSBsmPklRFEYVpbByWz2VB48zbWw2ll7cNJ1NONQv0zRZuqGOJ96sJD3JwQOfL0crCN76n4qiUJqfxJiSVLbsaWLpxjoMw6Q0P7FPw9WPnnDyP89uxuM1+PbNFaTEBy+oCobM5BiWbz6Ex2NQURq83pje1rEd+5tZW9nIDTNLZM3lIUpVFVITo3l382ESYu2U5Jw7l0A4tGGnkoBQAkIRgbyN++ha9EuMBh17+ZVEz7mnzwuR96aOqY4ErMWT8FRvwl25HEvGMNSE8/8Cjo+xM2NcNomxdtbvPsqKLYfZpDdxosOFx2ugKgoKCj1uL81t3eypa2VdZSMvrtjHP1fso6r2BMXZCdw0ZwSfnzuCvPS4IR8IAhjONlxrnsNWNhtrthbq4gDSholPc0RZyU6NZenGOrp7PP3qTQl1/fJ4DZ5Zuoe31tQwsTSd+xeOJykAQ+F7Izk+imljsznR0cOyTYfYsqeJnLTYXiWu2XvoBI/+cxsut8EDn68gLwIzv9qsKs2t3ayrbGTOhLygZfXsbR17e30tR084uXWe1queITE4ZSY72HuolfW7jzKrPPec9TLUbdjpzjcgHPxpwoQIQ6bhxbXlX7g2v4ESm4zjqgexZpUG9ZpqXCoxVz2Ic9H/4Hz7t8Rc8e2zJqrpDYuqMmdCHtPGZrNmVwPrdjXy1prqsz6UURQYlpPIdTNLmFyWQeYQHhZ6Nt5DOwH6nRlWiGArH5HG3Il5LNt0iFFFKWG9zMHZdHa7eezVneyuaeGKqYVcN7NkwBNKOaKsfPmKUVSMSOe5ZXv5+bNbmFiazvwLCyjJSfjUg7L2LheL19WydH0dqYlR/MeN5eeVgTlczByfw/tb61lb2cCcCXkhK4dhmmzb38zo4tQBW1pJhCdFUbjx4uH85KkNvLW2moWzz/8+KZJIQCjEADPajuJc8WeMxn1Yh08levoXUOwDExypMYk4FjxA1xs/o2vxr4m56kEsqf3L8BZlszC7PJfZ5bl0dXuoO9pOY4uTrm4PqqoQG20lJy2WrJSYgCRnGMw81ZtRHImo6UWhLooQ57Tw4uHsqTvBXxbt5sd3Tg5IkqmBcrSli0df3E7TCSd3Lihj+rjQJsiZUJrO6OIUlqyr5Z0NdWza00RaYjQjC5JJTYzG5fFy6GgnVbUteDwGF43J4ua5pcRER3abWpQVT0FmHCs2H+biityQjRSpaWintcPFeJk7KPAlPZo6Jot3Nhzi4vJc0obAEOLIbkmEiCCmYeCuXE7P+pdAVYmecw+24VMGvBxqTBIxV3ybrjcewbnof4i5+ruoiVkBee+YaCtaQXJQ598MVqbHhaduB7YRU3s9f1SIULJZVb56zWh+8tRG/vzGLr59c0VEDLXbU3eC/31lB6ZpBn2+YF9E2SxcM72Yyybns66yka17j7HjQDOtnS4sqkJakoOZ43OYXZ5DbgQOET0TRVG4ZGIef11Uxe6alqBllz6XjVVHsagK44dHXk+3CI7rZ5awoeoor6w8wN1Xjw51cYJOAkIhBoD3eB3dK/+KcfQAlvyxRE+/AzU+dF88anwajiu+jfONn9G16JfEXPNQv7KPiv7z1leCpwdr0YRQF0WIXstOjeW2eaU8+dZu3lxTzdXTikNdpM/04Y4jPLW4irQkB/cvHBeWQ9ej7VZmled+tJ6gx2tgUZVBO896yqhMXnpvP+9sqAtJQGiaJhuqjjKqKIU4R/+WABGDR0pCNJdNzufN1TVcekE+xdnnTjATyeQxtBBBZHSdoHvV3+h6+YeYbU1Ez/kqjvn/EdJg8CRLUg6O+d/EdLbhXPxrTJcz1EUa0jzVm8EWjSWnLNRFEaJPLhqTxZTRmbz+wUH21PU6h8GAMkyTl9/fz5Nv7aY0P4mHbp8YlsHgmVgt6qANBgFsVt+0g+37m2k83jXg169uaOdYazcXjMwY8GuL8Hb5hYUkxNh4YflezHDLWhlgEhAKEQRGRzPda56j8/n/xF21Etuoi4m58afYhk8Nqy92S0YJjku/hnH8MM53fo/pdYe6SEOSaXjxVG/Bmj8OxSJPqEVkURSFL8zTSE908Od/7aLDGV7tSI/byx9f28lba2qYOT6Hb944nth+LgYvAuviCb4135ZtOjTg116/uxGLqlBRGvoHtSK8OKKsXDOjhD2HWtmy91ioixNUEhAKESCmx4X7wAacS39P53Pfxr3zHaxFFcTe+AjR076AGh0f6iKekTV/HNGz7sR7uJLuFY9jmkaoizTkeOt3Y3a3Yx02OdRFEeK8OKKsfPWa0bR2uHhqcVXYPE1vae/h5//YzCa9iRsvHs4d8zXJIhmGkuKimFyWwQc7jtDV7Rmw6xqGyfrdRxlTnCIPCcQZzRyfTU5aLC+u2IfHO3jvj2QOoRhSTMMAtxPT3Y3p7gEFFFRQAMUCFquvh8ZiBYsNRbV8+j1MEzwuzK4WjJYjeI/X4T2i423YC14XiiMB29h52EfPDYuhob1hK52G0dWKa/0/6YlJJGrqLWHVkznYufetAZsDa/64UBdFiPNWnJ3ADbOG8c8V+1i+6RBzJ/Uvg3F/1TS087uXt9PV7eG+G8ZF5NIYQ8mlF+SzZlcjH2yvZ97kggG5ZmX1cVrae7j5khEDcj0ReSyqyo0XD+PRF7ezYsthLg1xuxYsEhCKQcnobMFoqsZ77CDG8cMYnccxO5oxnW19eyNFAdX2caAImD2dYHzyCaaakoetbBbWgvFYcsrOGEiGO/v4yzG7WnDvfAc1Nhn7+AWhLtKQYHpceA5uxlo8EcVqD3VxhOiXeZPz0WtbeH75PnLTYikLUdbITXoTj7+5iziHjQdvm0BBZniO0BAfK8pKYEReIu9srGPOxLwB6cn9YMcRYqOtkl1UfKaxJamUFSbzxgcHmTYmi5hB2JssAaGIeIaz7ePgr6kab9NBzC5/YgNFQU3MQolPw5JagBKThBIVg2JzwEc33yaYJhheTK/HF+x53b75dF7PR//j9QAGSlQcRMWhOuJRk7JRk3MGbB3BYFIUhaipN2N2tdKz7p8ojkRspdNCXaxBz1O7DdzOkCxBIkSgqYrC3VeP5qdPb+Kx13by0O2TyEwZuPbRNE0Wra3h5fcPUJKTwH3XjyUxLnLWRxzqrphayKMvbmf1zgZmjs8J6rU6u91s3nOMWeNzsFllGLE4O0VRuGnOcH781w28ubqGG+cMvsXqJSAUEcVwtmE01+I9Vo1x9CDeY9WYHc3+vQpqUjaW3FFY0ouxpBWhphWgWOVmoLcURSX64rtwdrfT/f5fUBzxMowxyNz6KpSYJMkuKgYNR5SV+z43jof/tpFHX9rOg7dOICE2+L3fXd0e/rJoN5v3NDG5LIM7F5Rht0XeaI2hbGxJKoVZ8by1ppppY7OwqMEL1FbvbMDjNZg+Ljto1xCDR0FmPNPGZrNsUx0XT8glfZAtVi8BYRgwuloxu1owne2AiWKPQXEkoMSnDbkFqk2PC7OrFdPZ6vu9OFsx24/hba7FaK7DdLZ+dKySkIklcziWMXNR04qxpBWi2AfXH2goKBYbjnlfp+tfP8X5zh+IufI/sWSUhLpYg5LR0Yz30A7s46+IyGHGQpxNRpKD+24Yy6+e38qvXtjKd26pCGrSjkNNHfzhlR00nejmpjnDmXdBvsyDjkCKonD1RUX8/pUdrKts5KIxwQnWDNNk+aZDDMtNoDBLhhOL3rluZgnrqxp56b39/Nu1Y0JdnICSgDAETK8HT+1WPAc34m3Ye0oP12ls0VhSC7DkjsJaMB41rTAiA0TTNMHVhdFxHLOz5ZPB3qnBX1cruM+wFp5qRU3OxZI/FktKPmpqvi/4i4od+A8zRCh2B47Lv0XX6w/jXPIbYq75HmpiVqiLNei49Q/ANLGNnBnqoggRcCPykvja9WP57UvbefTFbXxzYTkx0YG97TBNk9U7G3h6qY7DbuU7t1RQmp8U0GuIgVU+Io289Dj+tbqGC0dlBqWXcOeB4xxtcXLdDHnYKXovOT6K+ZMLeOPDai493Mrw3MRQFylgJCAcQGZ3B67tS3Dvfg+zpwPFkYAlW8Mydp6vNzA6AQUwXU6Mrhbf0MijB3Bteh3XptdQ4tOxaTOwlU5DjUsN9cc5I7O7A2/jXrzNdRjHD2G0HMboaAZ396cPtjtQHYkoMYm++X35vp9PblNO/h8dL70nIaDGJBFz+QN0vfEIXYt+5QsKY+RGK1BMw4tbX4kldzRqgiyILAanMSWp3HPNaP74+i7++x+buH/heFISogPy3m1dLp5eorNpTxOl+Uncc81okmS+YMRTFIVrphfxh1d3smrbEWZX5Ab8Gu9srCMpzs5ELT3g7y0Gt/kXFvD+tnqeW7aX790+MdTFCRgJCAeA6XHh2r4Y17bF4O7BWjwRmzYTS97oXgU6hrMNb9123Hs+xLXxFVwbX8WSPxb76DlY8sahBHGM/bmY7m48h3bhrd+N90gVxvGPF5VV4tNRk3Ox5Y5CjUtBiUtFjU35ONiTjIphT03KwjH/m3S9+d84F/+GmCu/Iz2zAeKp3ozZ0Yxt6s2hLooQQTVRy+D+hVb+8OoOHnl6E1+/YVy/humZpskmvYmnl+o4ezwsnD2MyyYXoKoyRHSwmFCaTmleIq+uOsDkssyA9iwfqG9j18Hj3DCrRNakFH0WbbfyuVnDePKt3Xy44wjXX5IQ6iIFhBIui8f2UxFwsLm5A8MIr88T11VLw78ew2xtwFo0Efuk67GknP/TLqOtCbe+EnfVSkxnK0p8OvZRF2PTZqJExwWw5Gdn9nTiqfENefUc2gleN1jtWDJH+Ho8szVfj5/M5xsQ6enxNDW1B/UantrtOJf+FjU5B8fl35KewgDofP1hzK5WYm/6eUgf6pzLQNQvMTTUNrbz25e2097l4oZZw5g7KY+szMQ+1a/axnaeX76XqtoTFGTE8ZUrR5GXMTDffWJgHTzSxn/9bSOXTylg4ezzz+p4ehv26Ivb2H+4lV/820U4oqRfRPSdYZr87JlNNLU4eeqH8znR0hnqIn1EVRVSU+MAioHq3p4nAWEQGR3NdD77AEp8GtEz7sCaF7gJqKbXg6d6M+7K5XiP6GCxYh12IfZRlwQlAYjR1YqnehOeg5vw1leB6UWJTcFaNAFr8UQsmSNQLNKwhsJA3bB76nbgfOf3KDFJxCx4QIY59oP36H66Xvsvoi66FfuYS0NdnM8kAaEIpPYuF39dVMXWfcfIS4/ji1eOoigjFvUzEsCYpolee4K319eybX8zcQ4b180oZmZ5TlCzUIrQe+LNStbvbuThu6aQcZ5ZHU9tw04GmdfPLOHKi4oCWFIx1Bw+1smSdTV867YLJCAMI0WEYUBomiZx7fvpiMkP6tIH3uOHcFe+i3vvanB3o6YXYx81B+uwyf26rtHRjKd6sy/5zZE9gImSmImteBLWoomo6cWSxS0MDOQNu7dxH11LfoOCQvTce7HmjhqQ6w42XUsexduwh7hbf41iC8x8qmCRgFAEmmmabN7TxAvv7uNYazdpidFMKE1neG4iGckObFaVrh4PTS1O9h9uY+u+YzS3dRMfY2POhDzmTsoLasZSET5a2nv47uNrKclO4IHPl5/XPcfJNsw0TX7q79X52VenSu+gCIhw+46UgDAMA0IY2Ipiupy4936Iu/JdjJZ6sNix5JZhzR+HJWMYakreWXvxTNPAbGvC21yDt74K7+FKjNYGANTkPKzFE7GWXICanCtBYJgZ6MbIaG3A+fbvMFobiLrwRmxj50Vk9ttQ8R49QNdrP8E+6XqiJlwd6uKcU7h92YnBw2sY7KlvZ/Hqg1TVtODxfvr7225VGVmYzAUjM7hgZIasKzgErdhymKff1rl9vsbs8r5PuTnZhq3eeYQn3tzNlxaMZMa44C56L4aOcPuOPN+AUB6PDCKK3YF99Fxsoy7Be0T3zfGr3UpP7TbfAaoFJTYFNTYZrHZQFPCv+2d0toCnx3ecNQpLtkZU2SysBeWoSbJoq/iYmphFzOXoJaUAAA3eSURBVLXfp/u9x+lZ+zye2m1Ez/oyanxaqIsWEXo2vQZRsWE/VFSIYLOoKjMr8ijLS6TH7aWhuYtjrU7cHoPoKCupCdFkp8ZI4o8hblZ5DhurjvLC8n2MyEsiN63vic1aO1388919FGcnMG2s3NMIcTrpIQyyUD85ME0Ts+MY3qaDGMdqMTqaMTuPY3rcgIlisaHEJKHEJKGm5PrX+SuQ+YARJFR1zDRN3PpKetY8B6aJvXwB9rHzUWyS9v1sPIcrcb71C+yTbySqfEGoi9MroW7DxOAm9Uv0Rkt7Dz/+63piHTYeun1Sn4Z7pqXF8b3HPmR3TQs/+OIk8tIlCZEInHBrw6SHUJyRoii+5R/i06FkcqiLIwYRRVGwj5yFNXc0PWuew7XxVdyVK7CPu8yX9VaWp/gE0/DSs/ofvszAY+aGujhCCBExkuOj+Oo1Y/jl81v431d2cP/CcdisvRs+/MKyPew40Mytl5ZKMCjEWcg4DCFEv6jxaTjm3Yfj6u+iJmbSs/YFOv7xTZwrHsdTvQXT4wp1EcOCe9cyjJbDRE29WdbgFEKIPiorTObOBWXsrmnhsVd30uPynvOcFZsP8Y8lVUwdncWcCYFf4F6IwUJ6CIUQAWHNKsV61YN4j9Xg3rUc98GNePZ+CBYrlrRi1MxhWJJzURIzURMyURzxQyYZjdHaQM/6l7EUjMdaWBHq4gghRESaNjYbl8fgmaU6P31mE/dcM5rs1E+PRvEaBi+/d4Al62uZVJbJlxaMlIR4QnwGCQiFEAFlSSvEMutOoqbfjvdIFZ5DO/E27sO9cxluw/PxgYqCEh2PEp3gCw4dCZ/4pzoSUByJvjmusckR+2VuGl6c7z0BFivRM74YsZ9DCCHCwcUVuaQlRvOn13fxgyfXM2NcNpPLMslMicHl9lJV28KSdbU0tjiZMyGXr900IazWiRMiHElAKIQICsVixZo3BmveGMAXGJkdzRitDRitRzGdrZjOdszuNgxnG0bTQUxnG7i7P/1mVjtqYiZqYjZqSh6WjBIsGSUo9pgB/lR917P+RYzGfUTP+aovw68QQoh+GVuSyiN3T+G1VQf4YEcD722t/8T+vPQ47rthLBUj0rFZh8ZIFCH6QwJCIcSAUFQLSkIGakIG5J/9ONPjwuxux+xq9QWLHccxTjRgtDbgPVaN58D6k++ImpSNJWcklrwxWHPKUOyOAfksveXetwb39iXYRl2CbfjUUBdHCCEGjcRYO3fMH8mNFw+nqqaF1k4XqqpQnJ1AbnosqozGEKLXJCAUQoQVxWpHiUuFuNQz7jd7OvE2HcR79IBvKOqeD3FXvguKBUvWcKyFE7CWTEI9y/kDxVO3ne73nvCt6Tn15pCWRQghBitHlJWK0vRQF0OIiCYBoRAioihRsZ8ciur14G3ci7duB5667fSsfY6etc+hZpRgK74Aa/Ek1ISBvVnw1GzFuewx1OQ8HJd9Q9b1FEIIIUTYkrsUIUREUyxWrDllWHPKiLrwRozWBl+G0wMb6Vn3Aj3rXkBNK8JacgG2kgt8Q1aDxDRN3JXL6Vn9LGpaIY7534yIeY5CCCGEGLokIBRCDCpqYhZR5VcSVX4lRlsTnoMbcB/YiGv9i7jWv4iaWoi1ZJIvOEzMCth1ja4T9HzwNJ7qTVgKxuO45N9QbNEBe38hhBBCiGCQgFAIMWipCenYxy/APn4BRvsxPAc34j6wAdeGl3FteBk1JR9rySSs+eNQUwtR1L5nozO7O3DtWo5r+2Lweoi68CZs4y4bMmssCiGEECKySUAohBgS1Pg07OPmYx83H6OjGY9/WKlr46u4Nr4KUbFYs0eiZhRjSS1ATS3wrYN4WqY60zAwO47hbdyHp2YLnpqt4HVjLawgasrnURMzQ/QJhRBCCCH6TgJCIcSQo8alYh97Gfaxl2F0teKt34338C489VV4qjedcqAVJSYRxRYFgOnuwexsAdMAQHEkYNNmYBt1CZaU3FB8FCGEEEKIfpGAUAgxpKkxiajDp2AbPgXwL2vRXIdxvA6zswWjqxU8Pb6DLTbUuFSU+DQsGSWoyXnnNcxUCCGEECJcSEAohBCnUKJiseaMhJyRoS6KEEIIIUTQ9Sog1DTtFuAhwAY8quv6H07bXw48ASQAK4F7dF33aJpWADwDZAA6cKuu6x2apiUB/wBKgCbgRl3XGzRNswNPApMAJ3CLrutVAficQgghhBBCCCFOc86xTpqm5QKPANOBcuBuTdNGnXbYM8DXdF0vBRTgLv/2x4DHdF0fCWwEvu/f/jCwStf1MuBx4Lf+7V8HOv3b7weeOs/PJYQQQgghhBDiHHoz+WUu8K6u68d1Xe8EXgI+d3KnpmmFgEPX9bX+TU8BCzVNswEz/cd/tN3/8xX4eggBngMu9x//0XZd11cC6f5eRiGEEEIIIYQQAdabgDAHOHLK6yNAXi/2pwFtuq57znDeR+f497cB6b24lhBCCCGEEEKIAOnNHEIVME95rQBGL/afvp1TzlNO2362c06/1mdKTY3r7aEDKj09PtRFEIOc1DERTFK/RDBJ/RLBJnVMBNNgqF+9CQgPATNOeZ0F1J+2P/sM+48CiZqmWXRd9/qPOXneYf9xhzRNswLxQPMp77X/LNf6TM3NHRjG6TFoaKWnx9PU1B7qYohBTOqYCCapXyKYpH6JYJM6JoIp3OqXqirn1UHWmyGjy4BLNE1L1zQtBrgBWHJyp67rNUC3pmnT/Ju+ACzWdd0NrAJu8m+/HVjs/3mR/zX+/av8x3+0XdO06UC3ruu1ff5UQgghhBBCCCHO6ZwBoa7rh4HvASuArcCzuq6v1zRtkaZpk/yH3Qr8RtO0KiAO+J1/+734spJW4utlfMi//fvAFE3TdvmP+Xf/9t8DUf7tv8MXXAohhBBCCCGECALFNMNriOV5KgIOypBRMRRJHRPBJPVLBJPULxFsUsdEMIVb/TplyGgxUN3b83q1MH0EsIDvlxCOwrVcYvCQOiaCSeqXCCapXyLYpI6JYAqn+nVKWSx9OW+w9BBOxzdfUQghhBBCCCGGshnAB709eLAEhFHABfjWLfSGuCxCCCGEEEIIMdAs+FZs2AD09PakwRIQCiGEEEIIIYToo94sOyGEEEIIIYQQYhCSgFAIIYQQQgghhigJCIUQQgghhBBiiJKAUAghhBBCCCGGKAkIhRBCCCGEEGKIkoBQCCGEEEIIIYYoCQiFEEIIIYQQYoiyhroAg5mmabcADwE24FFd1/8Q4iKJCKRp2g+BG/0v39J1/Tuaps0Ffg04gBd0XX/If2w58ASQAKwE7tF13ROCYosIo2naL4E0Xde/eLZ6pGlaAfAMkAHowK26rneErNAiImiadhXwQyAWWKrr+jekDROBomnabcCD/peLdV1/QNow0V+apiUAq4ErdV2v7mubFWl1TXoIg0TTtFzgEWA6UA7crWnaqNCWSkQafwM0D6jAV48mapp2M/AX4BqgDLhA07TL/ac8A3xN1/VSQAHuGvhSi0ijadolwB2nbDpbPXoMeEzX9ZHARuD7A1pQEXE0TSsB/ghcC4wDJvjbK2nDRL9pmhYD/A6YBYwHZvi/N6UNE+dN07QLgQ+AUv9rB31vsyKqrklAGDxzgXd1XT+u63on8BLwuRCXSUSeI8C3dF136bruBnbja6D26rp+0P/k/BlgoaZphYBD1/W1/nOfAhaGotAicmialoLv4dVP/a/PWI80TbMBM/G1ZR9tH9DCikh0Hb6n6Yf8bdhNQBfShonAsOC7l43FNxrLBriRNkz0z13AvwP1/teT6UObFYl1TYaMBk8Ovpv5k47gq1BC9Jqu67tO/qxp2gh8Q0d/z6frVh5nrnN5A1BMEdn+BHwPyPe/Pls9SgPaThm+J/VL9MZwwKVp2htAAfAmsAtpw0QA6Lrermna94EqfA8a3gdcSBsm+kHX9a8AaJp2ctPZ2qZB830pPYTBowLmKa8VwAhRWUSE0zRtNPAO8G3gAGeuW1LnRJ9omvYVoE7X9eWnbD5bPTp9O0j9EudmxTdi5svAVOBCoARpw0QAaJo2DrgTKMR3c+7FN81C2jARSL39XozYuiYBYfAcArJPeZ3Fx13PQvSapmnTgOXA/9N1/W+cvW5JnRN9dRMwT9O0rcBPgKuBr3DmenQUSNQ0zeLfno3UL3FuDcAyXdebdF13Aq/iCxClDROBcBmwXNf1o7qu9+AbmjcbacNEYPX1vivi6poEhMGzDLhE07R0/6TnG4AlIS6TiDCapuUDrwG36Lr+vH/zOt8ubbi/sbkFX2a1GqDbH0ACfAFYPOCFFhFD1/VLdV0fo+t6OfAD4A1d17/EGeqRf/7XKnxBJMDtSP0S5/YmcJmmaUn+9upyfPNqpA0TgbANmKtpWqymaQpwFb5ho9KGiUDq031XJNY1CQiDRNf1w/jm5awAtgLP6rq+PrSlEhHoASAa+LWmaVv9PTlf9P97GajEN3fi5MTlW4HfaJpWBcThy74mRF+drR7diy9jciUwA9+yOkKcla7r64Bf4MvYVwnUAP+HtGEiAHRdXwo8B2wCtuNLKvPfSBsmAkjX9W763mZFVF1TTPP0Ia5CCCGEEEIIIYYC6SEUQgghhBBCiCFKAkIhhBBCCCGEGKIkIBRCCCGEEEKIIUoCQiGEEEIIIYQYoiQgFEIIIYQQQoghSgJCIYQQQgghhBiiJCAUQgghhBBCiCFKAkIhhBBCCCGEGKL+P0VovAQH7WfVAAAAAElFTkSuQmCC\n",
      "text/plain": [
       "<Figure size 1080x360 with 1 Axes>"
=======
      "image/png": "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\n",
      "text/plain": [
       "<Figure size 432x288 with 1 Axes>"
>>>>>>> 8f324f8f918c0e4bea9bb48ca0eb50c5bcc3a2fc
      ]
     },
     "metadata": {
      "needs_background": "light"
     },
     "output_type": "display_data"
    }
   ],
   "source": [
<<<<<<< HEAD
    "PLOTS.loc['ocean'].plot(**FIG)\n",
    "PLOTS.loc['boat'].plot(**FIG)"
=======
    "plt.plot(B.loc['whale', 'scaled'])\n",
    "plt.plot(B.loc['ahab', 'scaled'])"
>>>>>>> 8f324f8f918c0e4bea9bb48ca0eb50c5bcc3a2fc
   ]
  },
  {
   "cell_type": "markdown",
   "metadata": {},
   "source": [
    "## Score Pairs\n",
    "\n",
    "We generate only unique combinations of pairs not permutation, i.e. we treat `a,b == b,a`."
   ]
  },
  {
   "cell_type": "code",
<<<<<<< HEAD
   "execution_count": 22,
=======
   "execution_count": 18,
>>>>>>> 8f324f8f918c0e4bea9bb48ca0eb50c5bcc3a2fc
   "metadata": {},
   "outputs": [],
   "source": [
    "pairs = pd.DataFrame([(x,y) for x in B.index for y in B.index if y > x] , columns=['x','y'])"
   ]
  },
  {
   "cell_type": "code",
<<<<<<< HEAD
   "execution_count": 23,
=======
   "execution_count": 19,
>>>>>>> 8f324f8f918c0e4bea9bb48ca0eb50c5bcc3a2fc
   "metadata": {},
   "outputs": [
    {
     "data": {
      "text/html": [
       "<div>\n",
       "<style scoped>\n",
       "    .dataframe tbody tr th:only-of-type {\n",
       "        vertical-align: middle;\n",
       "    }\n",
       "\n",
       "    .dataframe tbody tr th {\n",
       "        vertical-align: top;\n",
       "    }\n",
       "\n",
       "    .dataframe thead th {\n",
       "        text-align: right;\n",
       "    }\n",
       "</style>\n",
       "<table border=\"1\" class=\"dataframe\">\n",
       "  <thead>\n",
       "    <tr style=\"text-align: right;\">\n",
       "      <th></th>\n",
       "      <th>0</th>\n",
       "      <th>1</th>\n",
       "      <th>2</th>\n",
       "      <th>3</th>\n",
       "      <th>4</th>\n",
       "      <th>5</th>\n",
       "      <th>6</th>\n",
       "      <th>7</th>\n",
       "      <th>8</th>\n",
       "      <th>9</th>\n",
       "    </tr>\n",
       "  </thead>\n",
       "  <tbody>\n",
       "    <tr>\n",
       "      <th>x</th>\n",
       "      <td>aboard</td>\n",
       "      <td>aboard</td>\n",
       "      <td>aboard</td>\n",
       "      <td>aboard</td>\n",
       "      <td>aboard</td>\n",
       "      <td>aboard</td>\n",
       "      <td>aboard</td>\n",
       "      <td>aboard</td>\n",
       "      <td>aboard</td>\n",
       "      <td>aboard</td>\n",
       "    </tr>\n",
       "    <tr>\n",
       "      <th>y</th>\n",
<<<<<<< HEAD
=======
       "      <td>absent</td>\n",
>>>>>>> 8f324f8f918c0e4bea9bb48ca0eb50c5bcc3a2fc
       "      <td>according</td>\n",
       "      <td>account</td>\n",
       "      <td>across</td>\n",
       "      <td>act</td>\n",
<<<<<<< HEAD
       "      <td>advance</td>\n",
       "      <td>advancing</td>\n",
       "      <td>advocate</td>\n",
       "      <td>aft</td>\n",
       "      <td>afterwards</td>\n",
       "      <td>ago</td>\n",
=======
       "      <td>action</td>\n",
       "      <td>activity</td>\n",
       "      <td>actually</td>\n",
       "      <td>added</td>\n",
       "      <td>additional</td>\n",
>>>>>>> 8f324f8f918c0e4bea9bb48ca0eb50c5bcc3a2fc
       "    </tr>\n",
       "  </tbody>\n",
       "</table>\n",
       "</div>"
      ],
      "text/plain": [
<<<<<<< HEAD
       "           0        1       2       3        4          5         6       7  \\\n",
       "x     aboard   aboard  aboard  aboard   aboard     aboard    aboard  aboard   \n",
       "y  according  account  across     act  advance  advancing  advocate     aft   \n",
       "\n",
       "            8       9  \n",
       "x      aboard  aboard  \n",
       "y  afterwards     ago  "
      ]
     },
     "execution_count": 23,
=======
       "        0          1        2       3       4       5         6         7  \\\n",
       "x  aboard     aboard   aboard  aboard  aboard  aboard    aboard    aboard   \n",
       "y  absent  according  account  across     act  action  activity  actually   \n",
       "\n",
       "        8           9  \n",
       "x  aboard      aboard  \n",
       "y   added  additional  "
      ]
     },
     "execution_count": 19,
>>>>>>> 8f324f8f918c0e4bea9bb48ca0eb50c5bcc3a2fc
     "metadata": {},
     "output_type": "execute_result"
    }
   ],
   "source": [
    "pairs.head(10).T"
   ]
  },
  {
   "cell_type": "markdown",
   "metadata": {},
   "source": [
    "## Compute overlap\n",
    "\n",
    "This takes a while to run."
   ]
  },
  {
   "cell_type": "code",
<<<<<<< HEAD
   "execution_count": 24,
=======
   "execution_count": 20,
>>>>>>> 8f324f8f918c0e4bea9bb48ca0eb50c5bcc3a2fc
   "metadata": {},
   "outputs": [],
   "source": [
    "def overlap(row):\n",
<<<<<<< HEAD
    "    kde1 = PLOTS.loc[row.x]\n",
    "    kde2 = PLOTS.loc[row.y]\n",
    "    overlap = np.minimum(kde1, kde2)\n",
=======
    "    t1_kde = B.loc[row.x].scaled\n",
    "    t2_kde = B.loc[row.y].scaled\n",
    "    overlap = np.minimum(t1_kde, t2_kde)\n",
>>>>>>> 8f324f8f918c0e4bea9bb48ca0eb50c5bcc3a2fc
    "    return np.trapz(overlap)"
   ]
  },
  {
   "cell_type": "code",
<<<<<<< HEAD
   "execution_count": 25,
=======
   "execution_count": 21,
>>>>>>> 8f324f8f918c0e4bea9bb48ca0eb50c5bcc3a2fc
   "metadata": {},
   "outputs": [],
   "source": [
    "pairs['overlap'] = pairs.apply(overlap, axis=1)"
   ]
  },
  {
   "cell_type": "code",
<<<<<<< HEAD
   "execution_count": 26,
=======
   "execution_count": 22,
>>>>>>> 8f324f8f918c0e4bea9bb48ca0eb50c5bcc3a2fc
   "metadata": {},
   "outputs": [
    {
     "data": {
      "text/html": [
       "<div>\n",
       "<style scoped>\n",
       "    .dataframe tbody tr th:only-of-type {\n",
       "        vertical-align: middle;\n",
       "    }\n",
       "\n",
       "    .dataframe tbody tr th {\n",
       "        vertical-align: top;\n",
       "    }\n",
       "\n",
       "    .dataframe thead th {\n",
       "        text-align: right;\n",
       "    }\n",
       "</style>\n",
       "<table border=\"1\" class=\"dataframe\">\n",
       "  <thead>\n",
       "    <tr style=\"text-align: right;\">\n",
       "      <th></th>\n",
       "      <th>x</th>\n",
       "      <th>y</th>\n",
       "      <th>overlap</th>\n",
       "    </tr>\n",
       "  </thead>\n",
       "  <tbody>\n",
       "    <tr>\n",
<<<<<<< HEAD
       "      <th>495630</th>\n",
       "      <td>whalemen</td>\n",
       "      <td>word</td>\n",
       "      <td>0.769820</td>\n",
       "    </tr>\n",
       "    <tr>\n",
       "      <th>495635</th>\n",
       "      <td>whalemen</td>\n",
       "      <td>world</td>\n",
       "      <td>0.749626</td>\n",
       "    </tr>\n",
       "    <tr>\n",
       "      <th>495606</th>\n",
       "      <td>whalemen</td>\n",
       "      <td>whaling</td>\n",
       "      <td>0.742548</td>\n",
       "    </tr>\n",
       "    <tr>\n",
       "      <th>495623</th>\n",
       "      <td>whalemen</td>\n",
       "      <td>within</td>\n",
       "      <td>0.734313</td>\n",
       "    </tr>\n",
       "    <tr>\n",
       "      <th>495625</th>\n",
       "      <td>whalemen</td>\n",
       "      <td>wonder</td>\n",
       "      <td>0.724268</td>\n",
       "    </tr>\n",
       "    <tr>\n",
       "      <th>495641</th>\n",
       "      <td>whalemen</td>\n",
       "      <td>years</td>\n",
       "      <td>0.720386</td>\n",
       "    </tr>\n",
       "    <tr>\n",
       "      <th>495611</th>\n",
       "      <td>whalemen</td>\n",
       "      <td>whole</td>\n",
       "      <td>0.713072</td>\n",
       "    </tr>\n",
       "    <tr>\n",
       "      <th>495640</th>\n",
       "      <td>whalemen</td>\n",
       "      <td>year</td>\n",
       "      <td>0.706891</td>\n",
       "    </tr>\n",
       "    <tr>\n",
       "      <th>495631</th>\n",
       "      <td>whalemen</td>\n",
       "      <td>words</td>\n",
       "      <td>0.695525</td>\n",
       "    </tr>\n",
       "    <tr>\n",
       "      <th>495616</th>\n",
       "      <td>whalemen</td>\n",
       "      <td>wild</td>\n",
       "      <td>0.690467</td>\n",
=======
       "      <th>1363670</th>\n",
       "      <td>whalemen</td>\n",
       "      <td>whaling</td>\n",
       "      <td>0.638349</td>\n",
       "    </tr>\n",
       "    <tr>\n",
       "      <th>1363702</th>\n",
       "      <td>whalemen</td>\n",
       "      <td>word</td>\n",
       "      <td>0.635051</td>\n",
       "    </tr>\n",
       "    <tr>\n",
       "      <th>1363707</th>\n",
       "      <td>whalemen</td>\n",
       "      <td>world</td>\n",
       "      <td>0.606256</td>\n",
       "    </tr>\n",
       "    <tr>\n",
       "      <th>1363679</th>\n",
       "      <td>whalemen</td>\n",
       "      <td>whole</td>\n",
       "      <td>0.601157</td>\n",
       "    </tr>\n",
       "    <tr>\n",
       "      <th>1363693</th>\n",
       "      <td>whalemen</td>\n",
       "      <td>within</td>\n",
       "      <td>0.564629</td>\n",
       "    </tr>\n",
       "    <tr>\n",
       "      <th>1363715</th>\n",
       "      <td>whalemen</td>\n",
       "      <td>year</td>\n",
       "      <td>0.549722</td>\n",
       "    </tr>\n",
       "    <tr>\n",
       "      <th>1363681</th>\n",
       "      <td>whalemen</td>\n",
       "      <td>whose</td>\n",
       "      <td>0.549333</td>\n",
       "    </tr>\n",
       "    <tr>\n",
       "      <th>1363716</th>\n",
       "      <td>whalemen</td>\n",
       "      <td>years</td>\n",
       "      <td>0.544670</td>\n",
       "    </tr>\n",
       "    <tr>\n",
       "      <th>1363684</th>\n",
       "      <td>whalemen</td>\n",
       "      <td>wild</td>\n",
       "      <td>0.538125</td>\n",
       "    </tr>\n",
       "    <tr>\n",
       "      <th>1363696</th>\n",
       "      <td>whalemen</td>\n",
       "      <td>wonder</td>\n",
       "      <td>0.525463</td>\n",
       "    </tr>\n",
       "    <tr>\n",
       "      <th>1363698</th>\n",
       "      <td>whalemen</td>\n",
       "      <td>wondrous</td>\n",
       "      <td>0.517023</td>\n",
       "    </tr>\n",
       "    <tr>\n",
       "      <th>1363718</th>\n",
       "      <td>whalemen</td>\n",
       "      <td>yes</td>\n",
       "      <td>0.502511</td>\n",
       "    </tr>\n",
       "    <tr>\n",
       "      <th>1363676</th>\n",
       "      <td>whalemen</td>\n",
       "      <td>whether</td>\n",
       "      <td>0.499337</td>\n",
       "    </tr>\n",
       "    <tr>\n",
       "      <th>1363671</th>\n",
       "      <td>whalemen</td>\n",
       "      <td>whatever</td>\n",
       "      <td>0.484512</td>\n",
       "    </tr>\n",
       "    <tr>\n",
       "      <th>1363703</th>\n",
       "      <td>whalemen</td>\n",
       "      <td>words</td>\n",
       "      <td>0.481068</td>\n",
       "    </tr>\n",
       "    <tr>\n",
       "      <th>1363677</th>\n",
       "      <td>whalemen</td>\n",
       "      <td>white</td>\n",
       "      <td>0.476131</td>\n",
       "    </tr>\n",
       "    <tr>\n",
       "      <th>1363700</th>\n",
       "      <td>whalemen</td>\n",
       "      <td>wooden</td>\n",
       "      <td>0.470660</td>\n",
       "    </tr>\n",
       "    <tr>\n",
       "      <th>1363669</th>\n",
       "      <td>whalemen</td>\n",
       "      <td>whales</td>\n",
       "      <td>0.467666</td>\n",
       "    </tr>\n",
       "    <tr>\n",
       "      <th>1363682</th>\n",
       "      <td>whalemen</td>\n",
       "      <td>wide</td>\n",
       "      <td>0.459722</td>\n",
       "    </tr>\n",
       "    <tr>\n",
       "      <th>1363704</th>\n",
       "      <td>whalemen</td>\n",
       "      <td>work</td>\n",
       "      <td>0.454335</td>\n",
>>>>>>> 8f324f8f918c0e4bea9bb48ca0eb50c5bcc3a2fc
       "    </tr>\n",
       "  </tbody>\n",
       "</table>\n",
       "</div>"
      ],
      "text/plain": [
<<<<<<< HEAD
       "               x        y   overlap\n",
       "495630  whalemen     word  0.769820\n",
       "495635  whalemen    world  0.749626\n",
       "495606  whalemen  whaling  0.742548\n",
       "495623  whalemen   within  0.734313\n",
       "495625  whalemen   wonder  0.724268\n",
       "495641  whalemen    years  0.720386\n",
       "495611  whalemen    whole  0.713072\n",
       "495640  whalemen     year  0.706891\n",
       "495631  whalemen    words  0.695525\n",
       "495616  whalemen     wild  0.690467"
      ]
     },
     "execution_count": 26,
=======
       "                x         y   overlap\n",
       "1363670  whalemen   whaling  0.638349\n",
       "1363702  whalemen      word  0.635051\n",
       "1363707  whalemen     world  0.606256\n",
       "1363679  whalemen     whole  0.601157\n",
       "1363693  whalemen    within  0.564629\n",
       "1363715  whalemen      year  0.549722\n",
       "1363681  whalemen     whose  0.549333\n",
       "1363716  whalemen     years  0.544670\n",
       "1363684  whalemen      wild  0.538125\n",
       "1363696  whalemen    wonder  0.525463\n",
       "1363698  whalemen  wondrous  0.517023\n",
       "1363718  whalemen       yes  0.502511\n",
       "1363676  whalemen   whether  0.499337\n",
       "1363671  whalemen  whatever  0.484512\n",
       "1363703  whalemen     words  0.481068\n",
       "1363677  whalemen     white  0.476131\n",
       "1363700  whalemen    wooden  0.470660\n",
       "1363669  whalemen    whales  0.467666\n",
       "1363682  whalemen      wide  0.459722\n",
       "1363704  whalemen      work  0.454335"
      ]
     },
     "execution_count": 22,
>>>>>>> 8f324f8f918c0e4bea9bb48ca0eb50c5bcc3a2fc
     "metadata": {},
     "output_type": "execute_result"
    }
   ],
   "source": [
<<<<<<< HEAD
    "pairs[pairs.x == 'whalemen'].sort_values('overlap', ascending=False).head(10)"
   ]
  },
  {
   "cell_type": "code",
   "execution_count": 145,
   "metadata": {},
   "outputs": [],
   "source": [
    "def paircorr(row):\n",
    "    return PLOTS.T[[row.x,row.y]].corr().values[0][1]"
   ]
  },
  {
   "cell_type": "code",
   "execution_count": 146,
   "metadata": {},
   "outputs": [],
   "source": [
    "pairs['corr'] = pairs.apply(paircorr, axis=1)"
   ]
  },
  {
   "cell_type": "code",
   "execution_count": 117,
   "metadata": {},
   "outputs": [],
   "source": [
    "# pairs3[pairs3.x.isin(TOP_TERMS)].set_index(['x','y']).sort_values(['x','overlap'], ascending=False)"
   ]
  },
  {
   "cell_type": "code",
   "execution_count": 118,
   "metadata": {},
   "outputs": [],
   "source": [
    "# pairs3[pairs3.x.isin(TOP_TERMS)].groupby(['x']).overlap.apply(lambda x: x.sort_values().head(10)).to_frame()"
=======
    "pairs[pairs.x == 'whalemen'].sort_values('overlap', ascending=False).head(20)"
>>>>>>> 8f324f8f918c0e4bea9bb48ca0eb50c5bcc3a2fc
   ]
  },
  {
   "cell_type": "markdown",
   "metadata": {},
   "source": [
    "## Skim Top Pairs"
   ]
  },
  {
   "cell_type": "code",
<<<<<<< HEAD
   "execution_count": 27,
=======
   "execution_count": 23,
>>>>>>> 8f324f8f918c0e4bea9bb48ca0eb50c5bcc3a2fc
   "metadata": {},
   "outputs": [
    {
     "data": {
      "text/plain": [
<<<<<<< HEAD
       "<matplotlib.axes._subplots.AxesSubplot at 0x1a2539b438>"
      ]
     },
     "execution_count": 27,
=======
       "<matplotlib.axes._subplots.AxesSubplot at 0x1a25c04978>"
      ]
     },
     "execution_count": 23,
>>>>>>> 8f324f8f918c0e4bea9bb48ca0eb50c5bcc3a2fc
     "metadata": {},
     "output_type": "execute_result"
    },
    {
     "data": {
<<<<<<< HEAD
      "image/png": "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\n",
=======
      "image/png": "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\n",
>>>>>>> 8f324f8f918c0e4bea9bb48ca0eb50c5bcc3a2fc
      "text/plain": [
       "<Figure size 432x288 with 1 Axes>"
      ]
     },
     "metadata": {
      "needs_background": "light"
     },
     "output_type": "display_data"
    }
   ],
   "source": [
    "pairs.overlap.plot.hist()"
   ]
  },
  {
   "cell_type": "code",
<<<<<<< HEAD
   "execution_count": 120,
=======
   "execution_count": 24,
>>>>>>> 8f324f8f918c0e4bea9bb48ca0eb50c5bcc3a2fc
   "metadata": {},
   "outputs": [
    {
     "data": {
      "text/html": [
       "<div>\n",
       "<style scoped>\n",
       "    .dataframe tbody tr th:only-of-type {\n",
       "        vertical-align: middle;\n",
       "    }\n",
       "\n",
       "    .dataframe tbody tr th {\n",
       "        vertical-align: top;\n",
       "    }\n",
       "\n",
       "    .dataframe thead th {\n",
       "        text-align: right;\n",
       "    }\n",
       "</style>\n",
       "<table border=\"1\" class=\"dataframe\">\n",
       "  <thead>\n",
       "    <tr style=\"text-align: right;\">\n",
       "      <th></th>\n",
       "      <th>x</th>\n",
       "      <th>y</th>\n",
       "      <th>overlap</th>\n",
       "    </tr>\n",
       "  </thead>\n",
       "  <tbody>\n",
       "    <tr>\n",
<<<<<<< HEAD
       "      <th>398670</th>\n",
       "      <td>mincer</td>\n",
       "      <td>pelt</td>\n",
       "      <td>0.991504</td>\n",
       "    </tr>\n",
       "    <tr>\n",
       "      <th>58550</th>\n",
       "      <td>bildad</td>\n",
       "      <td>peleg</td>\n",
       "      <td>0.982424</td>\n",
       "    </tr>\n",
       "    <tr>\n",
       "      <th>61960</th>\n",
       "      <td>blacksmith</td>\n",
       "      <td>forge</td>\n",
       "      <td>0.973594</td>\n",
       "    </tr>\n",
       "    <tr>\n",
       "      <th>178064</th>\n",
       "      <td>dick</td>\n",
       "      <td>moby</td>\n",
       "      <td>0.973176</td>\n",
       "    </tr>\n",
       "    <tr>\n",
       "      <th>308839</th>\n",
       "      <td>heidelburgh</td>\n",
       "      <td>tun</td>\n",
       "      <td>0.945773</td>\n",
       "    </tr>\n",
       "    <tr>\n",
       "      <th>328168</th>\n",
       "      <td>hussey</td>\n",
       "      <td>mrs</td>\n",
       "      <td>0.936021</td>\n",
       "    </tr>\n",
       "    <tr>\n",
       "      <th>26618</th>\n",
       "      <td>archy</td>\n",
       "      <td>cabaco</td>\n",
       "      <td>0.923582</td>\n",
       "    </tr>\n",
       "    <tr>\n",
       "      <th>123694</th>\n",
       "      <td>chowder</td>\n",
       "      <td>clam</td>\n",
       "      <td>0.914032</td>\n",
       "    </tr>\n",
       "    <tr>\n",
       "      <th>398855</th>\n",
       "      <td>mincer</td>\n",
       "      <td>squeeze</td>\n",
       "      <td>0.911430</td>\n",
       "    </tr>\n",
       "    <tr>\n",
       "      <th>181209</th>\n",
       "      <td>ding</td>\n",
       "      <td>malady</td>\n",
       "      <td>0.911099</td>\n",
       "    </tr>\n",
       "    <tr>\n",
       "      <th>426565</th>\n",
       "      <td>pelt</td>\n",
       "      <td>squeeze</td>\n",
       "      <td>0.903950</td>\n",
       "    </tr>\n",
       "    <tr>\n",
       "      <th>384008</th>\n",
       "      <td>man</td>\n",
       "      <td>old</td>\n",
       "      <td>0.892622</td>\n",
       "    </tr>\n",
       "    <tr>\n",
       "      <th>442338</th>\n",
       "      <td>put</td>\n",
       "      <td>something</td>\n",
       "      <td>0.881187</td>\n",
       "    </tr>\n",
       "    <tr>\n",
       "      <th>35711</th>\n",
       "      <td>away</td>\n",
       "      <td>man</td>\n",
       "      <td>0.874221</td>\n",
       "    </tr>\n",
       "    <tr>\n",
       "      <th>488722</th>\n",
       "      <td>thing</td>\n",
       "      <td>whole</td>\n",
       "      <td>0.874036</td>\n",
       "    </tr>\n",
       "    <tr>\n",
       "      <th>38840</th>\n",
       "      <td>back</td>\n",
       "      <td>small</td>\n",
       "      <td>0.872668</td>\n",
       "    </tr>\n",
       "    <tr>\n",
       "      <th>474341</th>\n",
       "      <td>something</td>\n",
       "      <td>world</td>\n",
       "      <td>0.870160</td>\n",
       "    </tr>\n",
       "    <tr>\n",
       "      <th>36152</th>\n",
       "      <td>away</td>\n",
       "      <td>whole</td>\n",
       "      <td>0.869674</td>\n",
       "    </tr>\n",
       "    <tr>\n",
       "      <th>151995</th>\n",
       "      <td>cowards</td>\n",
       "      <td>malady</td>\n",
       "      <td>0.869621</td>\n",
       "    </tr>\n",
       "    <tr>\n",
       "      <th>35546</th>\n",
       "      <td>away</td>\n",
       "      <td>hand</td>\n",
       "      <td>0.866139</td>\n",
       "    </tr>\n",
       "    <tr>\n",
       "      <th>356375</th>\n",
       "      <td>last</td>\n",
       "      <td>man</td>\n",
       "      <td>0.865165</td>\n",
       "    </tr>\n",
       "    <tr>\n",
       "      <th>35922</th>\n",
       "      <td>away</td>\n",
       "      <td>seemed</td>\n",
       "      <td>0.864813</td>\n",
       "    </tr>\n",
       "    <tr>\n",
       "      <th>281454</th>\n",
       "      <td>good</td>\n",
       "      <td>something</td>\n",
       "      <td>0.864535</td>\n",
       "    </tr>\n",
       "    <tr>\n",
       "      <th>417344</th>\n",
       "      <td>often</td>\n",
       "      <td>sudden</td>\n",
       "      <td>0.864140</td>\n",
       "    </tr>\n",
       "    <tr>\n",
       "      <th>290451</th>\n",
       "      <td>half</td>\n",
       "      <td>round</td>\n",
       "      <td>0.863485</td>\n",
       "    </tr>\n",
       "    <tr>\n",
       "      <th>384156</th>\n",
       "      <td>man</td>\n",
       "      <td>ship</td>\n",
       "      <td>0.863182</td>\n",
       "    </tr>\n",
       "    <tr>\n",
       "      <th>453694</th>\n",
       "      <td>round</td>\n",
       "      <td>whole</td>\n",
       "      <td>0.862498</td>\n",
       "    </tr>\n",
       "    <tr>\n",
       "      <th>453602</th>\n",
       "      <td>round</td>\n",
       "      <td>thing</td>\n",
       "      <td>0.861950</td>\n",
       "    </tr>\n",
       "    <tr>\n",
       "      <th>292554</th>\n",
       "      <td>hand</td>\n",
       "      <td>till</td>\n",
       "      <td>0.861266</td>\n",
       "    </tr>\n",
       "    <tr>\n",
       "      <th>292190</th>\n",
       "      <td>hand</td>\n",
       "      <td>man</td>\n",
       "      <td>0.860259</td>\n",
=======
       "      <th>499389</th>\n",
       "      <td>dick</td>\n",
       "      <td>moby</td>\n",
       "      <td>0.982539</td>\n",
       "    </tr>\n",
       "    <tr>\n",
       "      <th>1100142</th>\n",
       "      <td>mincer</td>\n",
       "      <td>pelt</td>\n",
       "      <td>0.971372</td>\n",
       "    </tr>\n",
       "    <tr>\n",
       "      <th>1294439</th>\n",
       "      <td>shuttle</td>\n",
       "      <td>weaving</td>\n",
       "      <td>0.942857</td>\n",
       "    </tr>\n",
       "    <tr>\n",
       "      <th>176127</th>\n",
       "      <td>blacksmith</td>\n",
       "      <td>forge</td>\n",
       "      <td>0.940321</td>\n",
       "    </tr>\n",
       "    <tr>\n",
       "      <th>858732</th>\n",
       "      <td>heidelburgh</td>\n",
       "      <td>tun</td>\n",
       "      <td>0.933551</td>\n",
       "    </tr>\n",
       "    <tr>\n",
       "      <th>167391</th>\n",
       "      <td>bildad</td>\n",
       "      <td>peleg</td>\n",
       "      <td>0.932699</td>\n",
       "    </tr>\n",
       "    <tr>\n",
       "      <th>470648</th>\n",
       "      <td>dat</td>\n",
       "      <td>steak</td>\n",
       "      <td>0.920848</td>\n",
       "    </tr>\n",
       "    <tr>\n",
       "      <th>913905</th>\n",
       "      <td>hussey</td>\n",
       "      <td>mrs</td>\n",
       "      <td>0.917482</td>\n",
       "    </tr>\n",
       "    <tr>\n",
       "      <th>343650</th>\n",
       "      <td>chowder</td>\n",
       "      <td>clam</td>\n",
       "      <td>0.900002</td>\n",
       "    </tr>\n",
       "    <tr>\n",
       "      <th>829854</th>\n",
       "      <td>harem</td>\n",
       "      <td>schools</td>\n",
       "      <td>0.866245</td>\n",
       "    </tr>\n",
       "    <tr>\n",
       "      <th>842109</th>\n",
       "      <td>hav</td>\n",
       "      <td>quohog</td>\n",
       "      <td>0.823247</td>\n",
       "    </tr>\n",
       "    <tr>\n",
       "      <th>762525</th>\n",
       "      <td>george</td>\n",
       "      <td>perseus</td>\n",
       "      <td>0.811683</td>\n",
       "    </tr>\n",
       "    <tr>\n",
       "      <th>746760</th>\n",
       "      <td>gabriel</td>\n",
       "      <td>jeroboam</td>\n",
       "      <td>0.802985</td>\n",
       "    </tr>\n",
       "    <tr>\n",
       "      <th>1065583</th>\n",
       "      <td>man</td>\n",
       "      <td>old</td>\n",
       "      <td>0.800610</td>\n",
       "    </tr>\n",
       "    <tr>\n",
       "      <th>1068009</th>\n",
       "      <td>mapple</td>\n",
       "      <td>pulpit</td>\n",
       "      <td>0.799215</td>\n",
       "    </tr>\n",
       "    <tr>\n",
       "      <th>75080</th>\n",
       "      <td>archy</td>\n",
       "      <td>cabaco</td>\n",
       "      <td>0.797178</td>\n",
       "    </tr>\n",
       "    <tr>\n",
       "      <th>388201</th>\n",
       "      <td>compasses</td>\n",
       "      <td>needles</td>\n",
       "      <td>0.796125</td>\n",
       "    </tr>\n",
       "    <tr>\n",
       "      <th>54551</th>\n",
       "      <td>ambergris</td>\n",
       "      <td>guernsey</td>\n",
       "      <td>0.792064</td>\n",
       "    </tr>\n",
       "    <tr>\n",
       "      <th>52368</th>\n",
       "      <td>amber</td>\n",
       "      <td>ambergris</td>\n",
       "      <td>0.792000</td>\n",
       "    </tr>\n",
       "    <tr>\n",
       "      <th>101714</th>\n",
       "      <td>away</td>\n",
       "      <td>seemed</td>\n",
       "      <td>0.791162</td>\n",
       "    </tr>\n",
       "    <tr>\n",
       "      <th>843270</th>\n",
       "      <td>head</td>\n",
       "      <td>side</td>\n",
       "      <td>0.790323</td>\n",
       "    </tr>\n",
       "    <tr>\n",
       "      <th>253273</th>\n",
       "      <td>buoy</td>\n",
       "      <td>ding</td>\n",
       "      <td>0.788394</td>\n",
       "    </tr>\n",
       "    <tr>\n",
       "      <th>294368</th>\n",
       "      <td>carpenter</td>\n",
       "      <td>vice</td>\n",
       "      <td>0.786157</td>\n",
       "    </tr>\n",
       "    <tr>\n",
       "      <th>108238</th>\n",
       "      <td>bachelor</td>\n",
       "      <td>sunwards</td>\n",
       "      <td>0.782368</td>\n",
       "    </tr>\n",
       "    <tr>\n",
       "      <th>971022</th>\n",
       "      <td>kick</td>\n",
       "      <td>pyramid</td>\n",
       "      <td>0.781593</td>\n",
       "    </tr>\n",
       "    <tr>\n",
       "      <th>101959</th>\n",
       "      <td>away</td>\n",
       "      <td>time</td>\n",
       "      <td>0.781308</td>\n",
       "    </tr>\n",
       "    <tr>\n",
       "      <th>763035</th>\n",
       "      <td>george</td>\n",
       "      <td>vishnoo</td>\n",
       "      <td>0.780114</td>\n",
       "    </tr>\n",
       "    <tr>\n",
       "      <th>101348</th>\n",
       "      <td>away</td>\n",
       "      <td>man</td>\n",
       "      <td>0.779174</td>\n",
       "    </tr>\n",
       "    <tr>\n",
       "      <th>1043765</th>\n",
       "      <td>look</td>\n",
       "      <td>see</td>\n",
       "      <td>0.779002</td>\n",
       "    </tr>\n",
       "    <tr>\n",
       "      <th>1225920</th>\n",
       "      <td>put</td>\n",
       "      <td>something</td>\n",
       "      <td>0.778947</td>\n",
>>>>>>> 8f324f8f918c0e4bea9bb48ca0eb50c5bcc3a2fc
       "    </tr>\n",
       "    <tr>\n",
       "      <th>...</th>\n",
       "      <td>...</td>\n",
       "      <td>...</td>\n",
       "      <td>...</td>\n",
       "    </tr>\n",
       "    <tr>\n",
<<<<<<< HEAD
       "      <th>462972</th>\n",
       "      <td>self</td>\n",
       "      <td>thinking</td>\n",
       "      <td>0.600012</td>\n",
       "    </tr>\n",
       "    <tr>\n",
       "      <th>44183</th>\n",
       "      <td>becomes</td>\n",
       "      <td>hole</td>\n",
       "      <td>0.600012</td>\n",
       "    </tr>\n",
       "    <tr>\n",
       "      <th>222329</th>\n",
       "      <td>fancy</td>\n",
       "      <td>yard</td>\n",
       "      <td>0.600011</td>\n",
       "    </tr>\n",
       "    <tr>\n",
       "      <th>380117</th>\n",
       "      <td>lying</td>\n",
       "      <td>mark</td>\n",
       "      <td>0.600011</td>\n",
       "    </tr>\n",
       "    <tr>\n",
       "      <th>213703</th>\n",
       "      <td>eye</td>\n",
       "      <td>name</td>\n",
       "      <td>0.600011</td>\n",
       "    </tr>\n",
       "    <tr>\n",
       "      <th>228212</th>\n",
       "      <td>feeling</td>\n",
       "      <td>wooden</td>\n",
       "      <td>0.600010</td>\n",
       "    </tr>\n",
       "    <tr>\n",
       "      <th>464130</th>\n",
       "      <td>several</td>\n",
       "      <td>shore</td>\n",
       "      <td>0.600010</td>\n",
       "    </tr>\n",
       "    <tr>\n",
       "      <th>22276</th>\n",
       "      <td>anchor</td>\n",
       "      <td>passed</td>\n",
       "      <td>0.600010</td>\n",
       "    </tr>\n",
       "    <tr>\n",
       "      <th>368798</th>\n",
       "      <td>light</td>\n",
       "      <td>middle</td>\n",
       "      <td>0.600010</td>\n",
       "    </tr>\n",
       "    <tr>\n",
       "      <th>474632</th>\n",
       "      <td>somewhere</td>\n",
       "      <td>takes</td>\n",
       "      <td>0.600009</td>\n",
       "    </tr>\n",
       "    <tr>\n",
       "      <th>268533</th>\n",
       "      <td>getting</td>\n",
       "      <td>lives</td>\n",
       "      <td>0.600008</td>\n",
       "    </tr>\n",
       "    <tr>\n",
       "      <th>101491</th>\n",
       "      <td>call</td>\n",
       "      <td>rolled</td>\n",
       "      <td>0.600008</td>\n",
       "    </tr>\n",
       "    <tr>\n",
       "      <th>459060</th>\n",
       "      <td>scene</td>\n",
       "      <td>whale</td>\n",
       "      <td>0.600007</td>\n",
       "    </tr>\n",
       "    <tr>\n",
       "      <th>347434</th>\n",
       "      <td>kings</td>\n",
       "      <td>sail</td>\n",
       "      <td>0.600007</td>\n",
       "    </tr>\n",
       "    <tr>\n",
       "      <th>453157</th>\n",
       "      <td>rose</td>\n",
       "      <td>saw</td>\n",
       "      <td>0.600007</td>\n",
       "    </tr>\n",
       "    <tr>\n",
       "      <th>255383</th>\n",
       "      <td>forward</td>\n",
       "      <td>great</td>\n",
       "      <td>0.600006</td>\n",
       "    </tr>\n",
       "    <tr>\n",
       "      <th>397266</th>\n",
       "      <td>midnight</td>\n",
       "      <td>year</td>\n",
       "      <td>0.600006</td>\n",
       "    </tr>\n",
       "    <tr>\n",
       "      <th>304653</th>\n",
       "      <td>heard</td>\n",
       "      <td>hunt</td>\n",
       "      <td>0.600006</td>\n",
       "    </tr>\n",
       "    <tr>\n",
       "      <th>433994</th>\n",
       "      <td>play</td>\n",
       "      <td>wide</td>\n",
       "      <td>0.600006</td>\n",
       "    </tr>\n",
       "    <tr>\n",
       "      <th>484750</th>\n",
       "      <td>sure</td>\n",
       "      <td>thick</td>\n",
       "      <td>0.600005</td>\n",
       "    </tr>\n",
       "    <tr>\n",
       "      <th>177184</th>\n",
       "      <td>devil</td>\n",
       "      <td>lee</td>\n",
       "      <td>0.600005</td>\n",
       "    </tr>\n",
       "    <tr>\n",
       "      <th>174305</th>\n",
       "      <td>deep</td>\n",
       "      <td>sperm</td>\n",
       "      <td>0.600004</td>\n",
       "    </tr>\n",
       "    <tr>\n",
       "      <th>186837</th>\n",
       "      <td>drag</td>\n",
       "      <td>passing</td>\n",
       "      <td>0.600004</td>\n",
       "    </tr>\n",
       "    <tr>\n",
       "      <th>40559</th>\n",
       "      <td>base</td>\n",
       "      <td>night</td>\n",
       "      <td>0.600004</td>\n",
       "    </tr>\n",
       "    <tr>\n",
       "      <th>309595</th>\n",
       "      <td>held</td>\n",
       "      <td>keel</td>\n",
       "      <td>0.600003</td>\n",
       "    </tr>\n",
       "    <tr>\n",
       "      <th>322234</th>\n",
       "      <td>hour</td>\n",
       "      <td>legs</td>\n",
       "      <td>0.600003</td>\n",
       "    </tr>\n",
       "    <tr>\n",
       "      <th>475617</th>\n",
       "      <td>sound</td>\n",
       "      <td>started</td>\n",
       "      <td>0.600002</td>\n",
       "    </tr>\n",
       "    <tr>\n",
       "      <th>214835</th>\n",
       "      <td>eyes</td>\n",
       "      <td>weather</td>\n",
       "      <td>0.600002</td>\n",
       "    </tr>\n",
       "    <tr>\n",
       "      <th>290002</th>\n",
       "      <td>hair</td>\n",
       "      <td>touch</td>\n",
       "      <td>0.600001</td>\n",
       "    </tr>\n",
       "    <tr>\n",
       "      <th>214668</th>\n",
       "      <td>eyes</td>\n",
       "      <td>somehow</td>\n",
       "      <td>0.600000</td>\n",
       "    </tr>\n",
       "  </tbody>\n",
       "</table>\n",
       "<p>117879 rows × 3 columns</p>\n",
       "</div>"
      ],
      "text/plain": [
       "                  x          y   overlap\n",
       "398670       mincer       pelt  0.991504\n",
       "58550        bildad      peleg  0.982424\n",
       "61960    blacksmith      forge  0.973594\n",
       "178064         dick       moby  0.973176\n",
       "308839  heidelburgh        tun  0.945773\n",
       "328168       hussey        mrs  0.936021\n",
       "26618         archy     cabaco  0.923582\n",
       "123694      chowder       clam  0.914032\n",
       "398855       mincer    squeeze  0.911430\n",
       "181209         ding     malady  0.911099\n",
       "426565         pelt    squeeze  0.903950\n",
       "384008          man        old  0.892622\n",
       "442338          put  something  0.881187\n",
       "35711          away        man  0.874221\n",
       "488722        thing      whole  0.874036\n",
       "38840          back      small  0.872668\n",
       "474341    something      world  0.870160\n",
       "36152          away      whole  0.869674\n",
       "151995      cowards     malady  0.869621\n",
       "35546          away       hand  0.866139\n",
       "356375         last        man  0.865165\n",
       "35922          away     seemed  0.864813\n",
       "281454         good  something  0.864535\n",
       "417344        often     sudden  0.864140\n",
       "290451         half      round  0.863485\n",
       "384156          man       ship  0.863182\n",
       "453694        round      whole  0.862498\n",
       "453602        round      thing  0.861950\n",
       "292554         hand       till  0.861266\n",
       "292190         hand        man  0.860259\n",
       "...             ...        ...       ...\n",
       "462972         self   thinking  0.600012\n",
       "44183       becomes       hole  0.600012\n",
       "222329        fancy       yard  0.600011\n",
       "380117        lying       mark  0.600011\n",
       "213703          eye       name  0.600011\n",
       "228212      feeling     wooden  0.600010\n",
       "464130      several      shore  0.600010\n",
       "22276        anchor     passed  0.600010\n",
       "368798        light     middle  0.600010\n",
       "474632    somewhere      takes  0.600009\n",
       "268533      getting      lives  0.600008\n",
       "101491         call     rolled  0.600008\n",
       "459060        scene      whale  0.600007\n",
       "347434        kings       sail  0.600007\n",
       "453157         rose        saw  0.600007\n",
       "255383      forward      great  0.600006\n",
       "397266     midnight       year  0.600006\n",
       "304653        heard       hunt  0.600006\n",
       "433994         play       wide  0.600006\n",
       "484750         sure      thick  0.600005\n",
       "177184        devil        lee  0.600005\n",
       "174305         deep      sperm  0.600004\n",
       "186837         drag    passing  0.600004\n",
       "40559          base      night  0.600004\n",
       "309595         held       keel  0.600003\n",
       "322234         hour       legs  0.600003\n",
       "475617        sound    started  0.600002\n",
       "214835         eyes    weather  0.600002\n",
       "290002         hair      touch  0.600001\n",
       "214668         eyes    somehow  0.600000\n",
       "\n",
       "[117879 rows x 3 columns]"
      ]
     },
     "execution_count": 120,
=======
       "      <th>320320</th>\n",
       "      <td>certain</td>\n",
       "      <td>sort</td>\n",
       "      <td>0.600176</td>\n",
       "    </tr>\n",
       "    <tr>\n",
       "      <th>991116</th>\n",
       "      <td>land</td>\n",
       "      <td>place</td>\n",
       "      <td>0.600173</td>\n",
       "    </tr>\n",
       "    <tr>\n",
       "      <th>926465</th>\n",
       "      <td>indian</td>\n",
       "      <td>set</td>\n",
       "      <td>0.600170</td>\n",
       "    </tr>\n",
       "    <tr>\n",
       "      <th>717803</th>\n",
       "      <td>form</td>\n",
       "      <td>part</td>\n",
       "      <td>0.600166</td>\n",
       "    </tr>\n",
       "    <tr>\n",
       "      <th>312833</th>\n",
       "      <td>caught</td>\n",
       "      <td>point</td>\n",
       "      <td>0.600165</td>\n",
       "    </tr>\n",
       "    <tr>\n",
       "      <th>798178</th>\n",
       "      <td>great</td>\n",
       "      <td>parts</td>\n",
       "      <td>0.600160</td>\n",
       "    </tr>\n",
       "    <tr>\n",
       "      <th>319915</th>\n",
       "      <td>certain</td>\n",
       "      <td>mind</td>\n",
       "      <td>0.600157</td>\n",
       "    </tr>\n",
       "    <tr>\n",
       "      <th>850750</th>\n",
       "      <td>heart</td>\n",
       "      <td>word</td>\n",
       "      <td>0.600157</td>\n",
       "    </tr>\n",
       "    <tr>\n",
       "      <th>109143</th>\n",
       "      <td>back</td>\n",
       "      <td>iron</td>\n",
       "      <td>0.600155</td>\n",
       "    </tr>\n",
       "    <tr>\n",
       "      <th>399829</th>\n",
       "      <td>considerable</td>\n",
       "      <td>ten</td>\n",
       "      <td>0.600150</td>\n",
       "    </tr>\n",
       "    <tr>\n",
       "      <th>1043769</th>\n",
       "      <td>look</td>\n",
       "      <td>seems</td>\n",
       "      <td>0.600148</td>\n",
       "    </tr>\n",
       "    <tr>\n",
       "      <th>726095</th>\n",
       "      <td>forward</td>\n",
       "      <td>stood</td>\n",
       "      <td>0.600144</td>\n",
       "    </tr>\n",
       "    <tr>\n",
       "      <th>109192</th>\n",
       "      <td>back</td>\n",
       "      <td>land</td>\n",
       "      <td>0.600144</td>\n",
       "    </tr>\n",
       "    <tr>\n",
       "      <th>1295952</th>\n",
       "      <td>sight</td>\n",
       "      <td>white</td>\n",
       "      <td>0.600144</td>\n",
       "    </tr>\n",
       "    <tr>\n",
       "      <th>436157</th>\n",
       "      <td>cried</td>\n",
       "      <td>heard</td>\n",
       "      <td>0.600140</td>\n",
       "    </tr>\n",
       "    <tr>\n",
       "      <th>1182661</th>\n",
       "      <td>pequod</td>\n",
       "      <td>yes</td>\n",
       "      <td>0.600134</td>\n",
       "    </tr>\n",
       "    <tr>\n",
       "      <th>108804</th>\n",
       "      <td>back</td>\n",
       "      <td>end</td>\n",
       "      <td>0.600105</td>\n",
       "    </tr>\n",
       "    <tr>\n",
       "      <th>624783</th>\n",
       "      <td>eyes</td>\n",
       "      <td>nothing</td>\n",
       "      <td>0.600072</td>\n",
       "    </tr>\n",
       "    <tr>\n",
       "      <th>515417</th>\n",
       "      <td>distance</td>\n",
       "      <td>seldom</td>\n",
       "      <td>0.600071</td>\n",
       "    </tr>\n",
       "    <tr>\n",
       "      <th>625243</th>\n",
       "      <td>eyes</td>\n",
       "      <td>tell</td>\n",
       "      <td>0.600062</td>\n",
       "    </tr>\n",
       "    <tr>\n",
       "      <th>661542</th>\n",
       "      <td>fifty</td>\n",
       "      <td>found</td>\n",
       "      <td>0.600061</td>\n",
       "    </tr>\n",
       "    <tr>\n",
       "      <th>640910</th>\n",
       "      <td>far</td>\n",
       "      <td>straight</td>\n",
       "      <td>0.600058</td>\n",
       "    </tr>\n",
       "    <tr>\n",
       "      <th>882939</th>\n",
       "      <td>hole</td>\n",
       "      <td>mark</td>\n",
       "      <td>0.600052</td>\n",
       "    </tr>\n",
       "    <tr>\n",
       "      <th>93552</th>\n",
       "      <td>aspect</td>\n",
       "      <td>peculiar</td>\n",
       "      <td>0.600050</td>\n",
       "    </tr>\n",
       "    <tr>\n",
       "      <th>806179</th>\n",
       "      <td>ground</td>\n",
       "      <td>whole</td>\n",
       "      <td>0.600049</td>\n",
       "    </tr>\n",
       "    <tr>\n",
       "      <th>1261429</th>\n",
       "      <td>run</td>\n",
       "      <td>take</td>\n",
       "      <td>0.600048</td>\n",
       "    </tr>\n",
       "    <tr>\n",
       "      <th>77452</th>\n",
       "      <td>arm</td>\n",
       "      <td>moment</td>\n",
       "      <td>0.600012</td>\n",
       "    </tr>\n",
       "    <tr>\n",
       "      <th>770857</th>\n",
       "      <td>given</td>\n",
       "      <td>heart</td>\n",
       "      <td>0.600002</td>\n",
       "    </tr>\n",
       "    <tr>\n",
       "      <th>1033865</th>\n",
       "      <td>live</td>\n",
       "      <td>part</td>\n",
       "      <td>0.600001</td>\n",
       "    </tr>\n",
       "    <tr>\n",
       "      <th>1045004</th>\n",
       "      <td>looking</td>\n",
       "      <td>manner</td>\n",
       "      <td>0.600001</td>\n",
       "    </tr>\n",
       "  </tbody>\n",
       "</table>\n",
       "<p>8527 rows × 3 columns</p>\n",
       "</div>"
      ],
      "text/plain": [
       "                    x          y   overlap\n",
       "499389           dick       moby  0.982539\n",
       "1100142        mincer       pelt  0.971372\n",
       "1294439       shuttle    weaving  0.942857\n",
       "176127     blacksmith      forge  0.940321\n",
       "858732    heidelburgh        tun  0.933551\n",
       "167391         bildad      peleg  0.932699\n",
       "470648            dat      steak  0.920848\n",
       "913905         hussey        mrs  0.917482\n",
       "343650        chowder       clam  0.900002\n",
       "829854          harem    schools  0.866245\n",
       "842109            hav     quohog  0.823247\n",
       "762525         george    perseus  0.811683\n",
       "746760        gabriel   jeroboam  0.802985\n",
       "1065583           man        old  0.800610\n",
       "1068009        mapple     pulpit  0.799215\n",
       "75080           archy     cabaco  0.797178\n",
       "388201      compasses    needles  0.796125\n",
       "54551       ambergris   guernsey  0.792064\n",
       "52368           amber  ambergris  0.792000\n",
       "101714           away     seemed  0.791162\n",
       "843270           head       side  0.790323\n",
       "253273           buoy       ding  0.788394\n",
       "294368      carpenter       vice  0.786157\n",
       "108238       bachelor   sunwards  0.782368\n",
       "971022           kick    pyramid  0.781593\n",
       "101959           away       time  0.781308\n",
       "763035         george    vishnoo  0.780114\n",
       "101348           away        man  0.779174\n",
       "1043765          look        see  0.779002\n",
       "1225920           put  something  0.778947\n",
       "...               ...        ...       ...\n",
       "320320        certain       sort  0.600176\n",
       "991116           land      place  0.600173\n",
       "926465         indian        set  0.600170\n",
       "717803           form       part  0.600166\n",
       "312833         caught      point  0.600165\n",
       "798178          great      parts  0.600160\n",
       "319915        certain       mind  0.600157\n",
       "850750          heart       word  0.600157\n",
       "109143           back       iron  0.600155\n",
       "399829   considerable        ten  0.600150\n",
       "1043769          look      seems  0.600148\n",
       "726095        forward      stood  0.600144\n",
       "109192           back       land  0.600144\n",
       "1295952         sight      white  0.600144\n",
       "436157          cried      heard  0.600140\n",
       "1182661        pequod        yes  0.600134\n",
       "108804           back        end  0.600105\n",
       "624783           eyes    nothing  0.600072\n",
       "515417       distance     seldom  0.600071\n",
       "625243           eyes       tell  0.600062\n",
       "661542          fifty      found  0.600061\n",
       "640910            far   straight  0.600058\n",
       "882939           hole       mark  0.600052\n",
       "93552          aspect   peculiar  0.600050\n",
       "806179         ground      whole  0.600049\n",
       "1261429           run       take  0.600048\n",
       "77452             arm     moment  0.600012\n",
       "770857          given      heart  0.600002\n",
       "1033865          live       part  0.600001\n",
       "1045004       looking     manner  0.600001\n",
       "\n",
       "[8527 rows x 3 columns]"
      ]
     },
     "execution_count": 24,
>>>>>>> 8f324f8f918c0e4bea9bb48ca0eb50c5bcc3a2fc
     "metadata": {},
     "output_type": "execute_result"
    }
   ],
   "source": [
    "pairs[pairs.overlap > .6 ].sort_values('overlap', ascending=False)"
   ]
  },
  {
   "cell_type": "code",
<<<<<<< HEAD
   "execution_count": 121,
=======
   "execution_count": 25,
>>>>>>> 8f324f8f918c0e4bea9bb48ca0eb50c5bcc3a2fc
   "metadata": {},
   "outputs": [],
   "source": [
    "pairs2 = pairs.copy().rename(columns={'x':'y', 'y':'x'})\n",
    "pairs3 = pd.concat([pairs, pairs2], sort=True)"
   ]
  },
  {
   "cell_type": "code",
<<<<<<< HEAD
   "execution_count": 122,
=======
   "execution_count": 32,
>>>>>>> 8f324f8f918c0e4bea9bb48ca0eb50c5bcc3a2fc
   "metadata": {},
   "outputs": [
    {
     "data": {
      "text/html": [
       "<div>\n",
       "<style scoped>\n",
       "    .dataframe tbody tr th:only-of-type {\n",
       "        vertical-align: middle;\n",
       "    }\n",
       "\n",
       "    .dataframe tbody tr th {\n",
       "        vertical-align: top;\n",
       "    }\n",
       "\n",
       "    .dataframe thead th {\n",
       "        text-align: right;\n",
       "    }\n",
       "</style>\n",
       "<table border=\"1\" class=\"dataframe\">\n",
       "  <thead>\n",
       "    <tr style=\"text-align: right;\">\n",
       "      <th></th>\n",
       "      <th>overlap</th>\n",
       "      <th>x</th>\n",
       "      <th>y</th>\n",
       "    </tr>\n",
       "  </thead>\n",
       "  <tbody>\n",
       "    <tr>\n",
<<<<<<< HEAD
       "      <th>208041</th>\n",
       "      <td>0.832923</td>\n",
       "      <td>whale</td>\n",
       "      <td>entire</td>\n",
       "    </tr>\n",
       "    <tr>\n",
       "      <th>435036</th>\n",
       "      <td>0.809410</td>\n",
=======
       "      <th>1203721</th>\n",
       "      <td>0.739554</td>\n",
>>>>>>> 8f324f8f918c0e4bea9bb48ca0eb50c5bcc3a2fc
       "      <td>whale</td>\n",
       "      <td>point</td>\n",
       "    </tr>\n",
       "    <tr>\n",
<<<<<<< HEAD
       "      <th>284886</th>\n",
       "      <td>0.803898</td>\n",
=======
       "      <th>798737</th>\n",
       "      <td>0.735494</td>\n",
>>>>>>> 8f324f8f918c0e4bea9bb48ca0eb50c5bcc3a2fc
       "      <td>whale</td>\n",
       "      <td>great</td>\n",
       "    </tr>\n",
       "    <tr>\n",
<<<<<<< HEAD
       "      <th>494046</th>\n",
       "      <td>0.792034</td>\n",
       "      <td>whale</td>\n",
       "      <td>vast</td>\n",
       "    </tr>\n",
       "    <tr>\n",
       "      <th>451010</th>\n",
       "      <td>0.791496</td>\n",
       "      <td>whale</td>\n",
       "      <td>right</td>\n",
       "    </tr>\n",
       "    <tr>\n",
       "      <th>423690</th>\n",
       "      <td>0.791182</td>\n",
=======
       "      <th>1318957</th>\n",
       "      <td>0.715064</td>\n",
       "      <td>whale</td>\n",
       "      <td>sperm</td>\n",
       "    </tr>\n",
       "    <tr>\n",
       "      <th>757564</th>\n",
       "      <td>0.696410</td>\n",
       "      <td>whale</td>\n",
       "      <td>general</td>\n",
       "    </tr>\n",
       "    <tr>\n",
       "      <th>1172807</th>\n",
       "      <td>0.696139</td>\n",
>>>>>>> 8f324f8f918c0e4bea9bb48ca0eb50c5bcc3a2fc
       "      <td>whale</td>\n",
       "      <td>part</td>\n",
       "    </tr>\n",
       "    <tr>\n",
<<<<<<< HEAD
       "      <th>469896</th>\n",
       "      <td>0.789758</td>\n",
       "      <td>whale</td>\n",
       "      <td>single</td>\n",
       "    </tr>\n",
       "    <tr>\n",
       "      <th>477155</th>\n",
       "      <td>0.780420</td>\n",
       "      <td>whale</td>\n",
       "      <td>sperm</td>\n",
       "    </tr>\n",
       "    <tr>\n",
       "      <th>265601</th>\n",
       "      <td>0.779239</td>\n",
       "      <td>whale</td>\n",
       "      <td>general</td>\n",
       "    </tr>\n",
       "    <tr>\n",
       "      <th>112335</th>\n",
       "      <td>0.778755</td>\n",
       "      <td>whale</td>\n",
       "      <td>case</td>\n",
=======
       "      <th>1251791</th>\n",
       "      <td>0.693548</td>\n",
       "      <td>whale</td>\n",
       "      <td>right</td>\n",
       "    </tr>\n",
       "    <tr>\n",
       "      <th>1294817</th>\n",
       "      <td>0.691406</td>\n",
       "      <td>whale</td>\n",
       "      <td>side</td>\n",
       "    </tr>\n",
       "    <tr>\n",
       "      <th>272336</th>\n",
       "      <td>0.680436</td>\n",
       "      <td>whale</td>\n",
       "      <td>call</td>\n",
       "    </tr>\n",
       "    <tr>\n",
       "      <th>195632</th>\n",
       "      <td>0.678703</td>\n",
       "      <td>whale</td>\n",
       "      <td>body</td>\n",
       "    </tr>\n",
       "    <tr>\n",
       "      <th>655481</th>\n",
       "      <td>0.676722</td>\n",
       "      <td>whale</td>\n",
       "      <td>feet</td>\n",
>>>>>>> 8f324f8f918c0e4bea9bb48ca0eb50c5bcc3a2fc
       "    </tr>\n",
       "  </tbody>\n",
       "</table>\n",
       "</div>"
      ],
      "text/plain": [
<<<<<<< HEAD
       "         overlap      x        y\n",
       "208041  0.832923  whale   entire\n",
       "435036  0.809410  whale    point\n",
       "284886  0.803898  whale    great\n",
       "494046  0.792034  whale     vast\n",
       "451010  0.791496  whale    right\n",
       "423690  0.791182  whale     part\n",
       "469896  0.789758  whale   single\n",
       "477155  0.780420  whale    sperm\n",
       "265601  0.779239  whale  general\n",
       "112335  0.778755  whale     case"
      ]
     },
     "execution_count": 122,
=======
       "          overlap      x        y\n",
       "1203721  0.739554  whale    point\n",
       "798737   0.735494  whale    great\n",
       "1318957  0.715064  whale    sperm\n",
       "757564   0.696410  whale  general\n",
       "1172807  0.696139  whale     part\n",
       "1251791  0.693548  whale    right\n",
       "1294817  0.691406  whale     side\n",
       "272336   0.680436  whale     call\n",
       "195632   0.678703  whale     body\n",
       "655481   0.676722  whale     feet"
      ]
     },
     "execution_count": 32,
>>>>>>> 8f324f8f918c0e4bea9bb48ca0eb50c5bcc3a2fc
     "metadata": {},
     "output_type": "execute_result"
    }
   ],
   "source": [
    "pairs3.query(\"x == 'whale'\").sort_values('overlap', ascending=False).head(10)"
   ]
  },
  {
   "cell_type": "code",
<<<<<<< HEAD
   "execution_count": 123,
=======
   "execution_count": 28,
>>>>>>> 8f324f8f918c0e4bea9bb48ca0eb50c5bcc3a2fc
   "metadata": {},
   "outputs": [
    {
     "data": {
      "text/html": [
       "<div>\n",
       "<style scoped>\n",
       "    .dataframe tbody tr th:only-of-type {\n",
       "        vertical-align: middle;\n",
       "    }\n",
       "\n",
       "    .dataframe tbody tr th {\n",
       "        vertical-align: top;\n",
       "    }\n",
       "\n",
       "    .dataframe thead th {\n",
       "        text-align: right;\n",
       "    }\n",
       "</style>\n",
       "<table border=\"1\" class=\"dataframe\">\n",
       "  <thead>\n",
       "    <tr style=\"text-align: right;\">\n",
       "      <th></th>\n",
       "      <th>overlap</th>\n",
       "      <th>x</th>\n",
       "      <th>y</th>\n",
       "    </tr>\n",
       "  </thead>\n",
       "  <tbody>\n",
       "    <tr>\n",
<<<<<<< HEAD
       "      <th>11701</th>\n",
       "      <td>0.813440</td>\n",
       "      <td>ahab</td>\n",
       "      <td>starbuck</td>\n",
       "    </tr>\n",
       "    <tr>\n",
       "      <th>10926</th>\n",
       "      <td>0.812152</td>\n",
       "      <td>ahab</td>\n",
       "      <td>aye</td>\n",
       "    </tr>\n",
       "    <tr>\n",
       "      <th>11604</th>\n",
       "      <td>0.790964</td>\n",
       "      <td>ahab</td>\n",
       "      <td>sails</td>\n",
       "    </tr>\n",
       "    <tr>\n",
       "      <th>11661</th>\n",
       "      <td>0.739071</td>\n",
       "      <td>ahab</td>\n",
       "      <td>sky</td>\n",
       "    </tr>\n",
       "    <tr>\n",
       "      <th>11081</th>\n",
       "      <td>0.737471</td>\n",
       "      <td>ahab</td>\n",
       "      <td>deck</td>\n",
       "    </tr>\n",
       "    <tr>\n",
       "      <th>11182</th>\n",
       "      <td>0.733750</td>\n",
       "      <td>ahab</td>\n",
       "      <td>fore</td>\n",
       "    </tr>\n",
       "    <tr>\n",
       "      <th>11300</th>\n",
       "      <td>0.730253</td>\n",
       "      <td>ahab</td>\n",
       "      <td>hull</td>\n",
       "    </tr>\n",
       "    <tr>\n",
       "      <th>10973</th>\n",
       "      <td>0.729791</td>\n",
       "      <td>ahab</td>\n",
       "      <td>boy</td>\n",
       "    </tr>\n",
       "    <tr>\n",
       "      <th>11010</th>\n",
       "      <td>0.728288</td>\n",
       "      <td>ahab</td>\n",
       "      <td>cast</td>\n",
       "    </tr>\n",
       "    <tr>\n",
       "      <th>11433</th>\n",
       "      <td>0.727955</td>\n",
       "      <td>ahab</td>\n",
       "      <td>men</td>\n",
=======
       "      <th>34524</th>\n",
       "      <td>0.707845</td>\n",
       "      <td>ahab</td>\n",
       "      <td>aye</td>\n",
       "    </tr>\n",
       "    <tr>\n",
       "      <th>35829</th>\n",
       "      <td>0.691117</td>\n",
       "      <td>ahab</td>\n",
       "      <td>starbuck</td>\n",
       "    </tr>\n",
       "    <tr>\n",
       "      <th>34747</th>\n",
       "      <td>0.670974</td>\n",
       "      <td>ahab</td>\n",
       "      <td>crew</td>\n",
       "    </tr>\n",
       "    <tr>\n",
       "      <th>34781</th>\n",
       "      <td>0.663075</td>\n",
       "      <td>ahab</td>\n",
       "      <td>deck</td>\n",
       "    </tr>\n",
       "    <tr>\n",
       "      <th>35369</th>\n",
       "      <td>0.659050</td>\n",
       "      <td>ahab</td>\n",
       "      <td>men</td>\n",
       "    </tr>\n",
       "    <tr>\n",
       "      <th>35593</th>\n",
       "      <td>0.657888</td>\n",
       "      <td>ahab</td>\n",
       "      <td>quick</td>\n",
       "    </tr>\n",
       "    <tr>\n",
       "      <th>34895</th>\n",
       "      <td>0.656179</td>\n",
       "      <td>ahab</td>\n",
       "      <td>eyes</td>\n",
       "    </tr>\n",
       "    <tr>\n",
       "      <th>35286</th>\n",
       "      <td>0.646789</td>\n",
       "      <td>ahab</td>\n",
       "      <td>life</td>\n",
       "    </tr>\n",
       "    <tr>\n",
       "      <th>34944</th>\n",
       "      <td>0.645413</td>\n",
       "      <td>ahab</td>\n",
       "      <td>fixed</td>\n",
       "    </tr>\n",
       "    <tr>\n",
       "      <th>34486</th>\n",
       "      <td>0.640352</td>\n",
       "      <td>ahab</td>\n",
       "      <td>aloft</td>\n",
>>>>>>> 8f324f8f918c0e4bea9bb48ca0eb50c5bcc3a2fc
       "    </tr>\n",
       "  </tbody>\n",
       "</table>\n",
       "</div>"
      ],
      "text/plain": [
       "        overlap     x         y\n",
<<<<<<< HEAD
       "11701  0.813440  ahab  starbuck\n",
       "10926  0.812152  ahab       aye\n",
       "11604  0.790964  ahab     sails\n",
       "11661  0.739071  ahab       sky\n",
       "11081  0.737471  ahab      deck\n",
       "11182  0.733750  ahab      fore\n",
       "11300  0.730253  ahab      hull\n",
       "10973  0.729791  ahab       boy\n",
       "11010  0.728288  ahab      cast\n",
       "11433  0.727955  ahab       men"
      ]
     },
     "execution_count": 123,
=======
       "34524  0.707845  ahab       aye\n",
       "35829  0.691117  ahab  starbuck\n",
       "34747  0.670974  ahab      crew\n",
       "34781  0.663075  ahab      deck\n",
       "35369  0.659050  ahab       men\n",
       "35593  0.657888  ahab     quick\n",
       "34895  0.656179  ahab      eyes\n",
       "35286  0.646789  ahab      life\n",
       "34944  0.645413  ahab     fixed\n",
       "34486  0.640352  ahab     aloft"
      ]
     },
     "execution_count": 28,
>>>>>>> 8f324f8f918c0e4bea9bb48ca0eb50c5bcc3a2fc
     "metadata": {},
     "output_type": "execute_result"
    }
   ],
   "source": [
    "pairs3.query(\"x == 'ahab'\").sort_values('overlap', ascending=False).head(10)"
   ]
  },
  {
   "cell_type": "markdown",
   "metadata": {},
   "source": [
<<<<<<< HEAD
    "## See related terms for top terms"
   ]
  },
  {
   "cell_type": "code",
   "execution_count": 124,
   "metadata": {},
   "outputs": [],
   "source": [
    "DETAIL = '<table>'\n",
    "for i, term in enumerate(TOP_TERMS):\n",
    "    friends = pairs3[pairs3.x == term].sort_values('overlap', ascending=False).head(10)\n",
    "    DETAIL += \"<tr><td colspan=1><b>{}. {}</b></td></tr>\".format(i+1, term)\n",
    "    for row in friends.reset_index(drop=True)[['y', 'overlap']].values:\n",
    "        bar = round(row[1] * 100) * '|'\n",
    "        DETAIL += \"<tr><td>{}</td><td style='text-align:left;'>{} ({})</td></tr>\".format(row[0], bar, row[1])\n",
    "DETAIL += \"</table>\""
   ]
  },
  {
   "cell_type": "code",
   "execution_count": 125,
   "metadata": {},
   "outputs": [
    {
     "data": {
      "text/html": [
       "<table><tr><td colspan=1><b>1. um</b></td></tr><tr><td>cowards</td><td style='text-align:left;'>|||||||||||||||||||||||||||||||||||||||||||||||||||||||||||||||||||||||||||||||| (0.8048470425177178)</td></tr><tr><td>rod</td><td style='text-align:left;'>|||||||||||||||||||||||||||||||||||||||||||||||||||||||||||||||||||||||||||| (0.7563809756390601)</td></tr><tr><td>log</td><td style='text-align:left;'>|||||||||||||||||||||||||||||||||||||||||||||||||||||||||||||||||||||||| (0.7219424189570088)</td></tr><tr><td>rum</td><td style='text-align:left;'>||||||||||||||||||||||||||||||||||||||||||||||||||||||||||||||||||||||| (0.7067866731725589)</td></tr><tr><td>malady</td><td style='text-align:left;'>|||||||||||||||||||||||||||||||||||||||||||||||||||||||||||||||||||||| (0.7038033252368548)</td></tr><tr><td>lightning</td><td style='text-align:left;'>||||||||||||||||||||||||||||||||||||||||||||||||||||||||||||||||||||| (0.6939160407653989)</td></tr><tr><td>ding</td><td style='text-align:left;'>||||||||||||||||||||||||||||||||||||||||||||||||||||||||||||||||||||| (0.6887278309247828)</td></tr><tr><td>manxman</td><td style='text-align:left;'>||||||||||||||||||||||||||||||||||||||||||||||||||||||||||||||||||| (0.6740247346584924)</td></tr><tr><td>medicine</td><td style='text-align:left;'>||||||||||||||||||||||||||||||||||||||||||||||||||||||||||||||||||| (0.6659996343548886)</td></tr><tr><td>needles</td><td style='text-align:left;'>|||||||||||||||||||||||||||||||||||||||||||||||||||||||||||||||| (0.6357214720761545)</td></tr><tr><td colspan=1><b>2. ahab</b></td></tr><tr><td>starbuck</td><td style='text-align:left;'>||||||||||||||||||||||||||||||||||||||||||||||||||||||||||||||||||||||||||||||||| (0.8134403337302223)</td></tr><tr><td>aye</td><td style='text-align:left;'>||||||||||||||||||||||||||||||||||||||||||||||||||||||||||||||||||||||||||||||||| (0.8121521024984193)</td></tr><tr><td>sails</td><td style='text-align:left;'>||||||||||||||||||||||||||||||||||||||||||||||||||||||||||||||||||||||||||||||| (0.7909635919342719)</td></tr><tr><td>sky</td><td style='text-align:left;'>|||||||||||||||||||||||||||||||||||||||||||||||||||||||||||||||||||||||||| (0.7390710500508078)</td></tr><tr><td>deck</td><td style='text-align:left;'>|||||||||||||||||||||||||||||||||||||||||||||||||||||||||||||||||||||||||| (0.7374709766726755)</td></tr><tr><td>fore</td><td style='text-align:left;'>||||||||||||||||||||||||||||||||||||||||||||||||||||||||||||||||||||||||| (0.7337503204045845)</td></tr><tr><td>hull</td><td style='text-align:left;'>||||||||||||||||||||||||||||||||||||||||||||||||||||||||||||||||||||||||| (0.7302526568813701)</td></tr><tr><td>boy</td><td style='text-align:left;'>||||||||||||||||||||||||||||||||||||||||||||||||||||||||||||||||||||||||| (0.7297912889679543)</td></tr><tr><td>cast</td><td style='text-align:left;'>||||||||||||||||||||||||||||||||||||||||||||||||||||||||||||||||||||||||| (0.7282884618958954)</td></tr><tr><td>men</td><td style='text-align:left;'>||||||||||||||||||||||||||||||||||||||||||||||||||||||||||||||||||||||||| (0.7279554605379293)</td></tr><tr><td colspan=1><b>3. queequeg</b></td></tr><tr><td>kill</td><td style='text-align:left;'>||||||||||||||||||||||||||||||||||||||||||||||||||||||||||||||||||||||||| (0.7319784996629535)</td></tr><tr><td>lay</td><td style='text-align:left;'>|||||||||||||||||||||||||||||||||||||||||||||||||||||||||||||||||||||||| (0.7218060577367378)</td></tr><tr><td>said</td><td style='text-align:left;'>||||||||||||||||||||||||||||||||||||||||||||||||||||||||||||||||||||||| (0.710608631583063)</td></tr><tr><td>felt</td><td style='text-align:left;'>|||||||||||||||||||||||||||||||||||||||||||||||||||||||||||||||||||||| (0.7030457695099648)</td></tr><tr><td>people</td><td style='text-align:left;'>|||||||||||||||||||||||||||||||||||||||||||||||||||||||||||||||||||||| (0.7018281182107567)</td></tr><tr><td>seeing</td><td style='text-align:left;'>|||||||||||||||||||||||||||||||||||||||||||||||||||||||||||||||||||||| (0.6955442590800189)</td></tr><tr><td>mean</td><td style='text-align:left;'>||||||||||||||||||||||||||||||||||||||||||||||||||||||||||||||||||||| (0.6939925073596658)</td></tr><tr><td>person</td><td style='text-align:left;'>||||||||||||||||||||||||||||||||||||||||||||||||||||||||||||||||||||| (0.6919894677820393)</td></tr><tr><td>pagan</td><td style='text-align:left;'>||||||||||||||||||||||||||||||||||||||||||||||||||||||||||||||||||||| (0.6893746692884805)</td></tr><tr><td>island</td><td style='text-align:left;'>||||||||||||||||||||||||||||||||||||||||||||||||||||||||||||||||||||| (0.687746434911229)</td></tr><tr><td colspan=1><b>4. sir</b></td></tr><tr><td>coffin</td><td style='text-align:left;'>||||||||||||||||||||||||||||||||||||||||||||||||||||||||||||||||||||||||||| (0.7464425293725299)</td></tr><tr><td>yards</td><td style='text-align:left;'>||||||||||||||||||||||||||||||||||||||||||||||||||||||||||||||||||||||||| (0.7343765622170302)</td></tr><tr><td>cast</td><td style='text-align:left;'>|||||||||||||||||||||||||||||||||||||||||||||||||||||||||||||||||||||||| (0.7162844341530579)</td></tr><tr><td>ahab</td><td style='text-align:left;'>||||||||||||||||||||||||||||||||||||||||||||||||||||||||||||||||||||||| (0.7088674217482258)</td></tr><tr><td>mild</td><td style='text-align:left;'>||||||||||||||||||||||||||||||||||||||||||||||||||||||||||||||||||||||| (0.7074568752093577)</td></tr><tr><td>wife</td><td style='text-align:left;'>|||||||||||||||||||||||||||||||||||||||||||||||||||||||||||||||||||||| (0.698314589159396)</td></tr><tr><td>stern</td><td style='text-align:left;'>|||||||||||||||||||||||||||||||||||||||||||||||||||||||||||||||||||||| (0.6963882149720362)</td></tr><tr><td>shall</td><td style='text-align:left;'>||||||||||||||||||||||||||||||||||||||||||||||||||||||||||||||||||||| (0.6905982391395019)</td></tr><tr><td>soft</td><td style='text-align:left;'>||||||||||||||||||||||||||||||||||||||||||||||||||||||||||||||||||||| (0.6875039427176386)</td></tr><tr><td>art</td><td style='text-align:left;'>|||||||||||||||||||||||||||||||||||||||||||||||||||||||||||||||||||| (0.6823124684165287)</td></tr><tr><td colspan=1><b>5. stubb</b></td></tr><tr><td>shot</td><td style='text-align:left;'>|||||||||||||||||||||||||||||||||||||||||||||||||||||||||||||||||||||||||||||| (0.7761857060365474)</td></tr><tr><td>except</td><td style='text-align:left;'>||||||||||||||||||||||||||||||||||||||||||||||||||||||||||||||||||||||||||| (0.7520819015451531)</td></tr><tr><td>keep</td><td style='text-align:left;'>||||||||||||||||||||||||||||||||||||||||||||||||||||||||||||||||||||||||||| (0.747730366014759)</td></tr><tr><td>calm</td><td style='text-align:left;'>|||||||||||||||||||||||||||||||||||||||||||||||||||||||||||||||||||||||||| (0.7420817351117672)</td></tr><tr><td>cut</td><td style='text-align:left;'>|||||||||||||||||||||||||||||||||||||||||||||||||||||||||||||||||||||||||| (0.7415715047127238)</td></tr><tr><td>hardly</td><td style='text-align:left;'>|||||||||||||||||||||||||||||||||||||||||||||||||||||||||||||||||||||||||| (0.7411054202063627)</td></tr><tr><td>end</td><td style='text-align:left;'>|||||||||||||||||||||||||||||||||||||||||||||||||||||||||||||||||||||||||| (0.7351254117135619)</td></tr><tr><td>readily</td><td style='text-align:left;'>|||||||||||||||||||||||||||||||||||||||||||||||||||||||||||||||||||||||| (0.723752277637552)</td></tr><tr><td>pequod</td><td style='text-align:left;'>|||||||||||||||||||||||||||||||||||||||||||||||||||||||||||||||||||||||| (0.7170297572165832)</td></tr><tr><td>started</td><td style='text-align:left;'>||||||||||||||||||||||||||||||||||||||||||||||||||||||||||||||||||||||| (0.7139937383247477)</td></tr><tr><td colspan=1><b>6. whale</b></td></tr><tr><td>entire</td><td style='text-align:left;'>||||||||||||||||||||||||||||||||||||||||||||||||||||||||||||||||||||||||||||||||||| (0.8329234623019295)</td></tr><tr><td>point</td><td style='text-align:left;'>||||||||||||||||||||||||||||||||||||||||||||||||||||||||||||||||||||||||||||||||| (0.8094096180286284)</td></tr><tr><td>great</td><td style='text-align:left;'>|||||||||||||||||||||||||||||||||||||||||||||||||||||||||||||||||||||||||||||||| (0.8038984400229271)</td></tr><tr><td>vast</td><td style='text-align:left;'>||||||||||||||||||||||||||||||||||||||||||||||||||||||||||||||||||||||||||||||| (0.7920337596543756)</td></tr><tr><td>right</td><td style='text-align:left;'>||||||||||||||||||||||||||||||||||||||||||||||||||||||||||||||||||||||||||||||| (0.7914963665881262)</td></tr><tr><td>part</td><td style='text-align:left;'>||||||||||||||||||||||||||||||||||||||||||||||||||||||||||||||||||||||||||||||| (0.7911821804599976)</td></tr><tr><td>single</td><td style='text-align:left;'>||||||||||||||||||||||||||||||||||||||||||||||||||||||||||||||||||||||||||||||| (0.7897577808116983)</td></tr><tr><td>sperm</td><td style='text-align:left;'>|||||||||||||||||||||||||||||||||||||||||||||||||||||||||||||||||||||||||||||| (0.7804199090332635)</td></tr><tr><td>general</td><td style='text-align:left;'>|||||||||||||||||||||||||||||||||||||||||||||||||||||||||||||||||||||||||||||| (0.7792387975513138)</td></tr><tr><td>case</td><td style='text-align:left;'>|||||||||||||||||||||||||||||||||||||||||||||||||||||||||||||||||||||||||||||| (0.7787548262584312)</td></tr><tr><td colspan=1><b>7. pip</b></td></tr><tr><td>binnacle</td><td style='text-align:left;'>||||||||||||||||||||||||||||||||||||||||||||||||||||||||||||||||| (0.6524385644215805)</td></tr><tr><td>lad</td><td style='text-align:left;'>|||||||||||||||||||||||||||||||||||||||||||||||||||||||||||||||| (0.6417710847722835)</td></tr><tr><td>smells</td><td style='text-align:left;'>||||||||||||||||||||||||||||||||||||||||||||||||||||||||||||||| (0.6326528663632727)</td></tr><tr><td>grey</td><td style='text-align:left;'>||||||||||||||||||||||||||||||||||||||||||||||||||||||||||||| (0.6137195738050301)</td></tr><tr><td>glad</td><td style='text-align:left;'>||||||||||||||||||||||||||||||||||||||||||||||||||||||||||||| (0.6132562086669072)</td></tr><tr><td>hark</td><td style='text-align:left;'>||||||||||||||||||||||||||||||||||||||||||||||||||||||||||||| (0.6078033280128906)</td></tr><tr><td>midnight</td><td style='text-align:left;'>|||||||||||||||||||||||||||||||||||||||||||||||||||||||||||| (0.5989593640067357)</td></tr><tr><td>job</td><td style='text-align:left;'>|||||||||||||||||||||||||||||||||||||||||||||||||||||||||||| (0.5966906823511735)</td></tr><tr><td>yard</td><td style='text-align:left;'>||||||||||||||||||||||||||||||||||||||||||||||||||||||||||| (0.5892944856737493)</td></tr><tr><td>fire</td><td style='text-align:left;'>||||||||||||||||||||||||||||||||||||||||||||||||||||||||||| (0.5857080114040942)</td></tr><tr><td colspan=1><b>8. starbuck</b></td></tr><tr><td>ahab</td><td style='text-align:left;'>||||||||||||||||||||||||||||||||||||||||||||||||||||||||||||||||||||||||||||||||| (0.8134403337302223)</td></tr><tr><td>sky</td><td style='text-align:left;'>|||||||||||||||||||||||||||||||||||||||||||||||||||||||||||||||||||||||||||||||| (0.7973791546978795)</td></tr><tr><td>aye</td><td style='text-align:left;'>||||||||||||||||||||||||||||||||||||||||||||||||||||||||||||||||||||||||||||| (0.7685100313285866)</td></tr><tr><td>mr</td><td style='text-align:left;'>|||||||||||||||||||||||||||||||||||||||||||||||||||||||||||||||||||||||||||| (0.7607397760018262)</td></tr><tr><td>level</td><td style='text-align:left;'>|||||||||||||||||||||||||||||||||||||||||||||||||||||||||||||||||||||||||||| (0.7601254349337703)</td></tr><tr><td>life</td><td style='text-align:left;'>||||||||||||||||||||||||||||||||||||||||||||||||||||||||||||||||||||||||||| (0.7479825623381939)</td></tr><tr><td>eyes</td><td style='text-align:left;'>||||||||||||||||||||||||||||||||||||||||||||||||||||||||||||||||||||||||||| (0.7460114359527936)</td></tr><tr><td>men</td><td style='text-align:left;'>||||||||||||||||||||||||||||||||||||||||||||||||||||||||||||||||||||||||||| (0.7455034355271077)</td></tr><tr><td>sails</td><td style='text-align:left;'>||||||||||||||||||||||||||||||||||||||||||||||||||||||||||||||||||||||||||| (0.7452489364548708)</td></tr><tr><td>aloft</td><td style='text-align:left;'>|||||||||||||||||||||||||||||||||||||||||||||||||||||||||||||||||||||||||| (0.7400407934475508)</td></tr><tr><td colspan=1><b>9. thunder</b></td></tr><tr><td>loaded</td><td style='text-align:left;'>|||||||||||||||||||||||||||||||||||||||||||||||||||||||||||||||||||||||||||| (0.760762169536426)</td></tr><tr><td>fair</td><td style='text-align:left;'>|||||||||||||||||||||||||||||||||||||||||||||||||||||||||||||||||||||||| (0.7208366895687774)</td></tr><tr><td>come</td><td style='text-align:left;'>||||||||||||||||||||||||||||||||||||||||||||||||||||||||||||||||||||| (0.6899664352424575)</td></tr><tr><td>sensible</td><td style='text-align:left;'>||||||||||||||||||||||||||||||||||||||||||||||||||||||||||||||||||||| (0.6857690329158074)</td></tr><tr><td>yard</td><td style='text-align:left;'>|||||||||||||||||||||||||||||||||||||||||||||||||||||||||||||||||||| (0.6791545422306294)</td></tr><tr><td>pequod</td><td style='text-align:left;'>||||||||||||||||||||||||||||||||||||||||||||||||||||||||||||||||||| (0.6717090590783737)</td></tr><tr><td>mr</td><td style='text-align:left;'>|||||||||||||||||||||||||||||||||||||||||||||||||||||||||||||||||| (0.6557298030963644)</td></tr><tr><td>hast</td><td style='text-align:left;'>||||||||||||||||||||||||||||||||||||||||||||||||||||||||||||||||| (0.6510219755534181)</td></tr><tr><td>log</td><td style='text-align:left;'>||||||||||||||||||||||||||||||||||||||||||||||||||||||||||||||||| (0.6467604122957051)</td></tr><tr><td>masts</td><td style='text-align:left;'>|||||||||||||||||||||||||||||||||||||||||||||||||||||||||||||||| (0.6408504325739355)</td></tr><tr><td colspan=1><b>10. boat</b></td></tr><tr><td>bow</td><td style='text-align:left;'>||||||||||||||||||||||||||||||||||||||||||||||||||||||||||||||||||||||||||||||| (0.7918741018191221)</td></tr><tr><td>cry</td><td style='text-align:left;'>|||||||||||||||||||||||||||||||||||||||||||||||||||||||||||||||||||||||||||||| (0.7813015160887093)</td></tr><tr><td>instantly</td><td style='text-align:left;'>||||||||||||||||||||||||||||||||||||||||||||||||||||||||||||||||||||||||||||| (0.7735045562089691)</td></tr><tr><td>thus</td><td style='text-align:left;'>||||||||||||||||||||||||||||||||||||||||||||||||||||||||||||||||||||||||||||| (0.7675474786669051)</td></tr><tr><td>sight</td><td style='text-align:left;'>|||||||||||||||||||||||||||||||||||||||||||||||||||||||||||||||||||||||||||| (0.7644534396422826)</td></tr><tr><td>line</td><td style='text-align:left;'>|||||||||||||||||||||||||||||||||||||||||||||||||||||||||||||||||||||||||||| (0.7614375560255793)</td></tr><tr><td>voice</td><td style='text-align:left;'>|||||||||||||||||||||||||||||||||||||||||||||||||||||||||||||||||||||||||||| (0.7565780579309715)</td></tr><tr><td>hardly</td><td style='text-align:left;'>||||||||||||||||||||||||||||||||||||||||||||||||||||||||||||||||||||||||||| (0.7499242499292622)</td></tr><tr><td>suddenly</td><td style='text-align:left;'>||||||||||||||||||||||||||||||||||||||||||||||||||||||||||||||||||||||||||| (0.7494386330602659)</td></tr><tr><td>across</td><td style='text-align:left;'>||||||||||||||||||||||||||||||||||||||||||||||||||||||||||||||||||||||||||| (0.7477059382797315)</td></tr><tr><td colspan=1><b>11. oil</b></td></tr><tr><td>drop</td><td style='text-align:left;'>|||||||||||||||||||||||||||||||||||||||||||||||||||||||||||||||||||||||||| (0.7351760100251501)</td></tr><tr><td>call</td><td style='text-align:left;'>|||||||||||||||||||||||||||||||||||||||||||||||||||||||||||||||||||||||| (0.719596190405878)</td></tr><tr><td>nature</td><td style='text-align:left;'>|||||||||||||||||||||||||||||||||||||||||||||||||||||||||||||||||||||||| (0.7177670665364582)</td></tr><tr><td>fact</td><td style='text-align:left;'>|||||||||||||||||||||||||||||||||||||||||||||||||||||||||||||||||||||||| (0.7170762871564036)</td></tr><tr><td>generally</td><td style='text-align:left;'>||||||||||||||||||||||||||||||||||||||||||||||||||||||||||||||||||||||| (0.7099424494848875)</td></tr><tr><td>therefore</td><td style='text-align:left;'>||||||||||||||||||||||||||||||||||||||||||||||||||||||||||||||||||||||| (0.7067476822411716)</td></tr><tr><td>less</td><td style='text-align:left;'>|||||||||||||||||||||||||||||||||||||||||||||||||||||||||||||||||||||| (0.6964267393234558)</td></tr><tr><td>great</td><td style='text-align:left;'>||||||||||||||||||||||||||||||||||||||||||||||||||||||||||||||||||||| (0.6948861984642656)</td></tr><tr><td>means</td><td style='text-align:left;'>||||||||||||||||||||||||||||||||||||||||||||||||||||||||||||||||||||| (0.6878383676159392)</td></tr><tr><td>fish</td><td style='text-align:left;'>|||||||||||||||||||||||||||||||||||||||||||||||||||||||||||||||||||| (0.6832374987466219)</td></tr><tr><td colspan=1><b>12. sperm</b></td></tr><tr><td>whale</td><td style='text-align:left;'>|||||||||||||||||||||||||||||||||||||||||||||||||||||||||||||||||||||||||||||| (0.7804199090332635)</td></tr><tr><td>entire</td><td style='text-align:left;'>|||||||||||||||||||||||||||||||||||||||||||||||||||||||||||||||||||||||||||||| (0.7773563229727978)</td></tr><tr><td>general</td><td style='text-align:left;'>||||||||||||||||||||||||||||||||||||||||||||||||||||||||||||||||||||||||||||| (0.7662097354218536)</td></tr><tr><td>therefore</td><td style='text-align:left;'>|||||||||||||||||||||||||||||||||||||||||||||||||||||||||||||||||||||||||||| (0.7626284387334462)</td></tr><tr><td>point</td><td style='text-align:left;'>||||||||||||||||||||||||||||||||||||||||||||||||||||||||||||||||||||||||||| (0.7508484996056677)</td></tr><tr><td>important</td><td style='text-align:left;'>||||||||||||||||||||||||||||||||||||||||||||||||||||||||||||||||||||||||||| (0.7455440775732485)</td></tr><tr><td>ears</td><td style='text-align:left;'>|||||||||||||||||||||||||||||||||||||||||||||||||||||||||||||||||||||||||| (0.7411285476441425)</td></tr><tr><td>giving</td><td style='text-align:left;'>|||||||||||||||||||||||||||||||||||||||||||||||||||||||||||||||||||||||||| (0.7404482187914403)</td></tr><tr><td>view</td><td style='text-align:left;'>|||||||||||||||||||||||||||||||||||||||||||||||||||||||||||||||||||||||||| (0.7379502374053537)</td></tr><tr><td>free</td><td style='text-align:left;'>|||||||||||||||||||||||||||||||||||||||||||||||||||||||||||||||||||||||||| (0.7377992214358698)</td></tr><tr><td colspan=1><b>13. captain</b></td></tr><tr><td>word</td><td style='text-align:left;'>||||||||||||||||||||||||||||||||||||||||||||||||||||||||||||||||||||||||||||||| (0.7908899334613904)</td></tr><tr><td>think</td><td style='text-align:left;'>||||||||||||||||||||||||||||||||||||||||||||||||||||||||||||||||||||||||||||||| (0.790841136509332)</td></tr><tr><td>said</td><td style='text-align:left;'>||||||||||||||||||||||||||||||||||||||||||||||||||||||||||||||||||||||||||||||| (0.7904973688906085)</td></tr><tr><td>know</td><td style='text-align:left;'>||||||||||||||||||||||||||||||||||||||||||||||||||||||||||||||||||||||||||||||| (0.7856769279024021)</td></tr><tr><td>left</td><td style='text-align:left;'>|||||||||||||||||||||||||||||||||||||||||||||||||||||||||||||||||||||||||||||| (0.7839560535550217)</td></tr><tr><td>nothing</td><td style='text-align:left;'>|||||||||||||||||||||||||||||||||||||||||||||||||||||||||||||||||||||||||||||| (0.7819018316273743)</td></tr><tr><td>board</td><td style='text-align:left;'>|||||||||||||||||||||||||||||||||||||||||||||||||||||||||||||||||||||||||||||| (0.7793720308133523)</td></tr><tr><td>good</td><td style='text-align:left;'>|||||||||||||||||||||||||||||||||||||||||||||||||||||||||||||||||||||||||||||| (0.7790570063875619)</td></tr><tr><td>especially</td><td style='text-align:left;'>||||||||||||||||||||||||||||||||||||||||||||||||||||||||||||||||||||||||||||| (0.7745586654563111)</td></tr><tr><td>anything</td><td style='text-align:left;'>||||||||||||||||||||||||||||||||||||||||||||||||||||||||||||||||||||||||||||| (0.7729975267450474)</td></tr><tr><td colspan=1><b>14. flask</b></td></tr><tr><td>tashtego</td><td style='text-align:left;'>||||||||||||||||||||||||||||||||||||||||||||||||||||||||||||||||||||||| (0.713633535409874)</td></tr><tr><td>daggoo</td><td style='text-align:left;'>||||||||||||||||||||||||||||||||||||||||||||||||||||||||||||||||||||| (0.689379505348342)</td></tr><tr><td>mr</td><td style='text-align:left;'>||||||||||||||||||||||||||||||||||||||||||||||||||||||||||||||||||||| (0.6867314766708201)</td></tr><tr><td>cabin</td><td style='text-align:left;'>|||||||||||||||||||||||||||||||||||||||||||||||||||||||||||||||||||| (0.6768712274611576)</td></tr><tr><td>starbuck</td><td style='text-align:left;'>||||||||||||||||||||||||||||||||||||||||||||||||||||||||||||||||||| (0.669853707529712)</td></tr><tr><td>steward</td><td style='text-align:left;'>||||||||||||||||||||||||||||||||||||||||||||||||||||||||||||||||||| (0.6663497025239435)</td></tr><tr><td>visible</td><td style='text-align:left;'>|||||||||||||||||||||||||||||||||||||||||||||||||||||||||||||||||| (0.6606189993639858)</td></tr><tr><td>gay</td><td style='text-align:left;'>|||||||||||||||||||||||||||||||||||||||||||||||||||||||||||||||||| (0.6589027185126627)</td></tr><tr><td>advance</td><td style='text-align:left;'>|||||||||||||||||||||||||||||||||||||||||||||||||||||||||||||||||| (0.6555077612336064)</td></tr><tr><td>aspect</td><td style='text-align:left;'>|||||||||||||||||||||||||||||||||||||||||||||||||||||||||||||||||| (0.6553029303328786)</td></tr><tr><td colspan=1><b>15. bildad</b></td></tr><tr><td>peleg</td><td style='text-align:left;'>|||||||||||||||||||||||||||||||||||||||||||||||||||||||||||||||||||||||||||||||||||||||||||||||||| (0.9824235406401796)</td></tr><tr><td>mrs</td><td style='text-align:left;'>|||||||||||||||||||||||||||||||||||||||||||||||||||||||||||||||||| (0.660431192370041)</td></tr><tr><td>elijah</td><td style='text-align:left;'>||||||||||||||||||||||||||||||||||||||||||||||||||||||||||||||||| (0.6487461103781693)</td></tr><tr><td>castor</td><td style='text-align:left;'>||||||||||||||||||||||||||||||||||||||||||||||||||||||||||||||||| (0.6468127131326541)</td></tr><tr><td>cod</td><td style='text-align:left;'>|||||||||||||||||||||||||||||||||||||||||||||||||||||||||||||| (0.6218889624400183)</td></tr><tr><td>hussey</td><td style='text-align:left;'>||||||||||||||||||||||||||||||||||||||||||||||||||||||||||||| (0.6124162041783594)</td></tr><tr><td>church</td><td style='text-align:left;'>|||||||||||||||||||||||||||||||||||||||||||||||||||||| (0.5386506126867675)</td></tr><tr><td>chowder</td><td style='text-align:left;'>||||||||||||||||||||||||||||||||||||||||||||||||||| (0.5145638843643064)</td></tr><tr><td>dost</td><td style='text-align:left;'>||||||||||||||||||||||||||||||||||||||||||||||||||| (0.5140305502051026)</td></tr><tr><td>shipmate</td><td style='text-align:left;'>|||||||||||||||||||||||||||||||||||||||||||||||||| (0.5025728873123966)</td></tr><tr><td colspan=1><b>16. said</b></td></tr><tr><td>mean</td><td style='text-align:left;'>||||||||||||||||||||||||||||||||||||||||||||||||||||||||||||||||||||||||||||||||||| (0.8327019994493856)</td></tr><tr><td>going</td><td style='text-align:left;'>|||||||||||||||||||||||||||||||||||||||||||||||||||||||||||||||||||||||||||||||||| (0.8178661895279897)</td></tr><tr><td>board</td><td style='text-align:left;'>||||||||||||||||||||||||||||||||||||||||||||||||||||||||||||||||||||||||||||||||| (0.8117588345626537)</td></tr><tr><td>nothing</td><td style='text-align:left;'>||||||||||||||||||||||||||||||||||||||||||||||||||||||||||||||||||||||||||||||||| (0.8104522901938358)</td></tr><tr><td>morning</td><td style='text-align:left;'>||||||||||||||||||||||||||||||||||||||||||||||||||||||||||||||||||||||||||||||||| (0.8065560792880728)</td></tr><tr><td>better</td><td style='text-align:left;'>|||||||||||||||||||||||||||||||||||||||||||||||||||||||||||||||||||||||||||||||| (0.8015543620075283)</td></tr><tr><td>whaling</td><td style='text-align:left;'>|||||||||||||||||||||||||||||||||||||||||||||||||||||||||||||||||||||||||||||||| (0.7991376347596929)</td></tr><tr><td>good</td><td style='text-align:left;'>|||||||||||||||||||||||||||||||||||||||||||||||||||||||||||||||||||||||||||||||| (0.7988384712061856)</td></tr><tr><td>know</td><td style='text-align:left;'>||||||||||||||||||||||||||||||||||||||||||||||||||||||||||||||||||||||||||||||| (0.7914370372139456)</td></tr><tr><td>captain</td><td style='text-align:left;'>||||||||||||||||||||||||||||||||||||||||||||||||||||||||||||||||||||||||||||||| (0.7904973688906085)</td></tr><tr><td colspan=1><b>17. jonah</b></td></tr><tr><td>shipmates</td><td style='text-align:left;'>|||||||||||||||||||||||||||||||||||||||||||||||||||||||||||||||||||||||||| (0.7431767769169364)</td></tr><tr><td>pulpit</td><td style='text-align:left;'>||||||||||||||||||||||||||||||||||||||||||||||||||||||||||||||||||| (0.6681899667489308)</td></tr><tr><td>mapple</td><td style='text-align:left;'>|||||||||||||||||||||||||||||||||||||||||||||||||||||||||||||||||| (0.663011767903562)</td></tr><tr><td>ladder</td><td style='text-align:left;'>|||||||||||||||||||||||||||||||||||||||||||||||||||||||||||||||||| (0.6579185005053132)</td></tr><tr><td>father</td><td style='text-align:left;'>||||||||||||||||||||||||||||||||||||||||||||||||||||||||||||| (0.6066460515464034)</td></tr><tr><td>delight</td><td style='text-align:left;'>|||||||||||||||||||||||||||||||||||||||||||||||||||||||||||| (0.5967254511469445)</td></tr><tr><td>bedford</td><td style='text-align:left;'>||||||||||||||||||||||||||||||||||||||||||||||||||||||||| (0.5720972997623843)</td></tr><tr><td>tomahawk</td><td style='text-align:left;'>|||||||||||||||||||||||||||||||||||||||||||||||||||||||| (0.5624049377826884)</td></tr><tr><td>idol</td><td style='text-align:left;'>|||||||||||||||||||||||||||||||||||||||||||||||||||||||| (0.5592112169504022)</td></tr><tr><td>sag</td><td style='text-align:left;'>||||||||||||||||||||||||||||||||||||||||||||||||||||| (0.5342348740562265)</td></tr><tr><td colspan=1><b>18. rum</b></td></tr><tr><td>rod</td><td style='text-align:left;'>|||||||||||||||||||||||||||||||||||||||||||||||||||||||||||||||||||||||| (0.7223532216734665)</td></tr><tr><td>um</td><td style='text-align:left;'>||||||||||||||||||||||||||||||||||||||||||||||||||||||||||||||||||||||| (0.7067866731725589)</td></tr><tr><td>medicine</td><td style='text-align:left;'>||||||||||||||||||||||||||||||||||||||||||||||||||||||||||||||| (0.6326794396397484)</td></tr><tr><td>cowards</td><td style='text-align:left;'>||||||||||||||||||||||||||||||||||||||||||||||||||||||||||||||| (0.6253218160932533)</td></tr><tr><td>lightning</td><td style='text-align:left;'>|||||||||||||||||||||||||||||||||||||||||||||||||||||||||||||| (0.6231877736660646)</td></tr><tr><td>log</td><td style='text-align:left;'>||||||||||||||||||||||||||||||||||||||||||||||||||||||||||| (0.5933629640430713)</td></tr><tr><td>manxman</td><td style='text-align:left;'>||||||||||||||||||||||||||||||||||||||||||||||||||||||||||| (0.5919876695582695)</td></tr><tr><td>anchors</td><td style='text-align:left;'>||||||||||||||||||||||||||||||||||||||||||||||||||||||||| (0.570758587654963)</td></tr><tr><td>malady</td><td style='text-align:left;'>|||||||||||||||||||||||||||||||||||||||||||||||||||||||| (0.5587962453422777)</td></tr><tr><td>needles</td><td style='text-align:left;'>||||||||||||||||||||||||||||||||||||||||||||||||||||||| (0.5476356534939455)</td></tr><tr><td colspan=1><b>19. aye</b></td></tr><tr><td>ahab</td><td style='text-align:left;'>||||||||||||||||||||||||||||||||||||||||||||||||||||||||||||||||||||||||||||||||| (0.8121521024984193)</td></tr><tr><td>starbuck</td><td style='text-align:left;'>||||||||||||||||||||||||||||||||||||||||||||||||||||||||||||||||||||||||||||| (0.7685100313285866)</td></tr><tr><td>sails</td><td style='text-align:left;'>|||||||||||||||||||||||||||||||||||||||||||||||||||||||||||||||||||||||||||| (0.7588746948866096)</td></tr><tr><td>deck</td><td style='text-align:left;'>||||||||||||||||||||||||||||||||||||||||||||||||||||||||||||||||||||||||||| (0.7519425373571316)</td></tr><tr><td>sky</td><td style='text-align:left;'>|||||||||||||||||||||||||||||||||||||||||||||||||||||||||||||||||||||||||| (0.7418079699073015)</td></tr><tr><td>quick</td><td style='text-align:left;'>|||||||||||||||||||||||||||||||||||||||||||||||||||||||||||||||||||||||||| (0.7369046913573547)</td></tr><tr><td>ha</td><td style='text-align:left;'>|||||||||||||||||||||||||||||||||||||||||||||||||||||||||||||||||||||||||| (0.7365688666325092)</td></tr><tr><td>boy</td><td style='text-align:left;'>|||||||||||||||||||||||||||||||||||||||||||||||||||||||||||||||||||||||||| (0.7362319321018859)</td></tr><tr><td>aloft</td><td style='text-align:left;'>||||||||||||||||||||||||||||||||||||||||||||||||||||||||||||||||||||||||| (0.7314099008686473)</td></tr><tr><td>top</td><td style='text-align:left;'>||||||||||||||||||||||||||||||||||||||||||||||||||||||||||||||||||||||||| (0.7258616802592233)</td></tr><tr><td colspan=1><b>20. whales</b></td></tr><tr><td>nature</td><td style='text-align:left;'>||||||||||||||||||||||||||||||||||||||||||||||||||||||||||||||||||||||||||||||| (0.7850115710786089)</td></tr><tr><td>fish</td><td style='text-align:left;'>||||||||||||||||||||||||||||||||||||||||||||||||||||||||||||||||||||||||||||| (0.7655571888587576)</td></tr><tr><td>general</td><td style='text-align:left;'>|||||||||||||||||||||||||||||||||||||||||||||||||||||||||||||||||||||||||||| (0.759623964598579)</td></tr><tr><td>grand</td><td style='text-align:left;'>||||||||||||||||||||||||||||||||||||||||||||||||||||||||||||||||||||||||||| (0.7486670326487829)</td></tr><tr><td>generally</td><td style='text-align:left;'>|||||||||||||||||||||||||||||||||||||||||||||||||||||||||||||||||||||||||| (0.7407983673931959)</td></tr><tr><td>whale</td><td style='text-align:left;'>|||||||||||||||||||||||||||||||||||||||||||||||||||||||||||||||||||||||||| (0.740114661811661)</td></tr><tr><td>england</td><td style='text-align:left;'>|||||||||||||||||||||||||||||||||||||||||||||||||||||||||||||||||||||||||| (0.7382052897015823)</td></tr><tr><td>fishermen</td><td style='text-align:left;'>||||||||||||||||||||||||||||||||||||||||||||||||||||||||||||||||||||||||| (0.7343467035242895)</td></tr><tr><td>less</td><td style='text-align:left;'>||||||||||||||||||||||||||||||||||||||||||||||||||||||||||||||||||||||||| (0.7287583492403567)</td></tr><tr><td>species</td><td style='text-align:left;'>|||||||||||||||||||||||||||||||||||||||||||||||||||||||||||||||||||||||| (0.7212103619052304)</td></tr></table>"
      ],
      "text/plain": [
       "<IPython.core.display.HTML object>"
      ]
     },
     "metadata": {},
     "output_type": "display_data"
    }
   ],
   "source": [
    "display(HTML(DETAIL))"
   ]
  },
  {
   "cell_type": "markdown",
   "metadata": {},
   "source": [
    "## Explore term correlations"
   ]
  },
  {
   "cell_type": "code",
   "execution_count": 126,
   "metadata": {},
   "outputs": [],
   "source": [
    "CORR = pd.crosstab(pairs3.x, pairs3.y, pairs3.overlap, aggfunc='sum').fillna(1)"
=======
    "## Create Graph"
>>>>>>> 8f324f8f918c0e4bea9bb48ca0eb50c5bcc3a2fc
   ]
  },
  {
   "cell_type": "code",
<<<<<<< HEAD
   "execution_count": 127,
=======
   "execution_count": 33,
>>>>>>> 8f324f8f918c0e4bea9bb48ca0eb50c5bcc3a2fc
   "metadata": {},
   "outputs": [
    {
     "data": {
      "text/html": [
       "<div>\n",
       "<style scoped>\n",
       "    .dataframe tbody tr th:only-of-type {\n",
       "        vertical-align: middle;\n",
       "    }\n",
       "\n",
       "    .dataframe tbody tr th {\n",
       "        vertical-align: top;\n",
       "    }\n",
       "\n",
       "    .dataframe thead th {\n",
       "        text-align: right;\n",
       "    }\n",
       "</style>\n",
       "<table border=\"1\" class=\"dataframe\">\n",
       "  <thead>\n",
       "    <tr style=\"text-align: right;\">\n",
<<<<<<< HEAD
       "      <th>y</th>\n",
       "      <th>aboard</th>\n",
       "      <th>according</th>\n",
       "      <th>account</th>\n",
       "      <th>across</th>\n",
       "      <th>act</th>\n",
       "      <th>advance</th>\n",
       "      <th>advancing</th>\n",
       "      <th>advocate</th>\n",
       "      <th>aft</th>\n",
       "      <th>afterwards</th>\n",
       "      <th>...</th>\n",
       "      <th>world</th>\n",
       "      <th>worse</th>\n",
       "      <th>wreck</th>\n",
       "      <th>yard</th>\n",
       "      <th>yards</th>\n",
       "      <th>year</th>\n",
       "      <th>years</th>\n",
       "      <th>yes</th>\n",
       "      <th>yonder</th>\n",
       "      <th>young</th>\n",
       "    </tr>\n",
       "    <tr>\n",
       "      <th>x</th>\n",
       "      <th></th>\n",
       "      <th></th>\n",
       "      <th></th>\n",
       "      <th></th>\n",
       "      <th></th>\n",
       "      <th></th>\n",
       "      <th></th>\n",
       "      <th></th>\n",
       "      <th></th>\n",
       "      <th></th>\n",
       "      <th></th>\n",
       "      <th></th>\n",
       "      <th></th>\n",
       "      <th></th>\n",
       "      <th></th>\n",
       "      <th></th>\n",
       "      <th></th>\n",
       "      <th></th>\n",
       "      <th></th>\n",
       "      <th></th>\n",
       "      <th></th>\n",
=======
       "      <th></th>\n",
       "      <th>overlap</th>\n",
       "      <th>x</th>\n",
       "      <th>y</th>\n",
>>>>>>> 8f324f8f918c0e4bea9bb48ca0eb50c5bcc3a2fc
       "    </tr>\n",
       "  </thead>\n",
       "  <tbody>\n",
       "    <tr>\n",
<<<<<<< HEAD
       "      <th>aboard</th>\n",
       "      <td>1.000000</td>\n",
       "      <td>0.418877</td>\n",
       "      <td>0.400122</td>\n",
       "      <td>0.385788</td>\n",
       "      <td>0.324893</td>\n",
       "      <td>0.348126</td>\n",
       "      <td>0.371900</td>\n",
       "      <td>0.329694</td>\n",
       "      <td>0.473519</td>\n",
       "      <td>0.330328</td>\n",
       "      <td>...</td>\n",
       "      <td>0.569676</td>\n",
       "      <td>0.379116</td>\n",
       "      <td>0.253178</td>\n",
       "      <td>0.521235</td>\n",
       "      <td>0.399644</td>\n",
       "      <td>0.398124</td>\n",
       "      <td>0.488135</td>\n",
       "      <td>0.589802</td>\n",
       "      <td>0.318441</td>\n",
       "      <td>0.586771</td>\n",
       "    </tr>\n",
       "    <tr>\n",
       "      <th>according</th>\n",
       "      <td>0.418877</td>\n",
       "      <td>1.000000</td>\n",
       "      <td>0.670902</td>\n",
       "      <td>0.735579</td>\n",
       "      <td>0.601110</td>\n",
       "      <td>0.795133</td>\n",
       "      <td>0.562311</td>\n",
       "      <td>0.149673</td>\n",
       "      <td>0.609451</td>\n",
       "      <td>0.546109</td>\n",
       "      <td>...</td>\n",
       "      <td>0.729661</td>\n",
       "      <td>0.584861</td>\n",
       "      <td>0.454299</td>\n",
       "      <td>0.574499</td>\n",
       "      <td>0.543684</td>\n",
       "      <td>0.638803</td>\n",
       "      <td>0.704986</td>\n",
       "      <td>0.590625</td>\n",
       "      <td>0.457728</td>\n",
       "      <td>0.561706</td>\n",
       "    </tr>\n",
       "    <tr>\n",
       "      <th>account</th>\n",
       "      <td>0.400122</td>\n",
       "      <td>0.670902</td>\n",
       "      <td>1.000000</td>\n",
       "      <td>0.560086</td>\n",
       "      <td>0.503602</td>\n",
       "      <td>0.629609</td>\n",
       "      <td>0.494313</td>\n",
       "      <td>0.188221</td>\n",
       "      <td>0.561603</td>\n",
       "      <td>0.484919</td>\n",
       "      <td>...</td>\n",
       "      <td>0.735039</td>\n",
       "      <td>0.543717</td>\n",
       "      <td>0.330226</td>\n",
       "      <td>0.428200</td>\n",
       "      <td>0.409951</td>\n",
       "      <td>0.651590</td>\n",
       "      <td>0.738596</td>\n",
       "      <td>0.581978</td>\n",
       "      <td>0.539208</td>\n",
       "      <td>0.608302</td>\n",
       "    </tr>\n",
       "    <tr>\n",
       "      <th>across</th>\n",
       "      <td>0.385788</td>\n",
       "      <td>0.735579</td>\n",
       "      <td>0.560086</td>\n",
       "      <td>1.000000</td>\n",
       "      <td>0.650617</td>\n",
       "      <td>0.715956</td>\n",
       "      <td>0.636840</td>\n",
       "      <td>0.063383</td>\n",
       "      <td>0.573447</td>\n",
       "      <td>0.560930</td>\n",
       "      <td>...</td>\n",
       "      <td>0.627240</td>\n",
       "      <td>0.508212</td>\n",
       "      <td>0.481353</td>\n",
       "      <td>0.485806</td>\n",
       "      <td>0.503622</td>\n",
       "      <td>0.521828</td>\n",
       "      <td>0.595663</td>\n",
       "      <td>0.564196</td>\n",
       "      <td>0.442908</td>\n",
       "      <td>0.565058</td>\n",
       "    </tr>\n",
       "    <tr>\n",
       "      <th>act</th>\n",
       "      <td>0.324893</td>\n",
       "      <td>0.601110</td>\n",
       "      <td>0.503602</td>\n",
       "      <td>0.650617</td>\n",
       "      <td>1.000000</td>\n",
       "      <td>0.660543</td>\n",
       "      <td>0.524941</td>\n",
       "      <td>0.044997</td>\n",
       "      <td>0.469716</td>\n",
       "      <td>0.531804</td>\n",
       "      <td>...</td>\n",
       "      <td>0.564160</td>\n",
       "      <td>0.497818</td>\n",
       "      <td>0.394570</td>\n",
       "      <td>0.405218</td>\n",
       "      <td>0.522154</td>\n",
       "      <td>0.408921</td>\n",
       "      <td>0.527553</td>\n",
       "      <td>0.468200</td>\n",
       "      <td>0.448304</td>\n",
       "      <td>0.522855</td>\n",
       "    </tr>\n",
       "  </tbody>\n",
       "</table>\n",
       "<p>5 rows × 997 columns</p>\n",
       "</div>"
      ],
      "text/plain": [
       "y            aboard  according   account    across       act   advance  \\\n",
       "x                                                                        \n",
       "aboard     1.000000   0.418877  0.400122  0.385788  0.324893  0.348126   \n",
       "according  0.418877   1.000000  0.670902  0.735579  0.601110  0.795133   \n",
       "account    0.400122   0.670902  1.000000  0.560086  0.503602  0.629609   \n",
       "across     0.385788   0.735579  0.560086  1.000000  0.650617  0.715956   \n",
       "act        0.324893   0.601110  0.503602  0.650617  1.000000  0.660543   \n",
       "\n",
       "y          advancing  advocate       aft  afterwards    ...        world  \\\n",
       "x                                                       ...                \n",
       "aboard      0.371900  0.329694  0.473519    0.330328    ...     0.569676   \n",
       "according   0.562311  0.149673  0.609451    0.546109    ...     0.729661   \n",
       "account     0.494313  0.188221  0.561603    0.484919    ...     0.735039   \n",
       "across      0.636840  0.063383  0.573447    0.560930    ...     0.627240   \n",
       "act         0.524941  0.044997  0.469716    0.531804    ...     0.564160   \n",
       "\n",
       "y             worse     wreck      yard     yards      year     years  \\\n",
       "x                                                                       \n",
       "aboard     0.379116  0.253178  0.521235  0.399644  0.398124  0.488135   \n",
       "according  0.584861  0.454299  0.574499  0.543684  0.638803  0.704986   \n",
       "account    0.543717  0.330226  0.428200  0.409951  0.651590  0.738596   \n",
       "across     0.508212  0.481353  0.485806  0.503622  0.521828  0.595663   \n",
       "act        0.497818  0.394570  0.405218  0.522154  0.408921  0.527553   \n",
       "\n",
       "y               yes    yonder     young  \n",
       "x                                        \n",
       "aboard     0.589802  0.318441  0.586771  \n",
       "according  0.590625  0.457728  0.561706  \n",
       "account    0.581978  0.539208  0.608302  \n",
       "across     0.564196  0.442908  0.565058  \n",
       "act        0.468200  0.448304  0.522855  \n",
       "\n",
       "[5 rows x 997 columns]"
      ]
     },
     "execution_count": 127,
=======
       "      <th>0</th>\n",
       "      <td>0.087819</td>\n",
       "      <td>aboard</td>\n",
       "      <td>absent</td>\n",
       "    </tr>\n",
       "    <tr>\n",
       "      <th>1</th>\n",
       "      <td>0.242099</td>\n",
       "      <td>aboard</td>\n",
       "      <td>according</td>\n",
       "    </tr>\n",
       "    <tr>\n",
       "      <th>2</th>\n",
       "      <td>0.212079</td>\n",
       "      <td>aboard</td>\n",
       "      <td>account</td>\n",
       "    </tr>\n",
       "    <tr>\n",
       "      <th>3</th>\n",
       "      <td>0.297666</td>\n",
       "      <td>aboard</td>\n",
       "      <td>across</td>\n",
       "    </tr>\n",
       "    <tr>\n",
       "      <th>4</th>\n",
       "      <td>0.180585</td>\n",
       "      <td>aboard</td>\n",
       "      <td>act</td>\n",
       "    </tr>\n",
       "    <tr>\n",
       "      <th>5</th>\n",
       "      <td>0.078033</td>\n",
       "      <td>aboard</td>\n",
       "      <td>action</td>\n",
       "    </tr>\n",
       "    <tr>\n",
       "      <th>6</th>\n",
       "      <td>0.130863</td>\n",
       "      <td>aboard</td>\n",
       "      <td>activity</td>\n",
       "    </tr>\n",
       "    <tr>\n",
       "      <th>7</th>\n",
       "      <td>0.208266</td>\n",
       "      <td>aboard</td>\n",
       "      <td>actually</td>\n",
       "    </tr>\n",
       "    <tr>\n",
       "      <th>8</th>\n",
       "      <td>0.318209</td>\n",
       "      <td>aboard</td>\n",
       "      <td>added</td>\n",
       "    </tr>\n",
       "    <tr>\n",
       "      <th>9</th>\n",
       "      <td>0.193986</td>\n",
       "      <td>aboard</td>\n",
       "      <td>additional</td>\n",
       "    </tr>\n",
       "    <tr>\n",
       "      <th>10</th>\n",
       "      <td>0.220856</td>\n",
       "      <td>aboard</td>\n",
       "      <td>advance</td>\n",
       "    </tr>\n",
       "    <tr>\n",
       "      <th>11</th>\n",
       "      <td>0.279783</td>\n",
       "      <td>aboard</td>\n",
       "      <td>advancing</td>\n",
       "    </tr>\n",
       "    <tr>\n",
       "      <th>12</th>\n",
       "      <td>0.162361</td>\n",
       "      <td>aboard</td>\n",
       "      <td>advocate</td>\n",
       "    </tr>\n",
       "    <tr>\n",
       "      <th>13</th>\n",
       "      <td>0.229232</td>\n",
       "      <td>aboard</td>\n",
       "      <td>affair</td>\n",
       "    </tr>\n",
       "    <tr>\n",
       "      <th>14</th>\n",
       "      <td>0.335941</td>\n",
       "      <td>aboard</td>\n",
       "      <td>aft</td>\n",
       "    </tr>\n",
       "    <tr>\n",
       "      <th>15</th>\n",
       "      <td>0.223737</td>\n",
       "      <td>aboard</td>\n",
       "      <td>afterwards</td>\n",
       "    </tr>\n",
       "    <tr>\n",
       "      <th>16</th>\n",
       "      <td>0.189476</td>\n",
       "      <td>aboard</td>\n",
       "      <td>age</td>\n",
       "    </tr>\n",
       "    <tr>\n",
       "      <th>17</th>\n",
       "      <td>0.297995</td>\n",
       "      <td>aboard</td>\n",
       "      <td>ages</td>\n",
       "    </tr>\n",
       "    <tr>\n",
       "      <th>18</th>\n",
       "      <td>0.223857</td>\n",
       "      <td>aboard</td>\n",
       "      <td>ago</td>\n",
       "    </tr>\n",
       "    <tr>\n",
       "      <th>19</th>\n",
       "      <td>0.271331</td>\n",
       "      <td>aboard</td>\n",
       "      <td>ah</td>\n",
       "    </tr>\n",
       "    <tr>\n",
       "      <th>20</th>\n",
       "      <td>0.268324</td>\n",
       "      <td>aboard</td>\n",
       "      <td>ahab</td>\n",
       "    </tr>\n",
       "    <tr>\n",
       "      <th>21</th>\n",
       "      <td>0.158576</td>\n",
       "      <td>aboard</td>\n",
       "      <td>ahead</td>\n",
       "    </tr>\n",
       "    <tr>\n",
       "      <th>22</th>\n",
       "      <td>0.237357</td>\n",
       "      <td>aboard</td>\n",
       "      <td>air</td>\n",
       "    </tr>\n",
       "    <tr>\n",
       "      <th>23</th>\n",
       "      <td>0.098333</td>\n",
       "      <td>aboard</td>\n",
       "      <td>ale</td>\n",
       "    </tr>\n",
       "    <tr>\n",
       "      <th>24</th>\n",
       "      <td>0.301567</td>\n",
       "      <td>aboard</td>\n",
       "      <td>alive</td>\n",
       "    </tr>\n",
       "    <tr>\n",
       "      <th>25</th>\n",
       "      <td>0.201392</td>\n",
       "      <td>aboard</td>\n",
       "      <td>aloft</td>\n",
       "    </tr>\n",
       "    <tr>\n",
       "      <th>26</th>\n",
       "      <td>0.243323</td>\n",
       "      <td>aboard</td>\n",
       "      <td>alone</td>\n",
       "    </tr>\n",
       "    <tr>\n",
       "      <th>27</th>\n",
       "      <td>0.338635</td>\n",
       "      <td>aboard</td>\n",
       "      <td>along</td>\n",
       "    </tr>\n",
       "    <tr>\n",
       "      <th>28</th>\n",
       "      <td>0.253697</td>\n",
       "      <td>aboard</td>\n",
       "      <td>alongside</td>\n",
       "    </tr>\n",
       "    <tr>\n",
       "      <th>29</th>\n",
       "      <td>0.286877</td>\n",
       "      <td>aboard</td>\n",
       "      <td>already</td>\n",
       "    </tr>\n",
       "    <tr>\n",
       "      <th>...</th>\n",
       "      <td>...</td>\n",
       "      <td>...</td>\n",
       "      <td>...</td>\n",
       "    </tr>\n",
       "    <tr>\n",
       "      <th>1365348</th>\n",
       "      <td>0.491710</td>\n",
       "      <td>young</td>\n",
       "      <td>years</td>\n",
       "    </tr>\n",
       "    <tr>\n",
       "      <th>1365349</th>\n",
       "      <td>0.340177</td>\n",
       "      <td>youth</td>\n",
       "      <td>years</td>\n",
       "    </tr>\n",
       "    <tr>\n",
       "      <th>1365350</th>\n",
       "      <td>0.339970</td>\n",
       "      <td>yes</td>\n",
       "      <td>yellow</td>\n",
       "    </tr>\n",
       "    <tr>\n",
       "      <th>1365351</th>\n",
       "      <td>0.179469</td>\n",
       "      <td>yesterday</td>\n",
       "      <td>yellow</td>\n",
       "    </tr>\n",
       "    <tr>\n",
       "      <th>1365352</th>\n",
       "      <td>0.151626</td>\n",
       "      <td>yield</td>\n",
       "      <td>yellow</td>\n",
       "    </tr>\n",
       "    <tr>\n",
       "      <th>1365353</th>\n",
       "      <td>0.282266</td>\n",
       "      <td>yojo</td>\n",
       "      <td>yellow</td>\n",
       "    </tr>\n",
       "    <tr>\n",
       "      <th>1365354</th>\n",
       "      <td>0.294078</td>\n",
       "      <td>yonder</td>\n",
       "      <td>yellow</td>\n",
       "    </tr>\n",
       "    <tr>\n",
       "      <th>1365355</th>\n",
       "      <td>0.330625</td>\n",
       "      <td>young</td>\n",
       "      <td>yellow</td>\n",
       "    </tr>\n",
       "    <tr>\n",
       "      <th>1365356</th>\n",
       "      <td>0.125113</td>\n",
       "      <td>youth</td>\n",
       "      <td>yellow</td>\n",
       "    </tr>\n",
       "    <tr>\n",
       "      <th>1365357</th>\n",
       "      <td>0.390896</td>\n",
       "      <td>yesterday</td>\n",
       "      <td>yes</td>\n",
       "    </tr>\n",
       "    <tr>\n",
       "      <th>1365358</th>\n",
       "      <td>0.246041</td>\n",
       "      <td>yield</td>\n",
       "      <td>yes</td>\n",
       "    </tr>\n",
       "    <tr>\n",
       "      <th>1365359</th>\n",
       "      <td>0.209660</td>\n",
       "      <td>yojo</td>\n",
       "      <td>yes</td>\n",
       "    </tr>\n",
       "    <tr>\n",
       "      <th>1365360</th>\n",
       "      <td>0.363541</td>\n",
       "      <td>yonder</td>\n",
       "      <td>yes</td>\n",
       "    </tr>\n",
       "    <tr>\n",
       "      <th>1365361</th>\n",
       "      <td>0.484507</td>\n",
       "      <td>young</td>\n",
       "      <td>yes</td>\n",
       "    </tr>\n",
       "    <tr>\n",
       "      <th>1365362</th>\n",
       "      <td>0.382902</td>\n",
       "      <td>youth</td>\n",
       "      <td>yes</td>\n",
       "    </tr>\n",
       "    <tr>\n",
       "      <th>1365363</th>\n",
       "      <td>0.112266</td>\n",
       "      <td>yield</td>\n",
       "      <td>yesterday</td>\n",
       "    </tr>\n",
       "    <tr>\n",
       "      <th>1365364</th>\n",
       "      <td>0.121272</td>\n",
       "      <td>yojo</td>\n",
       "      <td>yesterday</td>\n",
       "    </tr>\n",
       "    <tr>\n",
       "      <th>1365365</th>\n",
       "      <td>0.321405</td>\n",
       "      <td>yonder</td>\n",
       "      <td>yesterday</td>\n",
       "    </tr>\n",
       "    <tr>\n",
       "      <th>1365366</th>\n",
       "      <td>0.238046</td>\n",
       "      <td>young</td>\n",
       "      <td>yesterday</td>\n",
       "    </tr>\n",
       "    <tr>\n",
       "      <th>1365367</th>\n",
       "      <td>0.339394</td>\n",
       "      <td>youth</td>\n",
       "      <td>yesterday</td>\n",
       "    </tr>\n",
       "    <tr>\n",
       "      <th>1365368</th>\n",
       "      <td>0.105091</td>\n",
       "      <td>yojo</td>\n",
       "      <td>yield</td>\n",
       "    </tr>\n",
       "    <tr>\n",
       "      <th>1365369</th>\n",
       "      <td>0.133764</td>\n",
       "      <td>yonder</td>\n",
       "      <td>yield</td>\n",
       "    </tr>\n",
       "    <tr>\n",
       "      <th>1365370</th>\n",
       "      <td>0.249340</td>\n",
       "      <td>young</td>\n",
       "      <td>yield</td>\n",
       "    </tr>\n",
       "    <tr>\n",
       "      <th>1365371</th>\n",
       "      <td>0.203873</td>\n",
       "      <td>youth</td>\n",
       "      <td>yield</td>\n",
       "    </tr>\n",
       "    <tr>\n",
       "      <th>1365372</th>\n",
       "      <td>0.060811</td>\n",
       "      <td>yonder</td>\n",
       "      <td>yojo</td>\n",
       "    </tr>\n",
       "    <tr>\n",
       "      <th>1365373</th>\n",
       "      <td>0.336292</td>\n",
       "      <td>young</td>\n",
       "      <td>yojo</td>\n",
       "    </tr>\n",
       "    <tr>\n",
       "      <th>1365374</th>\n",
       "      <td>0.152745</td>\n",
       "      <td>youth</td>\n",
       "      <td>yojo</td>\n",
       "    </tr>\n",
       "    <tr>\n",
       "      <th>1365375</th>\n",
       "      <td>0.332680</td>\n",
       "      <td>young</td>\n",
       "      <td>yonder</td>\n",
       "    </tr>\n",
       "    <tr>\n",
       "      <th>1365376</th>\n",
       "      <td>0.298938</td>\n",
       "      <td>youth</td>\n",
       "      <td>yonder</td>\n",
       "    </tr>\n",
       "    <tr>\n",
       "      <th>1365377</th>\n",
       "      <td>0.378818</td>\n",
       "      <td>youth</td>\n",
       "      <td>young</td>\n",
       "    </tr>\n",
       "  </tbody>\n",
       "</table>\n",
       "<p>2730756 rows × 3 columns</p>\n",
       "</div>"
      ],
      "text/plain": [
       "          overlap          x           y\n",
       "0        0.087819     aboard      absent\n",
       "1        0.242099     aboard   according\n",
       "2        0.212079     aboard     account\n",
       "3        0.297666     aboard      across\n",
       "4        0.180585     aboard         act\n",
       "5        0.078033     aboard      action\n",
       "6        0.130863     aboard    activity\n",
       "7        0.208266     aboard    actually\n",
       "8        0.318209     aboard       added\n",
       "9        0.193986     aboard  additional\n",
       "10       0.220856     aboard     advance\n",
       "11       0.279783     aboard   advancing\n",
       "12       0.162361     aboard    advocate\n",
       "13       0.229232     aboard      affair\n",
       "14       0.335941     aboard         aft\n",
       "15       0.223737     aboard  afterwards\n",
       "16       0.189476     aboard         age\n",
       "17       0.297995     aboard        ages\n",
       "18       0.223857     aboard         ago\n",
       "19       0.271331     aboard          ah\n",
       "20       0.268324     aboard        ahab\n",
       "21       0.158576     aboard       ahead\n",
       "22       0.237357     aboard         air\n",
       "23       0.098333     aboard         ale\n",
       "24       0.301567     aboard       alive\n",
       "25       0.201392     aboard       aloft\n",
       "26       0.243323     aboard       alone\n",
       "27       0.338635     aboard       along\n",
       "28       0.253697     aboard   alongside\n",
       "29       0.286877     aboard     already\n",
       "...           ...        ...         ...\n",
       "1365348  0.491710      young       years\n",
       "1365349  0.340177      youth       years\n",
       "1365350  0.339970        yes      yellow\n",
       "1365351  0.179469  yesterday      yellow\n",
       "1365352  0.151626      yield      yellow\n",
       "1365353  0.282266       yojo      yellow\n",
       "1365354  0.294078     yonder      yellow\n",
       "1365355  0.330625      young      yellow\n",
       "1365356  0.125113      youth      yellow\n",
       "1365357  0.390896  yesterday         yes\n",
       "1365358  0.246041      yield         yes\n",
       "1365359  0.209660       yojo         yes\n",
       "1365360  0.363541     yonder         yes\n",
       "1365361  0.484507      young         yes\n",
       "1365362  0.382902      youth         yes\n",
       "1365363  0.112266      yield   yesterday\n",
       "1365364  0.121272       yojo   yesterday\n",
       "1365365  0.321405     yonder   yesterday\n",
       "1365366  0.238046      young   yesterday\n",
       "1365367  0.339394      youth   yesterday\n",
       "1365368  0.105091       yojo       yield\n",
       "1365369  0.133764     yonder       yield\n",
       "1365370  0.249340      young       yield\n",
       "1365371  0.203873      youth       yield\n",
       "1365372  0.060811     yonder        yojo\n",
       "1365373  0.336292      young        yojo\n",
       "1365374  0.152745      youth        yojo\n",
       "1365375  0.332680      young      yonder\n",
       "1365376  0.298938      youth      yonder\n",
       "1365377  0.378818      youth       young\n",
       "\n",
       "[2730756 rows x 3 columns]"
      ]
     },
     "execution_count": 33,
>>>>>>> 8f324f8f918c0e4bea9bb48ca0eb50c5bcc3a2fc
     "metadata": {},
     "output_type": "execute_result"
    }
   ],
   "source": [
<<<<<<< HEAD
    "CORR.head()"
=======
    "pairs3"
   ]
  },
  {
   "cell_type": "markdown",
   "metadata": {},
   "source": [
    "## Visualize KDE plots"
>>>>>>> 8f324f8f918c0e4bea9bb48ca0eb50c5bcc3a2fc
   ]
  },
  {
   "cell_type": "code",
<<<<<<< HEAD
   "execution_count": 132,
   "metadata": {},
   "outputs": [],
   "source": [
    "def corr_plot_terms(terms, dtm, title='Foo'):\n",
    "    plt.figure(figsize = (20,20))\n",
    "    print(title)\n",
    "    corr = dtm[terms].corr()\n",
    "    sns.heatmap(corr, vmax=.3, annot=True, center=0, \n",
    "              cmap='RdYlGn',\n",
    "              square=True, linewidths=.5, \n",
    "              cbar_kws={\"shrink\": .5})\n",
    "    plt.show()"
=======
   "execution_count": 45,
   "metadata": {},
   "outputs": [],
   "source": [
    "M = B.apply(lambda x: pd.Series(x.scaled), 1)"
>>>>>>> 8f324f8f918c0e4bea9bb48ca0eb50c5bcc3a2fc
   ]
  },
  {
   "cell_type": "code",
<<<<<<< HEAD
   "execution_count": 129,
   "metadata": {},
   "outputs": [],
   "source": [
    "terms = V.sort_values(vocab_weight, ascending=False).term_str.head(20).tolist()"
=======
   "execution_count": 69,
   "metadata": {},
   "outputs": [],
   "source": [
    "FIG = dict(figsize=(15, 5))"
>>>>>>> 8f324f8f918c0e4bea9bb48ca0eb50c5bcc3a2fc
   ]
  },
  {
   "cell_type": "code",
<<<<<<< HEAD
   "execution_count": 130,
   "metadata": {},
   "outputs": [
    {
     "name": "stdout",
     "output_type": "stream",
     "text": [
      "TEST\n"
     ]
    },
    {
     "data": {
      "image/png": "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\n",
      "text/plain": [
       "<Figure size 1440x1440 with 2 Axes>"
=======
   "execution_count": 70,
   "metadata": {},
   "outputs": [
    {
     "data": {
      "text/plain": [
       "<matplotlib.axes._subplots.AxesSubplot at 0x1a250b7be0>"
      ]
     },
     "execution_count": 70,
     "metadata": {},
     "output_type": "execute_result"
    },
    {
     "data": {
      "image/png": "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\n",
      "text/plain": [
       "<Figure size 1080x360 with 1 Axes>"
>>>>>>> 8f324f8f918c0e4bea9bb48ca0eb50c5bcc3a2fc
      ]
     },
     "metadata": {
      "needs_background": "light"
     },
     "output_type": "display_data"
    }
   ],
   "source": [
<<<<<<< HEAD
    "corr_plot_terms(terms, PLOTS.T, title='TEST')"
   ]
  },
  {
   "cell_type": "markdown",
   "metadata": {},
   "source": [
    "## Export graphs"
=======
    "M.loc['ahab'].plot(**FIG)"
>>>>>>> 8f324f8f918c0e4bea9bb48ca0eb50c5bcc3a2fc
   ]
  },
  {
   "cell_type": "code",
<<<<<<< HEAD
   "execution_count": 176,
   "metadata": {},
   "outputs": [],
   "source": [
    "import networkx as nx\n",
    "G = nx.Graph()\n",
    "edges = pairs[['x','y','overlap']].sort_values('overlap', ascending=False).head(1000).apply(lambda x: (x.x, x.y, x.overlap), axis=1).values\n",
    "G.add_weighted_edges_from(edges)\n",
    "nx.write_gexf(G, \"{}.gexf\".format(slug))"
   ]
  },
  {
   "cell_type": "markdown",
   "metadata": {},
   "source": [
    "# Save"
=======
   "execution_count": 71,
   "metadata": {},
   "outputs": [
    {
     "data": {
      "text/plain": [
       "<matplotlib.axes._subplots.AxesSubplot at 0x1a2536fb70>"
      ]
     },
     "execution_count": 71,
     "metadata": {},
     "output_type": "execute_result"
    },
    {
     "data": {
      "image/png": "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\n",
      "text/plain": [
       "<Figure size 1080x360 with 1 Axes>"
      ]
     },
     "metadata": {
      "needs_background": "light"
     },
     "output_type": "display_data"
    }
   ],
   "source": [
    "M.loc['whale'].plot(**FIG)"
   ]
  },
  {
   "cell_type": "code",
   "execution_count": 72,
   "metadata": {},
   "outputs": [
    {
     "data": {
      "text/plain": [
       "<matplotlib.axes._subplots.AxesSubplot at 0x1a25368c88>"
      ]
     },
     "execution_count": 72,
     "metadata": {},
     "output_type": "execute_result"
    },
    {
     "data": {
      "image/png": "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\n",
      "text/plain": [
       "<Figure size 1080x360 with 1 Axes>"
      ]
     },
     "metadata": {
      "needs_background": "light"
     },
     "output_type": "display_data"
    }
   ],
   "source": [
    "M.loc['ahab'].plot(**FIG)\n",
    "M.loc['deck'].plot(**FIG)"
>>>>>>> 8f324f8f918c0e4bea9bb48ca0eb50c5bcc3a2fc
   ]
  },
  {
   "cell_type": "code",
<<<<<<< HEAD
   "execution_count": 131,
   "metadata": {},
   "outputs": [],
   "source": [
    "with sqlite3.connect(db_file) as db:\n",
    "    pairs.to_sql('term_pair', db, if_exists='replace', index=True)\n",
    "    PLOTS.T.to_sql('term_kde', db, if_exists='replace', index=True)\n",
    "#     vocab.to_sql('vocab', db, if_exists='replace', index=True)"
=======
   "execution_count": 73,
   "metadata": {},
   "outputs": [
    {
     "data": {
      "text/plain": [
       "<matplotlib.axes._subplots.AxesSubplot at 0x1a2531f358>"
      ]
     },
     "execution_count": 73,
     "metadata": {},
     "output_type": "execute_result"
    },
    {
     "data": {
      "image/png": "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\n",
      "text/plain": [
       "<Figure size 1080x360 with 1 Axes>"
      ]
     },
     "metadata": {
      "needs_background": "light"
     },
     "output_type": "display_data"
    }
   ],
   "source": [
    "M.loc['ocean'].plot(**FIG)\n",
    "M.loc['boat'].plot(**FIG)"
>>>>>>> 8f324f8f918c0e4bea9bb48ca0eb50c5bcc3a2fc
   ]
  },
  {
   "cell_type": "code",
   "execution_count": null,
   "metadata": {},
   "outputs": [],
<<<<<<< HEAD
   "source": [
    "# END"
   ]
=======
   "source": []
>>>>>>> 8f324f8f918c0e4bea9bb48ca0eb50c5bcc3a2fc
  }
 ],
 "metadata": {
  "colab": {
   "collapsed_sections": [],
   "name": "DS5559_WordNetworks.ipynb",
   "provenance": [],
   "version": "0.3.2"
  },
  "kernelspec": {
   "display_name": "Python 3",
   "language": "python",
   "name": "python3"
  },
  "language_info": {
   "codemirror_mode": {
    "name": "ipython",
    "version": 3
   },
   "file_extension": ".py",
   "mimetype": "text/x-python",
   "name": "python",
   "nbconvert_exporter": "python",
   "pygments_lexer": "ipython3",
   "version": "3.7.2"
<<<<<<< HEAD
  },
  "toc-autonumbering": false,
  "toc-showcode": false,
  "toc-showmarkdowntxt": false
=======
  }
>>>>>>> 8f324f8f918c0e4bea9bb48ca0eb50c5bcc3a2fc
 },
 "nbformat": 4,
 "nbformat_minor": 2
}
