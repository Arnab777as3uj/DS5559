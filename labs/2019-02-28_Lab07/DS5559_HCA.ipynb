{
 "cells": [
  {
   "cell_type": "code",
   "execution_count": 40,
   "metadata": {},
   "outputs": [],
   "source": [
    "import pandas as pd\n",
    "import sqlite3"
   ]
  },
  {
   "cell_type": "code",
   "execution_count": 41,
   "metadata": {},
   "outputs": [],
   "source": [
    "import scipy.cluster.hierarchy as sch\n",
    "from scipy.spatial.distance import pdist\n",
    "from sklearn.cluster import AgglomerativeClustering"
   ]
  },
  {
   "cell_type": "code",
   "execution_count": 42,
   "metadata": {},
   "outputs": [],
   "source": [
    "import matplotlib.pyplot as plt"
   ]
  },
  {
   "cell_type": "code",
   "execution_count": 43,
   "metadata": {},
   "outputs": [],
   "source": [
    "%matplotlib inline"
   ]
  },
  {
   "cell_type": "code",
   "execution_count": 78,
   "metadata": {},
   "outputs": [],
   "source": [
    "db_file = 'federalist.db'\n",
    "# db_file = '../2019-02-21_Lab06/moby.db'\n",
    "with sqlite3.connect(db_file) as db:\n",
    "    tokens = pd.read_sql(\"SELECT * FROM token\", db)\n",
    "    dtm = pd.read_sql(\"SELECT * FROM dtm_tfidf\", db)"
   ]
  },
  {
   "cell_type": "code",
   "execution_count": 108,
   "metadata": {},
   "outputs": [],
   "source": [
    "labels = tokens.groupby(['chap_num']).token_str.apply(lambda x: ' '.join(x)[16:60]).tolist()"
   ]
  },
  {
   "cell_type": "code",
   "execution_count": 102,
   "metadata": {},
   "outputs": [],
   "source": [
    "M = dtm.set_index(['chap_num', 'term_id']).term_weight.unstack()"
   ]
  },
  {
   "cell_type": "code",
   "execution_count": 119,
   "metadata": {},
   "outputs": [],
   "source": [
    "Z = sch.linkage(pdist(M, metric='jaccard'), method='ward')"
   ]
  },
  {
   "cell_type": "code",
   "execution_count": 120,
   "metadata": {},
   "outputs": [],
   "source": [
    "# Z"
   ]
  },
  {
   "cell_type": "code",
   "execution_count": 121,
   "metadata": {},
   "outputs": [
    {
     "data": {
      "text/plain": [
       "<Figure size 432x288 with 0 Axes>"
      ]
     },
     "metadata": {},
     "output_type": "display_data"
    },
    {
     "data": {
      "image/png": "[encoded data removed]",
      "text/plain": [
       "<Figure size 1440x720 with 1 Axes>"
      ]
     },
     "metadata": {
      "needs_background": "light"
     },
     "output_type": "display_data"
    }
   ],
   "source": [
    "plt.figure()\n",
    "fig, axes = plt.subplots(figsize=(20, 10))\n",
    "tree = sch.dendrogram(Z)\n",
    "plt.tick_params(axis='both', which='major', labelsize=12)\n",
    "# axes.set_xticklabels(labels)"
   ]
  },
  {
   "cell_type": "code",
   "execution_count": 114,
   "metadata": {},
   "outputs": [
    {
     "data": {
      "text/plain": [
       "['1 General Introduction For the Independent J',\n",
       " '2 Concerning Dangers from Foreign Force and ',\n",
       " '3 The Same Subject Continued ( Concerning Da',\n",
       " '4 The Same Subject Continued ( Concerning Da',\n",
       " '5 The Same Subject Continued ( Concerning Da',\n",
       " '6 Concerning Dangers from Dissensions Betwee',\n",
       " '7 The Same Subject Continued ( Concerning Da',\n",
       " '8 The Consequences of Hostilities Between th',\n",
       " '9 The Union as a Safeguard Against Domestic ',\n",
       " '10 The Same Subject Continued ( The Union as',\n",
       " '11 The Utility of the Union in Respect to Co',\n",
       " '12 The Utility of the Union In Respect to Re',\n",
       " '13 Advantage of the Union in Respect to Econ',\n",
       " '14 Objections to the Proposed Constitution F',\n",
       " '15 The Insufficiency of the Present Confeder',\n",
       " '16 The Same Subject Continued ( The Insuffic',\n",
       " '17 The Same Subject Continued ( The Insuffic',\n",
       " '18 The Same Subject Continued ( The Insuffic',\n",
       " '19 The Same Subject Continued ( The Insuffic',\n",
       " '20 The Same Subject Continued ( The Insuffic',\n",
       " '21 Other Defects of the Present Confederatio',\n",
       " '22 The Same Subject Continued ( Other Defect',\n",
       " '23 The Necessity of a Government as Energeti',\n",
       " '24 The Powers Necessary to the Common Defens',\n",
       " '25 The Same Subject Continued ( The Powers N',\n",
       " '26 The Idea of Restraining the Legislative A',\n",
       " '27 The Same Subject Continued ( The Idea of ',\n",
       " '28 The Same Subject Continued ( The Idea of ',\n",
       " '29 Concerning the Militia From the New York ',\n",
       " '30 Concerning the General Power of Taxation ',\n",
       " '31 The Same Subject Continued ( Concerning t',\n",
       " '32 The Same Subject Continued ( Concerning t',\n",
       " '33 The Same Subject Continued ( Concerning t',\n",
       " '34 The Same Subject Continued ( Concerning t',\n",
       " '35 The Same Subject Continued ( Concerning t',\n",
       " '36 The Same Subject Continued ( Concerning t',\n",
       " '37 Concerning the Difficulties of the Conven',\n",
       " '38 The Same Subject Continued , and the Inco',\n",
       " '39 The Conformity of the Plan to Republican ',\n",
       " '40 On the Powers of the Convention to Form a',\n",
       " '41 General View of the Powers Conferred by T',\n",
       " '42 The Powers Conferred by the Constitution ',\n",
       " '43 The Same Subject Continued ( The Powers C',\n",
       " '44 Restrictions on the Authority of the Seve',\n",
       " '45 The Alleged Danger From the Powers of the',\n",
       " '46 The Influence of the State and Federal Go',\n",
       " '47 The Particular Structure of the New Gover',\n",
       " '48 These Departments Should Not Be So Far Se',\n",
       " '49 Method of Guarding Against the Encroachme',\n",
       " '50 Periodical Appeals to the People Consider',\n",
       " '51 The Structure of the Government Must Furn',\n",
       " '52 The House of Representatives From the New',\n",
       " '53 The Same Subject Continued ( The House of',\n",
       " '54 The Apportionment of Members Among the St',\n",
       " '55 The Total Number of the House of Represen',\n",
       " '56 The Same Subject Continued ( The Total Nu',\n",
       " '57 The Alleged Tendency of the New Plan to E',\n",
       " '58 Objection That The Number of Members Will',\n",
       " '59 Concerning the Power of Congress to Regul',\n",
       " '60 The Same Subject Continued ( Concerning t',\n",
       " '61 The Same Subject Continued ( Concerning t',\n",
       " '62 The Senate For the Independent Journal . ',\n",
       " '63 The Senate Continued For the Independent ',\n",
       " '64 The Powers of the Senate From The Indepen',\n",
       " '65 The Powers of the Senate Continued From t',\n",
       " '66 Objections to the Power of the Senate To ',\n",
       " '67 The Executive Department From the New Yor',\n",
       " '68 The Mode of Electing the President From T',\n",
       " '69 The Real Character of the Executive From ',\n",
       " '70 The Executive Department Further Consider',\n",
       " '71 The Duration in Office of the Executive F',\n",
       " '72 The Same Subject Continued , and Re - Eli',\n",
       " '73 The Provision For The Support of the Exec',\n",
       " '74 The Command of the Military and Naval For',\n",
       " '75 The Treaty - Making Power of the Executiv',\n",
       " '76 The Appointing Power of the Executive Fro',\n",
       " '77 The Appointing Power Continued and Other ',\n",
       " \"78 The Judiciary Department From McLEAN ' S \",\n",
       " \"79 The Judiciary Continued From MCLEAN ' s E\",\n",
       " \"80 The Powers of the Judiciary From McLEAN '\",\n",
       " '81 The Judiciary Continued , and the Distrib',\n",
       " \"82 The Judiciary Continued . From McLEAN ' s\",\n",
       " '83 The Judiciary Continued in Relation to Tr',\n",
       " '84 Certain General and Miscellaneous Objecti',\n",
       " \"85 Concluding Remarks From MCLEAN ' s Editio\"]"
      ]
     },
     "execution_count": 114,
     "metadata": {},
     "output_type": "execute_result"
    }
   ],
   "source": [
    "labels"
   ]
  },
  {
   "cell_type": "code",
   "execution_count": null,
   "metadata": {},
   "outputs": [],
   "source": []
  }
 ],
 "metadata": {
  "kernelspec": {
   "display_name": "Python 3",
   "language": "python",
   "name": "python3"
  },
  "language_info": {
   "codemirror_mode": {
    "name": "ipython",
    "version": 3
   },
   "file_extension": ".py",
   "mimetype": "text/x-python",
   "name": "python",
   "nbconvert_exporter": "python",
   "pygments_lexer": "ipython3",
   "version": "3.7.2"
  }
 },
 "nbformat": 4,
 "nbformat_minor": 2
}
